{
 "cells": [
  {
   "cell_type": "markdown",
   "id": "political-scheduling",
   "metadata": {},
   "source": [
    "# The basics of market basket analysis"
   ]
  },
  {
   "cell_type": "markdown",
   "id": "joint-magic",
   "metadata": {},
   "source": [
    "Market basket analysis uses lists of transactions to identify useful associations between items. Such associations can be written in the form of a rule that has an antecedent and a consequent. Let's assume a small grocery store has asked you to look at their transaction data. After some analysis, you find the rule given below."
   ]
  },
  {
   "cell_type": "code",
   "execution_count": 1,
   "id": "existing-feature",
   "metadata": {
    "ExecuteTime": {
     "end_time": "2021-06-20T23:57:19.329430Z",
     "start_time": "2021-06-20T23:57:13.040167Z"
    }
   },
   "outputs": [],
   "source": [
    "import pandas as pd \n",
    "import numpy as np\n",
    "from scipy.stats import ttest_ind\n",
    "import seaborn as sns\n",
    "import matplotlib.pyplot as plt\n",
    "\n",
    "from tweepy import OAuthHandler\n",
    "from tweepy import API\n",
    "from tweepy import Stream\n",
    "import json\n",
    "\n",
    "from itertools import permutations\n",
    "\n",
    "from mlxtend.frequent_patterns import association_rules\n",
    "from mlxtend.frequent_patterns import apriori\n",
    "from mlxtend.preprocessing import TransactionEncoder\n",
    "\n",
    "sns.set_style('darkgrid')"
   ]
  },
  {
   "cell_type": "markdown",
   "id": "elder-kruger",
   "metadata": {},
   "source": [
    "## Read Datasets"
   ]
  },
  {
   "cell_type": "markdown",
   "id": "genuine-inspiration",
   "metadata": {},
   "source": [
    "### Movies"
   ]
  },
  {
   "cell_type": "code",
   "execution_count": null,
   "id": "opening-nowhere",
   "metadata": {
    "ExecuteTime": {
     "end_time": "2021-06-19T23:05:37.164823Z",
     "start_time": "2021-06-19T23:05:37.116955Z"
    }
   },
   "outputs": [],
   "source": [
    "movies = pd.read_csv('movielens_movies.csv')\n",
    "movies.head()"
   ]
  },
  {
   "cell_type": "code",
   "execution_count": null,
   "id": "major-smell",
   "metadata": {
    "ExecuteTime": {
     "end_time": "2021-06-20T22:29:08.240017Z",
     "start_time": "2021-06-20T22:29:08.030573Z"
    }
   },
   "outputs": [],
   "source": [
    "genres = movies['genres'].apply(lambda t: t.split('|'))\n",
    "genres = list(genres)\n",
    "genres"
   ]
  },
  {
   "cell_type": "code",
   "execution_count": null,
   "id": "structural-cylinder",
   "metadata": {
    "ExecuteTime": {
     "end_time": "2021-06-20T22:29:41.562257Z",
     "start_time": "2021-06-20T22:29:41.551254Z"
    }
   },
   "outputs": [],
   "source": [
    "movies['genres'].value_counts()"
   ]
  },
  {
   "cell_type": "markdown",
   "id": "twenty-mention",
   "metadata": {},
   "source": [
    "### Books "
   ]
  },
  {
   "cell_type": "code",
   "execution_count": 9,
   "id": "anticipated-rebound",
   "metadata": {
    "ExecuteTime": {
     "end_time": "2021-06-21T00:00:20.708889Z",
     "start_time": "2021-06-21T00:00:20.681962Z"
    }
   },
   "outputs": [
    {
     "data": {
      "text/html": [
       "<div>\n",
       "<style scoped>\n",
       "    .dataframe tbody tr th:only-of-type {\n",
       "        vertical-align: middle;\n",
       "    }\n",
       "\n",
       "    .dataframe tbody tr th {\n",
       "        vertical-align: top;\n",
       "    }\n",
       "\n",
       "    .dataframe thead th {\n",
       "        text-align: right;\n",
       "    }\n",
       "</style>\n",
       "<table border=\"1\" class=\"dataframe\">\n",
       "  <thead>\n",
       "    <tr style=\"text-align: right;\">\n",
       "      <th></th>\n",
       "      <th>Transaction</th>\n",
       "    </tr>\n",
       "  </thead>\n",
       "  <tbody>\n",
       "    <tr>\n",
       "      <th>0</th>\n",
       "      <td>History,Bookmark</td>\n",
       "    </tr>\n",
       "    <tr>\n",
       "      <th>1</th>\n",
       "      <td>History,Bookmark</td>\n",
       "    </tr>\n",
       "    <tr>\n",
       "      <th>2</th>\n",
       "      <td>Fiction,Bookmark</td>\n",
       "    </tr>\n",
       "    <tr>\n",
       "      <th>3</th>\n",
       "      <td>Biography,Bookmark</td>\n",
       "    </tr>\n",
       "    <tr>\n",
       "      <th>4</th>\n",
       "      <td>History,Bookmark</td>\n",
       "    </tr>\n",
       "  </tbody>\n",
       "</table>\n",
       "</div>"
      ],
      "text/plain": [
       "          Transaction\n",
       "0    History,Bookmark\n",
       "1    History,Bookmark\n",
       "2    Fiction,Bookmark\n",
       "3  Biography,Bookmark\n",
       "4    History,Bookmark"
      ]
     },
     "execution_count": 9,
     "metadata": {},
     "output_type": "execute_result"
    }
   ],
   "source": [
    "bookstore = pd.read_csv('bookstore_transactions.csv')\n",
    "bookstore.head()"
   ]
  },
  {
   "cell_type": "code",
   "execution_count": 15,
   "id": "beneficial-wrestling",
   "metadata": {
    "ExecuteTime": {
     "end_time": "2021-06-21T00:00:41.732668Z",
     "start_time": "2021-06-21T00:00:41.722694Z"
    }
   },
   "outputs": [
    {
     "data": {
      "text/plain": [
       "[['History', 'Bookmark'],\n",
       " ['History', 'Bookmark'],\n",
       " ['Fiction', 'Bookmark'],\n",
       " ['Biography', 'Bookmark'],\n",
       " ['History', 'Bookmark'],\n",
       " ['Poetry', 'Bookmark'],\n",
       " ['Biography', 'Bookmark'],\n",
       " ['Poetry', 'Bookmark'],\n",
       " ['Biography', 'Bookmark'],\n",
       " ['Biography', 'Bookmark'],\n",
       " ['History', 'Bookmark'],\n",
       " ['Fiction', 'Bookmark'],\n",
       " ['History', 'Bookmark'],\n",
       " ['Biography', 'Bookmark'],\n",
       " ['Poetry', 'Bookmark'],\n",
       " ['Biography', 'Bookmark'],\n",
       " ['Fiction', 'Bookmark'],\n",
       " ['Biography', 'Bookmark'],\n",
       " ['Poetry', 'Bookmark'],\n",
       " ['History', 'Bookmark'],\n",
       " ['History', 'Bookmark'],\n",
       " ['Poetry', 'Bookmark'],\n",
       " ['Fiction', 'Bookmark'],\n",
       " ['History', 'Bookmark'],\n",
       " ['Biography', 'Bookmark'],\n",
       " ['Biography', 'Bookmark'],\n",
       " ['Fiction', 'Bookmark'],\n",
       " ['Biography', 'Bookmark'],\n",
       " ['History', 'Bookmark'],\n",
       " ['Fiction', 'Bookmark'],\n",
       " ['History', 'Bookmark'],\n",
       " ['History', 'Bookmark'],\n",
       " ['Biography', 'Bookmark'],\n",
       " ['Biography', 'Bookmark'],\n",
       " ['History', 'Bookmark'],\n",
       " ['History', 'Bookmark'],\n",
       " ['Biography', 'Bookmark'],\n",
       " ['Biography', 'Bookmark'],\n",
       " ['Fiction', 'Bookmark'],\n",
       " ['Fiction', 'Bookmark'],\n",
       " ['Biography', 'Bookmark'],\n",
       " ['Biography', 'Bookmark'],\n",
       " ['Biography', 'Bookmark'],\n",
       " ['Fiction', 'Bookmark'],\n",
       " ['History', 'Bookmark'],\n",
       " ['Biography', 'Bookmark'],\n",
       " ['History', 'Bookmark'],\n",
       " ['Biography', 'Bookmark'],\n",
       " ['Fiction', 'Bookmark'],\n",
       " ['History', 'Bookmark'],\n",
       " ['Fiction', 'Bookmark'],\n",
       " ['Fiction', 'Bookmark'],\n",
       " ['Biography', 'Bookmark'],\n",
       " ['Biography', 'Bookmark'],\n",
       " ['Fiction', 'Bookmark'],\n",
       " ['Poetry', 'Bookmark'],\n",
       " ['Biography', 'Bookmark'],\n",
       " ['Fiction', 'Bookmark'],\n",
       " ['Biography', 'Bookmark'],\n",
       " ['Biography', 'Bookmark'],\n",
       " ['Poetry', 'Bookmark'],\n",
       " ['History', 'Bookmark'],\n",
       " ['Fiction', 'Bookmark'],\n",
       " ['History', 'Bookmark'],\n",
       " ['Biography', 'Bookmark'],\n",
       " ['Fiction', 'Bookmark'],\n",
       " ['Biography', 'Bookmark'],\n",
       " ['Fiction', 'Bookmark'],\n",
       " ['Fiction', 'Bookmark'],\n",
       " ['History', 'Bookmark'],\n",
       " ['History', 'Bookmark'],\n",
       " ['Biography', 'Bookmark'],\n",
       " ['Biography', 'Bookmark'],\n",
       " ['Biography', 'Bookmark'],\n",
       " ['History', 'Bookmark'],\n",
       " ['Fiction', 'Bookmark'],\n",
       " ['Poetry', 'Bookmark'],\n",
       " ['Fiction', 'Bookmark'],\n",
       " ['Biography', 'Bookmark'],\n",
       " ['History', 'Bookmark'],\n",
       " ['Biography', 'Bookmark'],\n",
       " ['Biography', 'Bookmark'],\n",
       " ['Fiction', 'Bookmark'],\n",
       " ['Fiction', 'Bookmark'],\n",
       " ['Biography', 'Bookmark'],\n",
       " ['History', 'Bookmark'],\n",
       " ['Biography', 'Bookmark'],\n",
       " ['Fiction', 'Bookmark'],\n",
       " ['Biography', 'Bookmark'],\n",
       " ['Fiction', 'Bookmark'],\n",
       " ['Fiction', 'Bookmark'],\n",
       " ['Biography', 'Bookmark'],\n",
       " ['Biography', 'Bookmark'],\n",
       " ['History', 'Bookmark'],\n",
       " ['Biography', 'Bookmark'],\n",
       " ['Poetry', 'Bookmark'],\n",
       " ['History', 'Bookmark'],\n",
       " ['Biography', 'Bookmark'],\n",
       " ['Biography', 'Bookmark']]"
      ]
     },
     "execution_count": 15,
     "metadata": {},
     "output_type": "execute_result"
    }
   ],
   "source": [
    "transactions = bookstore['Transaction'].apply(lambda t: t.split(','))\n",
    "transactions = list(transactions)\n",
    "transactions"
   ]
  },
  {
   "cell_type": "code",
   "execution_count": 11,
   "id": "hungry-sydney",
   "metadata": {
    "ExecuteTime": {
     "end_time": "2021-06-21T00:00:26.966402Z",
     "start_time": "2021-06-21T00:00:26.947421Z"
    }
   },
   "outputs": [
    {
     "data": {
      "text/plain": [
       "Biography,Bookmark    40\n",
       "History,Bookmark      25\n",
       "Fiction,Bookmark      25\n",
       "Poetry,Bookmark        9\n",
       "Name: Transaction, dtype: int64"
      ]
     },
     "execution_count": 11,
     "metadata": {},
     "output_type": "execute_result"
    }
   ],
   "source": [
    "bookstore['Transaction'].value_counts()"
   ]
  },
  {
   "cell_type": "markdown",
   "id": "electric-suicide",
   "metadata": {},
   "source": [
    "## Identifying association rules"
   ]
  },
  {
   "cell_type": "markdown",
   "id": "authorized-sender",
   "metadata": {},
   "source": [
    "Market basket analysis revolves around the use of association rules, which are if-then statements about the relationship between two sets of items. The rule {coffee} -> {milk}, for instance, is read as \"if coffee then milk,\" where coffee is the antecedent and milk is the consequent. Many rules have multiple antecedents and consequents. "
   ]
  },
  {
   "cell_type": "code",
   "execution_count": 12,
   "id": "proved-banner",
   "metadata": {
    "ExecuteTime": {
     "end_time": "2021-06-21T00:00:30.034231Z",
     "start_time": "2021-06-21T00:00:30.018610Z"
    }
   },
   "outputs": [],
   "source": [
    "#Extract unique items\n",
    "flattened = [item for transaction in transactions for item in transaction]\n",
    "items = list(set(flattened))"
   ]
  },
  {
   "cell_type": "code",
   "execution_count": 13,
   "id": "greek-gossip",
   "metadata": {
    "ExecuteTime": {
     "end_time": "2021-06-21T00:00:31.684684Z",
     "start_time": "2021-06-21T00:00:31.667996Z"
    }
   },
   "outputs": [
    {
     "data": {
      "text/plain": [
       "['Bookmark', 'Biography', 'Fiction', 'Poetry', 'History']"
      ]
     },
     "execution_count": 13,
     "metadata": {},
     "output_type": "execute_result"
    }
   ],
   "source": [
    "items"
   ]
  },
  {
   "cell_type": "code",
   "execution_count": 14,
   "id": "bound-observer",
   "metadata": {
    "ExecuteTime": {
     "end_time": "2021-06-21T00:00:33.990796Z",
     "start_time": "2021-06-21T00:00:33.973854Z"
    }
   },
   "outputs": [
    {
     "data": {
      "text/plain": [
       "[('Bookmark', 'Biography', 'Fiction', 'Poetry', 'History'),\n",
       " ('Bookmark', 'Biography', 'Fiction', 'History', 'Poetry'),\n",
       " ('Bookmark', 'Biography', 'Poetry', 'Fiction', 'History'),\n",
       " ('Bookmark', 'Biography', 'Poetry', 'History', 'Fiction'),\n",
       " ('Bookmark', 'Biography', 'History', 'Fiction', 'Poetry'),\n",
       " ('Bookmark', 'Biography', 'History', 'Poetry', 'Fiction'),\n",
       " ('Bookmark', 'Fiction', 'Biography', 'Poetry', 'History'),\n",
       " ('Bookmark', 'Fiction', 'Biography', 'History', 'Poetry'),\n",
       " ('Bookmark', 'Fiction', 'Poetry', 'Biography', 'History'),\n",
       " ('Bookmark', 'Fiction', 'Poetry', 'History', 'Biography'),\n",
       " ('Bookmark', 'Fiction', 'History', 'Biography', 'Poetry'),\n",
       " ('Bookmark', 'Fiction', 'History', 'Poetry', 'Biography'),\n",
       " ('Bookmark', 'Poetry', 'Biography', 'Fiction', 'History'),\n",
       " ('Bookmark', 'Poetry', 'Biography', 'History', 'Fiction'),\n",
       " ('Bookmark', 'Poetry', 'Fiction', 'Biography', 'History'),\n",
       " ('Bookmark', 'Poetry', 'Fiction', 'History', 'Biography'),\n",
       " ('Bookmark', 'Poetry', 'History', 'Biography', 'Fiction'),\n",
       " ('Bookmark', 'Poetry', 'History', 'Fiction', 'Biography'),\n",
       " ('Bookmark', 'History', 'Biography', 'Fiction', 'Poetry'),\n",
       " ('Bookmark', 'History', 'Biography', 'Poetry', 'Fiction'),\n",
       " ('Bookmark', 'History', 'Fiction', 'Biography', 'Poetry'),\n",
       " ('Bookmark', 'History', 'Fiction', 'Poetry', 'Biography'),\n",
       " ('Bookmark', 'History', 'Poetry', 'Biography', 'Fiction'),\n",
       " ('Bookmark', 'History', 'Poetry', 'Fiction', 'Biography'),\n",
       " ('Biography', 'Bookmark', 'Fiction', 'Poetry', 'History'),\n",
       " ('Biography', 'Bookmark', 'Fiction', 'History', 'Poetry'),\n",
       " ('Biography', 'Bookmark', 'Poetry', 'Fiction', 'History'),\n",
       " ('Biography', 'Bookmark', 'Poetry', 'History', 'Fiction'),\n",
       " ('Biography', 'Bookmark', 'History', 'Fiction', 'Poetry'),\n",
       " ('Biography', 'Bookmark', 'History', 'Poetry', 'Fiction'),\n",
       " ('Biography', 'Fiction', 'Bookmark', 'Poetry', 'History'),\n",
       " ('Biography', 'Fiction', 'Bookmark', 'History', 'Poetry'),\n",
       " ('Biography', 'Fiction', 'Poetry', 'Bookmark', 'History'),\n",
       " ('Biography', 'Fiction', 'Poetry', 'History', 'Bookmark'),\n",
       " ('Biography', 'Fiction', 'History', 'Bookmark', 'Poetry'),\n",
       " ('Biography', 'Fiction', 'History', 'Poetry', 'Bookmark'),\n",
       " ('Biography', 'Poetry', 'Bookmark', 'Fiction', 'History'),\n",
       " ('Biography', 'Poetry', 'Bookmark', 'History', 'Fiction'),\n",
       " ('Biography', 'Poetry', 'Fiction', 'Bookmark', 'History'),\n",
       " ('Biography', 'Poetry', 'Fiction', 'History', 'Bookmark'),\n",
       " ('Biography', 'Poetry', 'History', 'Bookmark', 'Fiction'),\n",
       " ('Biography', 'Poetry', 'History', 'Fiction', 'Bookmark'),\n",
       " ('Biography', 'History', 'Bookmark', 'Fiction', 'Poetry'),\n",
       " ('Biography', 'History', 'Bookmark', 'Poetry', 'Fiction'),\n",
       " ('Biography', 'History', 'Fiction', 'Bookmark', 'Poetry'),\n",
       " ('Biography', 'History', 'Fiction', 'Poetry', 'Bookmark'),\n",
       " ('Biography', 'History', 'Poetry', 'Bookmark', 'Fiction'),\n",
       " ('Biography', 'History', 'Poetry', 'Fiction', 'Bookmark'),\n",
       " ('Fiction', 'Bookmark', 'Biography', 'Poetry', 'History'),\n",
       " ('Fiction', 'Bookmark', 'Biography', 'History', 'Poetry'),\n",
       " ('Fiction', 'Bookmark', 'Poetry', 'Biography', 'History'),\n",
       " ('Fiction', 'Bookmark', 'Poetry', 'History', 'Biography'),\n",
       " ('Fiction', 'Bookmark', 'History', 'Biography', 'Poetry'),\n",
       " ('Fiction', 'Bookmark', 'History', 'Poetry', 'Biography'),\n",
       " ('Fiction', 'Biography', 'Bookmark', 'Poetry', 'History'),\n",
       " ('Fiction', 'Biography', 'Bookmark', 'History', 'Poetry'),\n",
       " ('Fiction', 'Biography', 'Poetry', 'Bookmark', 'History'),\n",
       " ('Fiction', 'Biography', 'Poetry', 'History', 'Bookmark'),\n",
       " ('Fiction', 'Biography', 'History', 'Bookmark', 'Poetry'),\n",
       " ('Fiction', 'Biography', 'History', 'Poetry', 'Bookmark'),\n",
       " ('Fiction', 'Poetry', 'Bookmark', 'Biography', 'History'),\n",
       " ('Fiction', 'Poetry', 'Bookmark', 'History', 'Biography'),\n",
       " ('Fiction', 'Poetry', 'Biography', 'Bookmark', 'History'),\n",
       " ('Fiction', 'Poetry', 'Biography', 'History', 'Bookmark'),\n",
       " ('Fiction', 'Poetry', 'History', 'Bookmark', 'Biography'),\n",
       " ('Fiction', 'Poetry', 'History', 'Biography', 'Bookmark'),\n",
       " ('Fiction', 'History', 'Bookmark', 'Biography', 'Poetry'),\n",
       " ('Fiction', 'History', 'Bookmark', 'Poetry', 'Biography'),\n",
       " ('Fiction', 'History', 'Biography', 'Bookmark', 'Poetry'),\n",
       " ('Fiction', 'History', 'Biography', 'Poetry', 'Bookmark'),\n",
       " ('Fiction', 'History', 'Poetry', 'Bookmark', 'Biography'),\n",
       " ('Fiction', 'History', 'Poetry', 'Biography', 'Bookmark'),\n",
       " ('Poetry', 'Bookmark', 'Biography', 'Fiction', 'History'),\n",
       " ('Poetry', 'Bookmark', 'Biography', 'History', 'Fiction'),\n",
       " ('Poetry', 'Bookmark', 'Fiction', 'Biography', 'History'),\n",
       " ('Poetry', 'Bookmark', 'Fiction', 'History', 'Biography'),\n",
       " ('Poetry', 'Bookmark', 'History', 'Biography', 'Fiction'),\n",
       " ('Poetry', 'Bookmark', 'History', 'Fiction', 'Biography'),\n",
       " ('Poetry', 'Biography', 'Bookmark', 'Fiction', 'History'),\n",
       " ('Poetry', 'Biography', 'Bookmark', 'History', 'Fiction'),\n",
       " ('Poetry', 'Biography', 'Fiction', 'Bookmark', 'History'),\n",
       " ('Poetry', 'Biography', 'Fiction', 'History', 'Bookmark'),\n",
       " ('Poetry', 'Biography', 'History', 'Bookmark', 'Fiction'),\n",
       " ('Poetry', 'Biography', 'History', 'Fiction', 'Bookmark'),\n",
       " ('Poetry', 'Fiction', 'Bookmark', 'Biography', 'History'),\n",
       " ('Poetry', 'Fiction', 'Bookmark', 'History', 'Biography'),\n",
       " ('Poetry', 'Fiction', 'Biography', 'Bookmark', 'History'),\n",
       " ('Poetry', 'Fiction', 'Biography', 'History', 'Bookmark'),\n",
       " ('Poetry', 'Fiction', 'History', 'Bookmark', 'Biography'),\n",
       " ('Poetry', 'Fiction', 'History', 'Biography', 'Bookmark'),\n",
       " ('Poetry', 'History', 'Bookmark', 'Biography', 'Fiction'),\n",
       " ('Poetry', 'History', 'Bookmark', 'Fiction', 'Biography'),\n",
       " ('Poetry', 'History', 'Biography', 'Bookmark', 'Fiction'),\n",
       " ('Poetry', 'History', 'Biography', 'Fiction', 'Bookmark'),\n",
       " ('Poetry', 'History', 'Fiction', 'Bookmark', 'Biography'),\n",
       " ('Poetry', 'History', 'Fiction', 'Biography', 'Bookmark'),\n",
       " ('History', 'Bookmark', 'Biography', 'Fiction', 'Poetry'),\n",
       " ('History', 'Bookmark', 'Biography', 'Poetry', 'Fiction'),\n",
       " ('History', 'Bookmark', 'Fiction', 'Biography', 'Poetry'),\n",
       " ('History', 'Bookmark', 'Fiction', 'Poetry', 'Biography'),\n",
       " ('History', 'Bookmark', 'Poetry', 'Biography', 'Fiction'),\n",
       " ('History', 'Bookmark', 'Poetry', 'Fiction', 'Biography'),\n",
       " ('History', 'Biography', 'Bookmark', 'Fiction', 'Poetry'),\n",
       " ('History', 'Biography', 'Bookmark', 'Poetry', 'Fiction'),\n",
       " ('History', 'Biography', 'Fiction', 'Bookmark', 'Poetry'),\n",
       " ('History', 'Biography', 'Fiction', 'Poetry', 'Bookmark'),\n",
       " ('History', 'Biography', 'Poetry', 'Bookmark', 'Fiction'),\n",
       " ('History', 'Biography', 'Poetry', 'Fiction', 'Bookmark'),\n",
       " ('History', 'Fiction', 'Bookmark', 'Biography', 'Poetry'),\n",
       " ('History', 'Fiction', 'Bookmark', 'Poetry', 'Biography'),\n",
       " ('History', 'Fiction', 'Biography', 'Bookmark', 'Poetry'),\n",
       " ('History', 'Fiction', 'Biography', 'Poetry', 'Bookmark'),\n",
       " ('History', 'Fiction', 'Poetry', 'Bookmark', 'Biography'),\n",
       " ('History', 'Fiction', 'Poetry', 'Biography', 'Bookmark'),\n",
       " ('History', 'Poetry', 'Bookmark', 'Biography', 'Fiction'),\n",
       " ('History', 'Poetry', 'Bookmark', 'Fiction', 'Biography'),\n",
       " ('History', 'Poetry', 'Biography', 'Bookmark', 'Fiction'),\n",
       " ('History', 'Poetry', 'Biography', 'Fiction', 'Bookmark'),\n",
       " ('History', 'Poetry', 'Fiction', 'Bookmark', 'Biography'),\n",
       " ('History', 'Poetry', 'Fiction', 'Biography', 'Bookmark')]"
      ]
     },
     "execution_count": 14,
     "metadata": {},
     "output_type": "execute_result"
    }
   ],
   "source": [
    "# Compute and print rules\n",
    "bookstore_rules = list(permutations(items))\n",
    "bookstore_rules"
   ]
  },
  {
   "cell_type": "code",
   "execution_count": null,
   "id": "wrong-phrase",
   "metadata": {
    "ExecuteTime": {
     "end_time": "2021-06-20T23:31:19.117798Z",
     "start_time": "2021-06-20T23:31:19.109791Z"
    }
   },
   "outputs": [],
   "source": [
    "print(len(bookstore_rules))"
   ]
  },
  {
   "cell_type": "code",
   "execution_count": null,
   "id": "deluxe-found",
   "metadata": {
    "ExecuteTime": {
     "end_time": "2021-06-20T23:33:55.943250Z",
     "start_time": "2021-06-20T23:32:48.197481Z"
    }
   },
   "outputs": [],
   "source": [
    "#Extract unique items\n",
    "g_flattened = [item for genre in genres for item in genres]\n",
    "#g_items = list(set(g_flattened))"
   ]
  },
  {
   "cell_type": "code",
   "execution_count": null,
   "id": "elect-pillow",
   "metadata": {
    "ExecuteTime": {
     "end_time": "2021-06-20T23:37:05.817471Z",
     "start_time": "2021-06-20T23:37:05.692190Z"
    }
   },
   "outputs": [],
   "source": [
    "g_flattened"
   ]
  },
  {
   "cell_type": "code",
   "execution_count": null,
   "id": "premier-converter",
   "metadata": {
    "ExecuteTime": {
     "start_time": "2021-06-20T23:49:15.919Z"
    }
   },
   "outputs": [],
   "source": [
    "# Compute and print rules\n",
    "g_rules = list(permutations(g_flattened))\n",
    "g_rules"
   ]
  },
  {
   "cell_type": "code",
   "execution_count": null,
   "id": "reported-rover",
   "metadata": {},
   "outputs": [],
   "source": []
  },
  {
   "cell_type": "code",
   "execution_count": null,
   "id": "caroline-toddler",
   "metadata": {},
   "outputs": [],
   "source": []
  },
  {
   "cell_type": "markdown",
   "id": "utility-circuit",
   "metadata": {},
   "source": [
    "## Simple Metrics"
   ]
  },
  {
   "cell_type": "markdown",
   "id": "southwest-fountain",
   "metadata": {},
   "source": [
    "### Books"
   ]
  },
  {
   "cell_type": "code",
   "execution_count": null,
   "id": "worldwide-snapshot",
   "metadata": {
    "ExecuteTime": {
     "end_time": "2021-06-19T23:37:28.780058Z",
     "start_time": "2021-06-19T23:37:28.772080Z"
    }
   },
   "outputs": [],
   "source": [
    "encoder = TransactionEncoder().fit(transactions)\n",
    "onehot = encoder.transform(transactions)"
   ]
  },
  {
   "cell_type": "code",
   "execution_count": null,
   "id": "sporting-money",
   "metadata": {
    "ExecuteTime": {
     "end_time": "2021-06-19T23:38:31.172517Z",
     "start_time": "2021-06-19T23:38:31.160550Z"
    }
   },
   "outputs": [],
   "source": [
    "onehot = pd.DataFrame(onehot, columns=encoder.columns_)"
   ]
  },
  {
   "cell_type": "code",
   "execution_count": null,
   "id": "macro-provider",
   "metadata": {
    "ExecuteTime": {
     "end_time": "2021-06-19T23:40:19.521427Z",
     "start_time": "2021-06-19T23:40:19.505471Z"
    }
   },
   "outputs": [],
   "source": [
    "onehot['Fiction+Poetry'] = np.logical_and(onehot.Fiction, onehot.Poetry)"
   ]
  },
  {
   "cell_type": "code",
   "execution_count": null,
   "id": "animated-belfast",
   "metadata": {
    "ExecuteTime": {
     "end_time": "2021-06-19T23:40:22.208802Z",
     "start_time": "2021-06-19T23:40:22.190847Z"
    }
   },
   "outputs": [],
   "source": [
    "onehot.mean()"
   ]
  },
  {
   "cell_type": "code",
   "execution_count": null,
   "id": "curious-indiana",
   "metadata": {
    "ExecuteTime": {
     "end_time": "2021-06-19T23:38:33.013259Z",
     "start_time": "2021-06-19T23:38:32.990290Z"
    }
   },
   "outputs": [],
   "source": [
    "# Compute frequent itemnsets using the Aprioru Algorith\n",
    "frequent_itemsets = apriori(onehot, min_support=0.001,max_len=2,use_colnames=True)"
   ]
  },
  {
   "cell_type": "code",
   "execution_count": null,
   "id": "rocky-trace",
   "metadata": {
    "ExecuteTime": {
     "end_time": "2021-06-19T23:38:36.406186Z",
     "start_time": "2021-06-19T23:38:36.391193Z"
    }
   },
   "outputs": [],
   "source": [
    "# Compute al association rules for frequent_itemsets\n",
    "rules = association_rules(frequent_itemsets, metric=\"lift\",min_threshold=1.0)"
   ]
  },
  {
   "cell_type": "markdown",
   "id": "affected-grain",
   "metadata": {},
   "source": [
    "### Movies"
   ]
  },
  {
   "cell_type": "code",
   "execution_count": null,
   "id": "buried-longitude",
   "metadata": {
    "ExecuteTime": {
     "end_time": "2021-06-20T22:31:32.741839Z",
     "start_time": "2021-06-20T22:31:32.706957Z"
    }
   },
   "outputs": [],
   "source": [
    "g_encoder = TransactionEncoder().fit(genres)\n",
    "g_onehot = g_encoder.transform(genres)\n",
    "\n",
    "g_onehot = pd.DataFrame(g_onehot, columns=g_encoder.columns_)"
   ]
  },
  {
   "cell_type": "code",
   "execution_count": null,
   "id": "concerned-integrity",
   "metadata": {
    "ExecuteTime": {
     "end_time": "2021-06-20T22:31:34.668774Z",
     "start_time": "2021-06-20T22:31:34.661754Z"
    }
   },
   "outputs": [],
   "source": [
    "g_onehot.mean()"
   ]
  },
  {
   "cell_type": "code",
   "execution_count": null,
   "id": "fabulous-syntax",
   "metadata": {
    "ExecuteTime": {
     "end_time": "2021-06-20T23:00:47.059736Z",
     "start_time": "2021-06-20T23:00:47.045799Z"
    }
   },
   "outputs": [],
   "source": [
    "support_AA = np.logical_and(g_onehot.Action, g_onehot.Adventure).mean()\n",
    "support_AD = np.logical_and(g_onehot.Adventure, g_onehot.Drama).mean()\n",
    "support_DA = np.logical_and(g_onehot.Drama, g_onehot.Action).mean()"
   ]
  },
  {
   "cell_type": "code",
   "execution_count": null,
   "id": "applicable-operator",
   "metadata": {
    "ExecuteTime": {
     "end_time": "2021-06-20T23:00:53.986010Z",
     "start_time": "2021-06-20T23:00:53.969864Z"
    }
   },
   "outputs": [],
   "source": [
    "# Print support values\n",
    "print(\"Action and Adventure: %.2f\" % support_AA)\n",
    "print(\"Adventure and Drama: %.2f\" % support_AD)\n",
    "print(\"Drama and Action: %.2f\" % support_DA)"
   ]
  },
  {
   "cell_type": "markdown",
   "id": "choice-cement",
   "metadata": {},
   "source": [
    "Action and Adventure or Drama and Action appear to be the best options for cross-promotion"
   ]
  },
  {
   "cell_type": "markdown",
   "id": "advised-mathematics",
   "metadata": {},
   "source": [
    "## Confidence and lift\n"
   ]
  },
  {
   "cell_type": "markdown",
   "id": "controversial-stranger",
   "metadata": {},
   "source": [
    "### The confidence metric"
   ]
  },
  {
   "cell_type": "markdown",
   "id": "wanted-slovak",
   "metadata": {},
   "source": [
    "It's  defined as the support of items X and Y divided by the support of item X. Confidence tells us the probability that we'll purchase Y, given that we have purchased X."
   ]
  },
  {
   "cell_type": "code",
   "execution_count": null,
   "id": "preceding-newspaper",
   "metadata": {
    "ExecuteTime": {
     "end_time": "2021-06-20T23:01:05.342294Z",
     "start_time": "2021-06-20T23:01:05.327303Z"
    }
   },
   "outputs": [],
   "source": [
    "support_action = g_onehot.Action.mean()\n",
    "support_drama = g_onehot.Drama.mean()\n",
    "\n",
    "confidenceAD = support_DA / support_action\n",
    "confidenceDA = support_DA / support_drama\n",
    "\n",
    "# Print results\n",
    "print('{0:.2f}, {1:.2f}'.format(confidenceAD, confidenceDA))"
   ]
  },
  {
   "cell_type": "markdown",
   "id": "heard-olympus",
   "metadata": {},
   "source": [
    "the confidence is much higher for Action -> Drama, since Action has a higher support than Drama."
   ]
  },
  {
   "cell_type": "markdown",
   "id": "brazilian-mercury",
   "metadata": {},
   "source": [
    "### The lift metric"
   ]
  },
  {
   "cell_type": "markdown",
   "id": "velvet-leisure",
   "metadata": {},
   "source": [
    "The lift metric provides us with another way to improve over support. Lift is calculated as the support of items X and Y divided by the support of X multiplied by the support of Y. The numerator gives us the proportion of transactions that contain both X and Y. The denominator tells us what that proportion would be if X and Y were randomly and independently assigned to transactions. A lift value of greater than one tells us that two items occur in transactions together more often than we would expect based on their individual support values. This means that the relationship is unlikely to be explained by random chance. This natural threshold is convenient for filtering purposes."
   ]
  },
  {
   "cell_type": "code",
   "execution_count": null,
   "id": "typical-button",
   "metadata": {
    "ExecuteTime": {
     "end_time": "2021-06-20T22:59:48.522967Z",
     "start_time": "2021-06-20T22:59:48.518983Z"
    }
   },
   "outputs": [],
   "source": [
    "# Compute lift\n",
    "lift = genresDA / (support_action * support_drama)\n",
    "\n",
    "print(\"Lift: %.2f\" % lift)"
   ]
  },
  {
   "cell_type": "markdown",
   "id": "sized-dover",
   "metadata": {},
   "source": [
    "This may give us some confidence that the association rule we recommended did not arise by random chance, but a good lift is greater than 1.0"
   ]
  },
  {
   "cell_type": "markdown",
   "id": "sweet-scientist",
   "metadata": {},
   "source": [
    "### The Leverage metric"
   ]
  },
  {
   "cell_type": "markdown",
   "id": "according-barrel",
   "metadata": {},
   "source": [
    "It's also constructed from a simpler metric: support. To compute the leverage of \"if X then Y,\" we compute the support of \"if X then Y\" and then subtract the product of the support of X and the support of Y. Note that lift and leverage are similar. One advantage of using leverage is that it is bounded from below by minus one and from above by plus one, making it easy to identify high and low values. Lift, to the contrary, is bound from below by 0 and from above by infinity."
   ]
  },
  {
   "cell_type": "code",
   "execution_count": null,
   "id": "departmental-ready",
   "metadata": {},
   "outputs": [],
   "source": []
  },
  {
   "cell_type": "code",
   "execution_count": null,
   "id": "sporting-civilian",
   "metadata": {},
   "outputs": [],
   "source": []
  },
  {
   "cell_type": "code",
   "execution_count": null,
   "id": "independent-thing",
   "metadata": {},
   "outputs": [],
   "source": []
  },
  {
   "cell_type": "code",
   "execution_count": null,
   "id": "wooden-message",
   "metadata": {},
   "outputs": [],
   "source": []
  },
  {
   "cell_type": "markdown",
   "id": "blessed-proportion",
   "metadata": {},
   "source": [
    "### The conviction metric"
   ]
  },
  {
   "cell_type": "markdown",
   "id": "sufficient-delay",
   "metadata": {},
   "source": [
    "Conviction is also based on support, but is more complicated and less intuitive than leverage. The conviction of \"if X then Y\" is computed as the support of X multiplied by the support of NOT Y, divided by the support of X and NOT Y. The support of NOT Y is simply the share of all transactions that do not include Y. The support of X and NOT Y is the share of all transactions that contain X, but not Y."
   ]
  },
  {
   "cell_type": "code",
   "execution_count": null,
   "id": "bearing-price",
   "metadata": {
    "ExecuteTime": {
     "end_time": "2021-06-20T23:02:29.697167Z",
     "start_time": "2021-06-20T23:02:29.675259Z"
    }
   },
   "outputs": [],
   "source": [
    "supportnD = 1.0 - g_onehot['Drama'].mean()\n",
    "\n",
    "supportAnD = support_action - support_DA\n",
    "conviction = support_action * supportnD / supportAnD\n",
    "print(\"Conviction: %.2f\" % conviction)"
   ]
  },
  {
   "cell_type": "code",
   "execution_count": null,
   "id": "bound-bridal",
   "metadata": {
    "ExecuteTime": {
     "end_time": "2021-06-20T23:04:33.378724Z",
     "start_time": "2021-06-20T23:04:33.370747Z"
    }
   },
   "outputs": [],
   "source": [
    "def conviction(antecedent, consequent):\n",
    "    # Compute support for antecedent AND consequent\n",
    "    supportAC = np.logical_and(antecedent, consequent).mean()\n",
    "\n",
    "    # Compute support for antecedent\n",
    "    supportA = antecedent.mean()\n",
    "\n",
    "    # Compute support for NOT consequent\n",
    "    supportnC = 1.0 - consequent.mean()\n",
    "\n",
    "    # Compute support for antecedent and NOT consequent\n",
    "    supportAnC = supportA - supportAC\n",
    "\n",
    "    # Return conviction\n",
    "    return supportA * supportnC / supportAnC\n"
   ]
  },
  {
   "cell_type": "code",
   "execution_count": null,
   "id": "dietary-train",
   "metadata": {
    "ExecuteTime": {
     "end_time": "2021-06-20T23:05:35.941755Z",
     "start_time": "2021-06-20T23:05:35.935771Z"
    }
   },
   "outputs": [],
   "source": [
    "print(\"Conviction: %.2f\" % conviction(g_onehot['Drama'],g_onehot['Action']))"
   ]
  },
  {
   "cell_type": "code",
   "execution_count": null,
   "id": "bridal-worthy",
   "metadata": {
    "ExecuteTime": {
     "end_time": "2021-06-20T23:06:03.324231Z",
     "start_time": "2021-06-20T23:06:03.317244Z"
    }
   },
   "outputs": [],
   "source": [
    "print(\"Conviction: %.2f\" % conviction(g_onehot['Action'],g_onehot['Drama']))"
   ]
  },
  {
   "cell_type": "code",
   "execution_count": null,
   "id": "traditional-prescription",
   "metadata": {
    "ExecuteTime": {
     "end_time": "2021-06-20T23:06:29.659779Z",
     "start_time": "2021-06-20T23:06:29.639832Z"
    }
   },
   "outputs": [],
   "source": [
    "print(\"Conviction: %.2f\" % conviction(g_onehot['Action'],g_onehot['Adventure']))"
   ]
  },
  {
   "cell_type": "markdown",
   "id": "entertaining-letters",
   "metadata": {},
   "source": [
    "Notice that the value of conviction was less than 1, suggesting that the rule ``if Drama then Action'' is not supported"
   ]
  },
  {
   "cell_type": "markdown",
   "id": "coral-preview",
   "metadata": {},
   "source": [
    "## Association and dissociation"
   ]
  },
  {
   "cell_type": "markdown",
   "id": "answering-queue",
   "metadata": {},
   "source": [
    "It is bounded from below by -1 and bounded from above by 1. A value of 1 indicates perfect association. Negative 1 indicates perfect dissociation. **Zhang's metric** is comprehensive in the sense that it measures both association and dissociation. It is also interpretable and has a definition in terms of simpler metrics."
   ]
  },
  {
   "cell_type": "code",
   "execution_count": null,
   "id": "bound-comparative",
   "metadata": {
    "ExecuteTime": {
     "end_time": "2021-06-20T23:24:42.254619Z",
     "start_time": "2021-06-20T23:24:42.238697Z"
    }
   },
   "outputs": [],
   "source": [
    "# Define a function to compute Zhang's metric\n",
    "def zhang(antecedent, consequent):\n",
    "    supportA = antecedent.mean()\n",
    "    supportC = consequent.mean()\n",
    "\n",
    "    supportAC = np.logical_and(antecedent, consequent).mean()\n",
    "\n",
    "    numerator = supportAC - supportA*supportC\n",
    "    denominator = max(supportAC*(1-supportA), supportA*(supportC-supportAC))\n",
    "\n",
    "    # Return Zhang's metric\n",
    "    return numerator / denominator"
   ]
  },
  {
   "cell_type": "code",
   "execution_count": null,
   "id": "substantial-kinase",
   "metadata": {
    "ExecuteTime": {
     "end_time": "2021-06-20T23:22:59.068301Z",
     "start_time": "2021-06-20T23:22:59.059331Z"
    }
   },
   "outputs": [],
   "source": [
    "supportAc = g_onehot['Action'].mean()\n",
    "supportAd = g_onehot['Adventure'].mean()\n",
    "\n",
    "supportAA = np.logical_and(g_onehot['Action'],g_onehot['Adventure']).mean()\n",
    "\n",
    "# Complete the expressions for the numerator and denominator\n",
    "numerator = supportAA - supportAc*supportAd\n",
    "denominator = max(supportAA*(1-supportAc), supportAc*(supportAd-supportAA))\n",
    "\n",
    "# Compute and print Zhang's metric\n",
    "zhang = numerator / denominator\n",
    "print(zhang)"
   ]
  },
  {
   "cell_type": "code",
   "execution_count": null,
   "id": "intelligent-reverse",
   "metadata": {
    "ExecuteTime": {
     "end_time": "2021-06-20T23:25:03.121977Z",
     "start_time": "2021-06-20T23:25:03.115994Z"
    }
   },
   "outputs": [],
   "source": [
    "print(\"Conviction: %.2f\" % zhang(g_onehot['Action'],g_onehot['Adventure']))"
   ]
  },
  {
   "cell_type": "markdown",
   "id": "adjustable-interface",
   "metadata": {},
   "source": [
    "the association rule ``if Action then Adventure'' proved robust. It had a positive value for Zhang's metric, indicating that the two genres are not dissociated."
   ]
  },
  {
   "cell_type": "code",
   "execution_count": null,
   "id": "continental-sleeping",
   "metadata": {
    "ExecuteTime": {
     "end_time": "2021-06-20T23:27:37.756694Z",
     "start_time": "2021-06-20T23:27:37.720755Z"
    }
   },
   "outputs": [],
   "source": [
    "# Define an empty list for Zhang's metric\n",
    "frequent_itemsets = apriori(g_onehot, min_support=0.001,max_len=2,use_colnames=True)\n",
    "zhangs_metric = []\n",
    "\n",
    "# Loop over lists in itemsets\n",
    "for itemset in frequent_itemsets:\n",
    "    # Extract the antecedent and consequent columns\n",
    "    antecedent = g_onehot[itemset[0]]\n",
    "    consequent = g_onehot[itemset[1]]\n",
    "    \n",
    "    # Complete Zhang's metric and append it to the list\n",
    "    zhangs_metric.append(zhang(antecedent, consequent))\n",
    "    \n",
    "# Print results\n",
    "rules['zhang'] = zhangs_metric\n",
    "print(rules)"
   ]
  },
  {
   "cell_type": "code",
   "execution_count": null,
   "id": "partial-thirty",
   "metadata": {
    "ExecuteTime": {
     "end_time": "2021-06-20T23:30:30.502818Z",
     "start_time": "2021-06-20T23:30:30.471874Z"
    }
   },
   "outputs": [],
   "source": [
    "rules"
   ]
  },
  {
   "cell_type": "markdown",
   "id": "opposite-tattoo",
   "metadata": {},
   "source": [
    "## Advanced rules"
   ]
  },
  {
   "cell_type": "code",
   "execution_count": null,
   "id": "effective-dancing",
   "metadata": {},
   "outputs": [],
   "source": [
    "# Preview the rules DataFrame using the .head() method\n",
    "print(rules.head())\n",
    "\n",
    "# Select the subset of rules with antecedent support greater than 0.05\n",
    "rules = rules[rules['antecedent support'] > 0.05]\n",
    "\n",
    "# Select the subset of rules with a consequent support greater than 0.01\n",
    "rules = rules[rules['consequent support'] > 0.01]\n",
    "\n",
    "# Select the subset of rules with a conviction greater than 1.01\n",
    "rules = rules[rules['conviction'] > 1.01]\n",
    "\n",
    "# Print remaining rules\n",
    "print(rules)"
   ]
  },
  {
   "cell_type": "code",
   "execution_count": null,
   "id": "indoor-weekly",
   "metadata": {},
   "outputs": [],
   "source": [
    "# Set the lift threshold to 1.5\n",
    "rules = rules[rules['lift'] > 1.5]\n",
    "\n",
    "# Set the conviction threshold to 1.0\n",
    "rules = rules[rules['conviction'] > 1.0]\n",
    "\n",
    "# Set the threshold for Zhang's rule to 0.65\n",
    "rules = rules[rules['zhang'] > 0.65]\n",
    "\n",
    "# Print rule\n",
    "print(rules[['antecedents','consequents']])"
   ]
  },
  {
   "cell_type": "markdown",
   "id": "seeing-warehouse",
   "metadata": {},
   "source": [
    "## Aggregation"
   ]
  },
  {
   "cell_type": "code",
   "execution_count": 95,
   "id": "protective-treasure",
   "metadata": {
    "ExecuteTime": {
     "end_time": "2021-06-21T01:28:10.127846Z",
     "start_time": "2021-06-21T01:28:10.000177Z"
    }
   },
   "outputs": [
    {
     "data": {
      "text/html": [
       "<div>\n",
       "<style scoped>\n",
       "    .dataframe tbody tr th:only-of-type {\n",
       "        vertical-align: middle;\n",
       "    }\n",
       "\n",
       "    .dataframe tbody tr th {\n",
       "        vertical-align: top;\n",
       "    }\n",
       "\n",
       "    .dataframe thead th {\n",
       "        text-align: right;\n",
       "    }\n",
       "</style>\n",
       "<table border=\"1\" class=\"dataframe\">\n",
       "  <thead>\n",
       "    <tr style=\"text-align: right;\">\n",
       "      <th></th>\n",
       "      <th>InvoiceNo</th>\n",
       "      <th>StockCode</th>\n",
       "      <th>Description</th>\n",
       "    </tr>\n",
       "  </thead>\n",
       "  <tbody>\n",
       "    <tr>\n",
       "      <th>0</th>\n",
       "      <td>562583</td>\n",
       "      <td>35637A</td>\n",
       "      <td>IVORY STRING CURTAIN WITH POLE</td>\n",
       "    </tr>\n",
       "    <tr>\n",
       "      <th>1</th>\n",
       "      <td>562583</td>\n",
       "      <td>35638A</td>\n",
       "      <td>PINK AND BLACK STRING CURTAIN</td>\n",
       "    </tr>\n",
       "    <tr>\n",
       "      <th>2</th>\n",
       "      <td>562583</td>\n",
       "      <td>84927F</td>\n",
       "      <td>PSYCHEDELIC TILE HOOK</td>\n",
       "    </tr>\n",
       "    <tr>\n",
       "      <th>3</th>\n",
       "      <td>562583</td>\n",
       "      <td>22425</td>\n",
       "      <td>ENAMEL COLANDER CREAM</td>\n",
       "    </tr>\n",
       "    <tr>\n",
       "      <th>4</th>\n",
       "      <td>562583</td>\n",
       "      <td>16008</td>\n",
       "      <td>SMALL FOLDING SCISSOR(POINTED EDGE)</td>\n",
       "    </tr>\n",
       "  </tbody>\n",
       "</table>\n",
       "</div>"
      ],
      "text/plain": [
       "  InvoiceNo StockCode                          Description\n",
       "0    562583    35637A      IVORY STRING CURTAIN WITH POLE \n",
       "1    562583    35638A        PINK AND BLACK STRING CURTAIN\n",
       "2    562583    84927F                PSYCHEDELIC TILE HOOK\n",
       "3    562583     22425                ENAMEL COLANDER CREAM\n",
       "4    562583     16008  SMALL FOLDING SCISSOR(POINTED EDGE)"
      ]
     },
     "execution_count": 95,
     "metadata": {},
     "output_type": "execute_result"
    }
   ],
   "source": [
    "gifts = pd.read_csv('online_retail.csv')\n",
    "gifts.head()"
   ]
  },
  {
   "cell_type": "code",
   "execution_count": 80,
   "id": "homeless-surface",
   "metadata": {
    "ExecuteTime": {
     "end_time": "2021-06-21T01:24:52.454173Z",
     "start_time": "2021-06-21T01:24:52.425255Z"
    }
   },
   "outputs": [
    {
     "data": {
      "text/plain": [
       "9709"
      ]
     },
     "execution_count": 80,
     "metadata": {},
     "output_type": "execute_result"
    }
   ],
   "source": [
    "len(gifts['InvoiceNo'].unique())"
   ]
  },
  {
   "cell_type": "code",
   "execution_count": 96,
   "id": "registered-madonna",
   "metadata": {
    "ExecuteTime": {
     "end_time": "2021-06-21T01:28:46.169373Z",
     "start_time": "2021-06-21T01:28:37.111597Z"
    }
   },
   "outputs": [
    {
     "data": {
      "text/html": [
       "<div>\n",
       "<style scoped>\n",
       "    .dataframe tbody tr th:only-of-type {\n",
       "        vertical-align: middle;\n",
       "    }\n",
       "\n",
       "    .dataframe tbody tr th {\n",
       "        vertical-align: top;\n",
       "    }\n",
       "\n",
       "    .dataframe thead th {\n",
       "        text-align: right;\n",
       "    }\n",
       "</style>\n",
       "<table border=\"1\" class=\"dataframe\">\n",
       "  <thead>\n",
       "    <tr style=\"text-align: right;\">\n",
       "      <th></th>\n",
       "      <th>InvoiceNo</th>\n",
       "      <th>StockCode</th>\n",
       "      <th>Description_ 50'S CHRISTMAS GIFT BAG LARGE</th>\n",
       "      <th>Description_ DOLLY GIRL BEAKER</th>\n",
       "      <th>Description_ I LOVE LONDON MINI BACKPACK</th>\n",
       "      <th>Description_ NINE DRAWER OFFICE TIDY</th>\n",
       "      <th>Description_ OVAL WALL MIRROR DIAMANTE</th>\n",
       "      <th>Description_ RED SPOT GIFT BAG LARGE</th>\n",
       "      <th>Description_ SET 2 TEA TOWELS I LOVE LONDON</th>\n",
       "      <th>Description_ SPACEBOY BABY GIFT SET</th>\n",
       "      <th>...</th>\n",
       "      <th>Description_wet boxes</th>\n",
       "      <th>Description_wet pallet</th>\n",
       "      <th>Description_wet rusty</th>\n",
       "      <th>Description_wet?</th>\n",
       "      <th>Description_wrongly coded 20713</th>\n",
       "      <th>Description_wrongly coded 23343</th>\n",
       "      <th>Description_wrongly coded-23343</th>\n",
       "      <th>Description_wrongly marked</th>\n",
       "      <th>Description_wrongly marked 23343</th>\n",
       "      <th>Description_wrongly marked carton 22804</th>\n",
       "    </tr>\n",
       "  </thead>\n",
       "  <tbody>\n",
       "    <tr>\n",
       "      <th>0</th>\n",
       "      <td>562583</td>\n",
       "      <td>35637A</td>\n",
       "      <td>0</td>\n",
       "      <td>0</td>\n",
       "      <td>0</td>\n",
       "      <td>0</td>\n",
       "      <td>0</td>\n",
       "      <td>0</td>\n",
       "      <td>0</td>\n",
       "      <td>0</td>\n",
       "      <td>...</td>\n",
       "      <td>0</td>\n",
       "      <td>0</td>\n",
       "      <td>0</td>\n",
       "      <td>0</td>\n",
       "      <td>0</td>\n",
       "      <td>0</td>\n",
       "      <td>0</td>\n",
       "      <td>0</td>\n",
       "      <td>0</td>\n",
       "      <td>0</td>\n",
       "    </tr>\n",
       "    <tr>\n",
       "      <th>1</th>\n",
       "      <td>562583</td>\n",
       "      <td>35638A</td>\n",
       "      <td>0</td>\n",
       "      <td>0</td>\n",
       "      <td>0</td>\n",
       "      <td>0</td>\n",
       "      <td>0</td>\n",
       "      <td>0</td>\n",
       "      <td>0</td>\n",
       "      <td>0</td>\n",
       "      <td>...</td>\n",
       "      <td>0</td>\n",
       "      <td>0</td>\n",
       "      <td>0</td>\n",
       "      <td>0</td>\n",
       "      <td>0</td>\n",
       "      <td>0</td>\n",
       "      <td>0</td>\n",
       "      <td>0</td>\n",
       "      <td>0</td>\n",
       "      <td>0</td>\n",
       "    </tr>\n",
       "    <tr>\n",
       "      <th>2</th>\n",
       "      <td>562583</td>\n",
       "      <td>84927F</td>\n",
       "      <td>0</td>\n",
       "      <td>0</td>\n",
       "      <td>0</td>\n",
       "      <td>0</td>\n",
       "      <td>0</td>\n",
       "      <td>0</td>\n",
       "      <td>0</td>\n",
       "      <td>0</td>\n",
       "      <td>...</td>\n",
       "      <td>0</td>\n",
       "      <td>0</td>\n",
       "      <td>0</td>\n",
       "      <td>0</td>\n",
       "      <td>0</td>\n",
       "      <td>0</td>\n",
       "      <td>0</td>\n",
       "      <td>0</td>\n",
       "      <td>0</td>\n",
       "      <td>0</td>\n",
       "    </tr>\n",
       "    <tr>\n",
       "      <th>3</th>\n",
       "      <td>562583</td>\n",
       "      <td>22425</td>\n",
       "      <td>0</td>\n",
       "      <td>0</td>\n",
       "      <td>0</td>\n",
       "      <td>0</td>\n",
       "      <td>0</td>\n",
       "      <td>0</td>\n",
       "      <td>0</td>\n",
       "      <td>0</td>\n",
       "      <td>...</td>\n",
       "      <td>0</td>\n",
       "      <td>0</td>\n",
       "      <td>0</td>\n",
       "      <td>0</td>\n",
       "      <td>0</td>\n",
       "      <td>0</td>\n",
       "      <td>0</td>\n",
       "      <td>0</td>\n",
       "      <td>0</td>\n",
       "      <td>0</td>\n",
       "    </tr>\n",
       "    <tr>\n",
       "      <th>4</th>\n",
       "      <td>562583</td>\n",
       "      <td>16008</td>\n",
       "      <td>0</td>\n",
       "      <td>0</td>\n",
       "      <td>0</td>\n",
       "      <td>0</td>\n",
       "      <td>0</td>\n",
       "      <td>0</td>\n",
       "      <td>0</td>\n",
       "      <td>0</td>\n",
       "      <td>...</td>\n",
       "      <td>0</td>\n",
       "      <td>0</td>\n",
       "      <td>0</td>\n",
       "      <td>0</td>\n",
       "      <td>0</td>\n",
       "      <td>0</td>\n",
       "      <td>0</td>\n",
       "      <td>0</td>\n",
       "      <td>0</td>\n",
       "      <td>0</td>\n",
       "    </tr>\n",
       "  </tbody>\n",
       "</table>\n",
       "<p>5 rows × 3461 columns</p>\n",
       "</div>"
      ],
      "text/plain": [
       "  InvoiceNo StockCode  Description_ 50'S CHRISTMAS GIFT BAG LARGE  \\\n",
       "0    562583    35637A                                           0   \n",
       "1    562583    35638A                                           0   \n",
       "2    562583    84927F                                           0   \n",
       "3    562583     22425                                           0   \n",
       "4    562583     16008                                           0   \n",
       "\n",
       "   Description_ DOLLY GIRL BEAKER  Description_ I LOVE LONDON MINI BACKPACK  \\\n",
       "0                               0                                         0   \n",
       "1                               0                                         0   \n",
       "2                               0                                         0   \n",
       "3                               0                                         0   \n",
       "4                               0                                         0   \n",
       "\n",
       "   Description_ NINE DRAWER OFFICE TIDY  \\\n",
       "0                                     0   \n",
       "1                                     0   \n",
       "2                                     0   \n",
       "3                                     0   \n",
       "4                                     0   \n",
       "\n",
       "   Description_ OVAL WALL MIRROR DIAMANTE   \\\n",
       "0                                        0   \n",
       "1                                        0   \n",
       "2                                        0   \n",
       "3                                        0   \n",
       "4                                        0   \n",
       "\n",
       "   Description_ RED SPOT GIFT BAG LARGE  \\\n",
       "0                                     0   \n",
       "1                                     0   \n",
       "2                                     0   \n",
       "3                                     0   \n",
       "4                                     0   \n",
       "\n",
       "   Description_ SET 2 TEA TOWELS I LOVE LONDON   \\\n",
       "0                                             0   \n",
       "1                                             0   \n",
       "2                                             0   \n",
       "3                                             0   \n",
       "4                                             0   \n",
       "\n",
       "   Description_ SPACEBOY BABY GIFT SET  ...  Description_wet boxes  \\\n",
       "0                                    0  ...                      0   \n",
       "1                                    0  ...                      0   \n",
       "2                                    0  ...                      0   \n",
       "3                                    0  ...                      0   \n",
       "4                                    0  ...                      0   \n",
       "\n",
       "   Description_wet pallet  Description_wet rusty  Description_wet?  \\\n",
       "0                       0                      0                 0   \n",
       "1                       0                      0                 0   \n",
       "2                       0                      0                 0   \n",
       "3                       0                      0                 0   \n",
       "4                       0                      0                 0   \n",
       "\n",
       "   Description_wrongly coded 20713  Description_wrongly coded 23343  \\\n",
       "0                                0                                0   \n",
       "1                                0                                0   \n",
       "2                                0                                0   \n",
       "3                                0                                0   \n",
       "4                                0                                0   \n",
       "\n",
       "   Description_wrongly coded-23343  Description_wrongly marked  \\\n",
       "0                                0                           0   \n",
       "1                                0                           0   \n",
       "2                                0                           0   \n",
       "3                                0                           0   \n",
       "4                                0                           0   \n",
       "\n",
       "   Description_wrongly marked 23343  Description_wrongly marked carton 22804  \n",
       "0                                 0                                        0  \n",
       "1                                 0                                        0  \n",
       "2                                 0                                        0  \n",
       "3                                 0                                        0  \n",
       "4                                 0                                        0  \n",
       "\n",
       "[5 rows x 3461 columns]"
      ]
     },
     "execution_count": 96,
     "metadata": {},
     "output_type": "execute_result"
    }
   ],
   "source": [
    "rated_dummies = pd.get_dummies(data=gifts,columns=['Description'], drop_first=True)\n",
    "rated_dummies.head()"
   ]
  },
  {
   "cell_type": "code",
   "execution_count": 85,
   "id": "theoretical-garden",
   "metadata": {
    "ExecuteTime": {
     "end_time": "2021-06-21T01:26:38.220504Z",
     "start_time": "2021-06-21T01:26:28.989937Z"
    }
   },
   "outputs": [],
   "source": [
    "gifts = pd.concat([gifts, rated_dummies], axis=1)"
   ]
  },
  {
   "cell_type": "code",
   "execution_count": 86,
   "id": "mobile-definition",
   "metadata": {
    "ExecuteTime": {
     "end_time": "2021-06-21T01:26:42.775115Z",
     "start_time": "2021-06-21T01:26:42.232417Z"
    }
   },
   "outputs": [],
   "source": [
    "gifts = gifts.drop(columns=['InvoiceNo','StockCode','Description'])"
   ]
  },
  {
   "cell_type": "code",
   "execution_count": 87,
   "id": "floppy-routine",
   "metadata": {
    "ExecuteTime": {
     "end_time": "2021-06-21T01:26:44.156527Z",
     "start_time": "2021-06-21T01:26:44.132589Z"
    }
   },
   "outputs": [
    {
     "data": {
      "text/html": [
       "<div>\n",
       "<style scoped>\n",
       "    .dataframe tbody tr th:only-of-type {\n",
       "        vertical-align: middle;\n",
       "    }\n",
       "\n",
       "    .dataframe tbody tr th {\n",
       "        vertical-align: top;\n",
       "    }\n",
       "\n",
       "    .dataframe thead th {\n",
       "        text-align: right;\n",
       "    }\n",
       "</style>\n",
       "<table border=\"1\" class=\"dataframe\">\n",
       "  <thead>\n",
       "    <tr style=\"text-align: right;\">\n",
       "      <th></th>\n",
       "      <th>Description_ 50'S CHRISTMAS GIFT BAG LARGE</th>\n",
       "      <th>Description_ DOLLY GIRL BEAKER</th>\n",
       "      <th>Description_ I LOVE LONDON MINI BACKPACK</th>\n",
       "      <th>Description_ NINE DRAWER OFFICE TIDY</th>\n",
       "      <th>Description_ OVAL WALL MIRROR DIAMANTE</th>\n",
       "      <th>Description_ RED SPOT GIFT BAG LARGE</th>\n",
       "      <th>Description_ SET 2 TEA TOWELS I LOVE LONDON</th>\n",
       "      <th>Description_ SPACEBOY BABY GIFT SET</th>\n",
       "      <th>Description_ TRELLIS COAT RACK</th>\n",
       "      <th>Description_10 COLOUR SPACEBOY PEN</th>\n",
       "      <th>...</th>\n",
       "      <th>Description_wet boxes</th>\n",
       "      <th>Description_wet pallet</th>\n",
       "      <th>Description_wet rusty</th>\n",
       "      <th>Description_wet?</th>\n",
       "      <th>Description_wrongly coded 20713</th>\n",
       "      <th>Description_wrongly coded 23343</th>\n",
       "      <th>Description_wrongly coded-23343</th>\n",
       "      <th>Description_wrongly marked</th>\n",
       "      <th>Description_wrongly marked 23343</th>\n",
       "      <th>Description_wrongly marked carton 22804</th>\n",
       "    </tr>\n",
       "  </thead>\n",
       "  <tbody>\n",
       "    <tr>\n",
       "      <th>227755</th>\n",
       "      <td>0</td>\n",
       "      <td>0</td>\n",
       "      <td>0</td>\n",
       "      <td>0</td>\n",
       "      <td>0</td>\n",
       "      <td>0</td>\n",
       "      <td>0</td>\n",
       "      <td>0</td>\n",
       "      <td>0</td>\n",
       "      <td>0</td>\n",
       "      <td>...</td>\n",
       "      <td>0</td>\n",
       "      <td>0</td>\n",
       "      <td>0</td>\n",
       "      <td>0</td>\n",
       "      <td>0</td>\n",
       "      <td>0</td>\n",
       "      <td>0</td>\n",
       "      <td>0</td>\n",
       "      <td>0</td>\n",
       "      <td>0</td>\n",
       "    </tr>\n",
       "    <tr>\n",
       "      <th>227756</th>\n",
       "      <td>0</td>\n",
       "      <td>0</td>\n",
       "      <td>0</td>\n",
       "      <td>0</td>\n",
       "      <td>0</td>\n",
       "      <td>0</td>\n",
       "      <td>0</td>\n",
       "      <td>0</td>\n",
       "      <td>0</td>\n",
       "      <td>0</td>\n",
       "      <td>...</td>\n",
       "      <td>0</td>\n",
       "      <td>0</td>\n",
       "      <td>0</td>\n",
       "      <td>0</td>\n",
       "      <td>0</td>\n",
       "      <td>0</td>\n",
       "      <td>0</td>\n",
       "      <td>0</td>\n",
       "      <td>0</td>\n",
       "      <td>0</td>\n",
       "    </tr>\n",
       "    <tr>\n",
       "      <th>227757</th>\n",
       "      <td>0</td>\n",
       "      <td>0</td>\n",
       "      <td>0</td>\n",
       "      <td>0</td>\n",
       "      <td>0</td>\n",
       "      <td>0</td>\n",
       "      <td>0</td>\n",
       "      <td>0</td>\n",
       "      <td>0</td>\n",
       "      <td>0</td>\n",
       "      <td>...</td>\n",
       "      <td>0</td>\n",
       "      <td>0</td>\n",
       "      <td>0</td>\n",
       "      <td>0</td>\n",
       "      <td>0</td>\n",
       "      <td>0</td>\n",
       "      <td>0</td>\n",
       "      <td>0</td>\n",
       "      <td>0</td>\n",
       "      <td>0</td>\n",
       "    </tr>\n",
       "    <tr>\n",
       "      <th>227758</th>\n",
       "      <td>0</td>\n",
       "      <td>0</td>\n",
       "      <td>0</td>\n",
       "      <td>0</td>\n",
       "      <td>0</td>\n",
       "      <td>0</td>\n",
       "      <td>0</td>\n",
       "      <td>0</td>\n",
       "      <td>0</td>\n",
       "      <td>0</td>\n",
       "      <td>...</td>\n",
       "      <td>0</td>\n",
       "      <td>0</td>\n",
       "      <td>0</td>\n",
       "      <td>0</td>\n",
       "      <td>0</td>\n",
       "      <td>0</td>\n",
       "      <td>0</td>\n",
       "      <td>0</td>\n",
       "      <td>0</td>\n",
       "      <td>0</td>\n",
       "    </tr>\n",
       "    <tr>\n",
       "      <th>227759</th>\n",
       "      <td>0</td>\n",
       "      <td>0</td>\n",
       "      <td>0</td>\n",
       "      <td>0</td>\n",
       "      <td>0</td>\n",
       "      <td>0</td>\n",
       "      <td>0</td>\n",
       "      <td>0</td>\n",
       "      <td>0</td>\n",
       "      <td>0</td>\n",
       "      <td>...</td>\n",
       "      <td>0</td>\n",
       "      <td>0</td>\n",
       "      <td>0</td>\n",
       "      <td>0</td>\n",
       "      <td>0</td>\n",
       "      <td>0</td>\n",
       "      <td>0</td>\n",
       "      <td>0</td>\n",
       "      <td>0</td>\n",
       "      <td>0</td>\n",
       "    </tr>\n",
       "  </tbody>\n",
       "</table>\n",
       "<p>5 rows × 3459 columns</p>\n",
       "</div>"
      ],
      "text/plain": [
       "        Description_ 50'S CHRISTMAS GIFT BAG LARGE  \\\n",
       "227755                                           0   \n",
       "227756                                           0   \n",
       "227757                                           0   \n",
       "227758                                           0   \n",
       "227759                                           0   \n",
       "\n",
       "        Description_ DOLLY GIRL BEAKER  \\\n",
       "227755                               0   \n",
       "227756                               0   \n",
       "227757                               0   \n",
       "227758                               0   \n",
       "227759                               0   \n",
       "\n",
       "        Description_ I LOVE LONDON MINI BACKPACK  \\\n",
       "227755                                         0   \n",
       "227756                                         0   \n",
       "227757                                         0   \n",
       "227758                                         0   \n",
       "227759                                         0   \n",
       "\n",
       "        Description_ NINE DRAWER OFFICE TIDY  \\\n",
       "227755                                     0   \n",
       "227756                                     0   \n",
       "227757                                     0   \n",
       "227758                                     0   \n",
       "227759                                     0   \n",
       "\n",
       "        Description_ OVAL WALL MIRROR DIAMANTE   \\\n",
       "227755                                        0   \n",
       "227756                                        0   \n",
       "227757                                        0   \n",
       "227758                                        0   \n",
       "227759                                        0   \n",
       "\n",
       "        Description_ RED SPOT GIFT BAG LARGE  \\\n",
       "227755                                     0   \n",
       "227756                                     0   \n",
       "227757                                     0   \n",
       "227758                                     0   \n",
       "227759                                     0   \n",
       "\n",
       "        Description_ SET 2 TEA TOWELS I LOVE LONDON   \\\n",
       "227755                                             0   \n",
       "227756                                             0   \n",
       "227757                                             0   \n",
       "227758                                             0   \n",
       "227759                                             0   \n",
       "\n",
       "        Description_ SPACEBOY BABY GIFT SET  Description_ TRELLIS COAT RACK  \\\n",
       "227755                                    0                               0   \n",
       "227756                                    0                               0   \n",
       "227757                                    0                               0   \n",
       "227758                                    0                               0   \n",
       "227759                                    0                               0   \n",
       "\n",
       "        Description_10 COLOUR SPACEBOY PEN  ...  Description_wet boxes  \\\n",
       "227755                                   0  ...                      0   \n",
       "227756                                   0  ...                      0   \n",
       "227757                                   0  ...                      0   \n",
       "227758                                   0  ...                      0   \n",
       "227759                                   0  ...                      0   \n",
       "\n",
       "        Description_wet pallet  Description_wet rusty  Description_wet?  \\\n",
       "227755                       0                      0                 0   \n",
       "227756                       0                      0                 0   \n",
       "227757                       0                      0                 0   \n",
       "227758                       0                      0                 0   \n",
       "227759                       0                      0                 0   \n",
       "\n",
       "        Description_wrongly coded 20713  Description_wrongly coded 23343  \\\n",
       "227755                                0                                0   \n",
       "227756                                0                                0   \n",
       "227757                                0                                0   \n",
       "227758                                0                                0   \n",
       "227759                                0                                0   \n",
       "\n",
       "        Description_wrongly coded-23343  Description_wrongly marked  \\\n",
       "227755                                0                           0   \n",
       "227756                                0                           0   \n",
       "227757                                0                           0   \n",
       "227758                                0                           0   \n",
       "227759                                0                           0   \n",
       "\n",
       "        Description_wrongly marked 23343  \\\n",
       "227755                                 0   \n",
       "227756                                 0   \n",
       "227757                                 0   \n",
       "227758                                 0   \n",
       "227759                                 0   \n",
       "\n",
       "        Description_wrongly marked carton 22804  \n",
       "227755                                        0  \n",
       "227756                                        0  \n",
       "227757                                        0  \n",
       "227758                                        0  \n",
       "227759                                        0  \n",
       "\n",
       "[5 rows x 3459 columns]"
      ]
     },
     "execution_count": 87,
     "metadata": {},
     "output_type": "execute_result"
    }
   ],
   "source": [
    "gifts.tail()"
   ]
  },
  {
   "cell_type": "code",
   "execution_count": 88,
   "id": "preceding-signal",
   "metadata": {
    "ExecuteTime": {
     "end_time": "2021-06-21T01:27:01.739222Z",
     "start_time": "2021-06-21T01:27:01.721271Z"
    }
   },
   "outputs": [],
   "source": [
    "bag_headers = [i  for i in gifts.columns if i.lower().find('bag')>=0]"
   ]
  },
  {
   "cell_type": "code",
   "execution_count": 89,
   "id": "equal-mission",
   "metadata": {
    "ExecuteTime": {
     "end_time": "2021-06-21T01:27:04.034578Z",
     "start_time": "2021-06-21T01:27:04.026601Z"
    }
   },
   "outputs": [],
   "source": [
    "box_headers = [i  for i in gifts.columns if i.lower().find('box')>=0]"
   ]
  },
  {
   "cell_type": "code",
   "execution_count": 90,
   "id": "loved-recipient",
   "metadata": {
    "ExecuteTime": {
     "end_time": "2021-06-21T01:27:06.080311Z",
     "start_time": "2021-06-21T01:27:06.021468Z"
    }
   },
   "outputs": [
    {
     "name": "stdout",
     "output_type": "stream",
     "text": [
      "        Description_ 50'S CHRISTMAS GIFT BAG LARGE  \\\n",
      "0                                                0   \n",
      "1                                                0   \n",
      "2                                                0   \n",
      "3                                                0   \n",
      "4                                                0   \n",
      "...                                            ...   \n",
      "227755                                           0   \n",
      "227756                                           0   \n",
      "227757                                           0   \n",
      "227758                                           0   \n",
      "227759                                           0   \n",
      "\n",
      "        Description_ RED SPOT GIFT BAG LARGE  \\\n",
      "0                                          0   \n",
      "1                                          0   \n",
      "2                                          0   \n",
      "3                                          0   \n",
      "4                                          0   \n",
      "...                                      ...   \n",
      "227755                                     0   \n",
      "227756                                     0   \n",
      "227757                                     0   \n",
      "227758                                     0   \n",
      "227759                                     0   \n",
      "\n",
      "        Description_50'S CHRISTMAS PAPER GIFT BAG  \\\n",
      "0                                               0   \n",
      "1                                               0   \n",
      "2                                               0   \n",
      "3                                               0   \n",
      "4                                               0   \n",
      "...                                           ...   \n",
      "227755                                          0   \n",
      "227756                                          0   \n",
      "227757                                          0   \n",
      "227758                                          0   \n",
      "227759                                          0   \n",
      "\n",
      "        Description_AIRLINE BAG VINTAGE JET SET BROWN  \\\n",
      "0                                                   0   \n",
      "1                                                   0   \n",
      "2                                                   0   \n",
      "3                                                   0   \n",
      "4                                                   0   \n",
      "...                                               ...   \n",
      "227755                                              0   \n",
      "227756                                              0   \n",
      "227757                                              0   \n",
      "227758                                              0   \n",
      "227759                                              0   \n",
      "\n",
      "        Description_AIRLINE BAG VINTAGE JET SET RED  \\\n",
      "0                                                 0   \n",
      "1                                                 0   \n",
      "2                                                 0   \n",
      "3                                                 0   \n",
      "4                                                 0   \n",
      "...                                             ...   \n",
      "227755                                            0   \n",
      "227756                                            0   \n",
      "227757                                            0   \n",
      "227758                                            0   \n",
      "227759                                            0   \n",
      "\n",
      "        Description_AIRLINE BAG VINTAGE JET SET WHITE  \\\n",
      "0                                                   0   \n",
      "1                                                   0   \n",
      "2                                                   0   \n",
      "3                                                   0   \n",
      "4                                                   0   \n",
      "...                                               ...   \n",
      "227755                                              0   \n",
      "227756                                              0   \n",
      "227757                                              0   \n",
      "227758                                              0   \n",
      "227759                                              0   \n",
      "\n",
      "        Description_AIRLINE BAG VINTAGE TOKYO 78  \\\n",
      "0                                              0   \n",
      "1                                              0   \n",
      "2                                              0   \n",
      "3                                              0   \n",
      "4                                              0   \n",
      "...                                          ...   \n",
      "227755                                         0   \n",
      "227756                                         0   \n",
      "227757                                         0   \n",
      "227758                                         0   \n",
      "227759                                         0   \n",
      "\n",
      "        Description_AIRLINE BAG VINTAGE WORLD CHAMPION   \\\n",
      "0                                                     0   \n",
      "1                                                     0   \n",
      "2                                                     0   \n",
      "3                                                     0   \n",
      "4                                                     0   \n",
      "...                                                 ...   \n",
      "227755                                                0   \n",
      "227756                                                0   \n",
      "227757                                                0   \n",
      "227758                                                0   \n",
      "227759                                                0   \n",
      "\n",
      "        Description_AMBER GLASS TASSLE BAG CHARM  \\\n",
      "0                                              0   \n",
      "1                                              0   \n",
      "2                                              0   \n",
      "3                                              0   \n",
      "4                                              0   \n",
      "...                                          ...   \n",
      "227755                                         0   \n",
      "227756                                         0   \n",
      "227757                                         0   \n",
      "227758                                         0   \n",
      "227759                                         0   \n",
      "\n",
      "        Description_AQUA BERTIE GLASS BEAD BAG CHARM  ...  \\\n",
      "0                                                  0  ...   \n",
      "1                                                  0  ...   \n",
      "2                                                  0  ...   \n",
      "3                                                  0  ...   \n",
      "4                                                  0  ...   \n",
      "...                                              ...  ...   \n",
      "227755                                             0  ...   \n",
      "227756                                             0  ...   \n",
      "227757                                             0  ...   \n",
      "227758                                             0  ...   \n",
      "227759                                             0  ...   \n",
      "\n",
      "        Description_VINTAGE BEAD COSMETIC BAG   \\\n",
      "0                                            0   \n",
      "1                                            0   \n",
      "2                                            0   \n",
      "3                                            0   \n",
      "4                                            0   \n",
      "...                                        ...   \n",
      "227755                                       0   \n",
      "227756                                       0   \n",
      "227757                                       0   \n",
      "227758                                       0   \n",
      "227759                                       0   \n",
      "\n",
      "        Description_VINTAGE BEAD PINK EVENING BAG  \\\n",
      "0                                               0   \n",
      "1                                               0   \n",
      "2                                               0   \n",
      "3                                               0   \n",
      "4                                               0   \n",
      "...                                           ...   \n",
      "227755                                          0   \n",
      "227756                                          0   \n",
      "227757                                          0   \n",
      "227758                                          0   \n",
      "227759                                          0   \n",
      "\n",
      "        Description_VINTAGE CHRISTMAS GIFT BAG LARGE   \\\n",
      "0                                                   0   \n",
      "1                                                   0   \n",
      "2                                                   0   \n",
      "3                                                   0   \n",
      "4                                                   0   \n",
      "...                                               ...   \n",
      "227755                                              0   \n",
      "227756                                              0   \n",
      "227757                                              0   \n",
      "227758                                              0   \n",
      "227759                                              0   \n",
      "\n",
      "        Description_VINTAGE CHRISTMAS PAPER GIFT BAG  \\\n",
      "0                                                  0   \n",
      "1                                                  0   \n",
      "2                                                  0   \n",
      "3                                                  0   \n",
      "4                                                  0   \n",
      "...                                              ...   \n",
      "227755                                             0   \n",
      "227756                                             0   \n",
      "227757                                             0   \n",
      "227758                                             0   \n",
      "227759                                             0   \n",
      "\n",
      "        Description_VINTAGE DOILY JUMBO BAG RED   \\\n",
      "0                                              0   \n",
      "1                                              0   \n",
      "2                                              0   \n",
      "3                                              0   \n",
      "4                                              0   \n",
      "...                                          ...   \n",
      "227755                                         0   \n",
      "227756                                         0   \n",
      "227757                                         0   \n",
      "227758                                         0   \n",
      "227759                                         0   \n",
      "\n",
      "        Description_VINTAGE UNION JACK SHOPPING BAG  \\\n",
      "0                                                 0   \n",
      "1                                                 0   \n",
      "2                                                 0   \n",
      "3                                                 0   \n",
      "4                                                 0   \n",
      "...                                             ...   \n",
      "227755                                            0   \n",
      "227756                                            0   \n",
      "227757                                            0   \n",
      "227758                                            0   \n",
      "227759                                            0   \n",
      "\n",
      "        Description_WASH BAG VINTAGE ROSE PAISLEY  \\\n",
      "0                                               0   \n",
      "1                                               0   \n",
      "2                                               0   \n",
      "3                                               0   \n",
      "4                                               0   \n",
      "...                                           ...   \n",
      "227755                                          0   \n",
      "227756                                          0   \n",
      "227757                                          0   \n",
      "227758                                          0   \n",
      "227759                                          0   \n",
      "\n",
      "        Description_WOODLAND CHARLOTTE BAG  \\\n",
      "0                                        0   \n",
      "1                                        0   \n",
      "2                                        0   \n",
      "3                                        0   \n",
      "4                                        0   \n",
      "...                                    ...   \n",
      "227755                                   0   \n",
      "227756                                   0   \n",
      "227757                                   0   \n",
      "227758                                   0   \n",
      "227759                                   0   \n",
      "\n",
      "        Description_WOODLAND DESIGN  COTTON TOTE BAG  \\\n",
      "0                                                  0   \n",
      "1                                                  0   \n",
      "2                                                  0   \n",
      "3                                                  0   \n",
      "4                                                  0   \n",
      "...                                              ...   \n",
      "227755                                             0   \n",
      "227756                                             0   \n",
      "227757                                             0   \n",
      "227758                                             0   \n",
      "227759                                             0   \n",
      "\n",
      "        Description_WOODLAND PARTY BAG + STICKER SET  \n",
      "0                                                  0  \n",
      "1                                                  0  \n",
      "2                                                  0  \n",
      "3                                                  0  \n",
      "4                                                  0  \n",
      "...                                              ...  \n",
      "227755                                             0  \n",
      "227756                                             0  \n",
      "227757                                             0  \n",
      "227758                                             0  \n",
      "227759                                             0  \n",
      "\n",
      "[227760 rows x 157 columns]\n"
     ]
    }
   ],
   "source": [
    "bags = gifts[bag_headers]\n",
    "boxes = gifts[box_headers]\n",
    "print(bags)"
   ]
  },
  {
   "cell_type": "code",
   "execution_count": 91,
   "id": "designing-climb",
   "metadata": {
    "ExecuteTime": {
     "end_time": "2021-06-21T01:27:12.458376Z",
     "start_time": "2021-06-21T01:27:12.355645Z"
    }
   },
   "outputs": [
    {
     "name": "stdout",
     "output_type": "stream",
     "text": [
      "[False False False ... False False False]\n"
     ]
    }
   ],
   "source": [
    "bags = (bags.sum(axis=1)>0.0).values\n",
    "boxes = (boxes.sum(axis=1)>0.0).values\n",
    "print(bags)"
   ]
  },
  {
   "cell_type": "code",
   "execution_count": 92,
   "id": "technological-billy",
   "metadata": {
    "ExecuteTime": {
     "end_time": "2021-06-21T01:27:15.562215Z",
     "start_time": "2021-06-21T01:27:15.546255Z"
    }
   },
   "outputs": [],
   "source": [
    "aggregated = pd.DataFrame(np.vstack([bags,boxes]).T, columns=['bags','boxes'])"
   ]
  },
  {
   "cell_type": "code",
   "execution_count": 93,
   "id": "constitutional-study",
   "metadata": {
    "ExecuteTime": {
     "end_time": "2021-06-21T01:27:17.373436Z",
     "start_time": "2021-06-21T01:27:17.352492Z"
    }
   },
   "outputs": [
    {
     "data": {
      "text/html": [
       "<div>\n",
       "<style scoped>\n",
       "    .dataframe tbody tr th:only-of-type {\n",
       "        vertical-align: middle;\n",
       "    }\n",
       "\n",
       "    .dataframe tbody tr th {\n",
       "        vertical-align: top;\n",
       "    }\n",
       "\n",
       "    .dataframe thead th {\n",
       "        text-align: right;\n",
       "    }\n",
       "</style>\n",
       "<table border=\"1\" class=\"dataframe\">\n",
       "  <thead>\n",
       "    <tr style=\"text-align: right;\">\n",
       "      <th></th>\n",
       "      <th>bags</th>\n",
       "      <th>boxes</th>\n",
       "    </tr>\n",
       "  </thead>\n",
       "  <tbody>\n",
       "    <tr>\n",
       "      <th>0</th>\n",
       "      <td>False</td>\n",
       "      <td>False</td>\n",
       "    </tr>\n",
       "    <tr>\n",
       "      <th>1</th>\n",
       "      <td>False</td>\n",
       "      <td>False</td>\n",
       "    </tr>\n",
       "    <tr>\n",
       "      <th>2</th>\n",
       "      <td>False</td>\n",
       "      <td>False</td>\n",
       "    </tr>\n",
       "    <tr>\n",
       "      <th>3</th>\n",
       "      <td>False</td>\n",
       "      <td>False</td>\n",
       "    </tr>\n",
       "    <tr>\n",
       "      <th>4</th>\n",
       "      <td>False</td>\n",
       "      <td>False</td>\n",
       "    </tr>\n",
       "  </tbody>\n",
       "</table>\n",
       "</div>"
      ],
      "text/plain": [
       "    bags  boxes\n",
       "0  False  False\n",
       "1  False  False\n",
       "2  False  False\n",
       "3  False  False\n",
       "4  False  False"
      ]
     },
     "execution_count": 93,
     "metadata": {},
     "output_type": "execute_result"
    }
   ],
   "source": [
    "aggregated.head()"
   ]
  },
  {
   "cell_type": "code",
   "execution_count": null,
   "id": "responsible-vessel",
   "metadata": {},
   "outputs": [],
   "source": []
  },
  {
   "cell_type": "code",
   "execution_count": null,
   "id": "vocal-market",
   "metadata": {},
   "outputs": [],
   "source": []
  },
  {
   "cell_type": "code",
   "execution_count": null,
   "id": "professional-truth",
   "metadata": {},
   "outputs": [],
   "source": []
  }
 ],
 "metadata": {
  "kernelspec": {
   "display_name": "Python 3",
   "language": "python",
   "name": "python3"
  },
  "language_info": {
   "codemirror_mode": {
    "name": "ipython",
    "version": 3
   },
   "file_extension": ".py",
   "mimetype": "text/x-python",
   "name": "python",
   "nbconvert_exporter": "python",
   "pygments_lexer": "ipython3",
   "version": "3.6.4"
  },
  "toc": {
   "base_numbering": 1,
   "nav_menu": {},
   "number_sections": true,
   "sideBar": true,
   "skip_h1_title": false,
   "title_cell": "Table of Contents",
   "title_sidebar": "Contents",
   "toc_cell": false,
   "toc_position": {},
   "toc_section_display": true,
   "toc_window_display": false
  }
 },
 "nbformat": 4,
 "nbformat_minor": 5
}
