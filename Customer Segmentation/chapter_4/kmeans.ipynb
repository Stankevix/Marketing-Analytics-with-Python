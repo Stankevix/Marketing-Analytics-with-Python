{
 "cells": [
  {
   "cell_type": "markdown",
   "id": "laughing-contribution",
   "metadata": {},
   "source": [
    "# k-means clustering\n"
   ]
  },
  {
   "cell_type": "markdown",
   "id": "positive-framework",
   "metadata": {},
   "source": [
    "## Data re-processing"
   ]
  },
  {
   "cell_type": "code",
   "execution_count": 5,
   "id": "premier-program",
   "metadata": {
    "ExecuteTime": {
     "end_time": "2021-06-26T16:56:26.770309Z",
     "start_time": "2021-06-26T16:56:26.758524Z"
    }
   },
   "outputs": [],
   "source": [
    "import pandas as pd\n",
    "import numpy as np\n",
    "import seaborn as sns\n",
    "import matplotlib.pyplot as plt\n",
    "\n",
    "from sklearn.preprocessing import StandardScaler\n",
    "\n",
    "sns.set_style('darkgrid')"
   ]
  },
  {
   "cell_type": "code",
   "execution_count": 4,
   "id": "aggregate-award",
   "metadata": {
    "ExecuteTime": {
     "end_time": "2021-06-26T16:56:12.389700Z",
     "start_time": "2021-06-26T16:56:12.364742Z"
    }
   },
   "outputs": [
    {
     "data": {
      "text/html": [
       "<div>\n",
       "<style scoped>\n",
       "    .dataframe tbody tr th:only-of-type {\n",
       "        vertical-align: middle;\n",
       "    }\n",
       "\n",
       "    .dataframe tbody tr th {\n",
       "        vertical-align: top;\n",
       "    }\n",
       "\n",
       "    .dataframe thead th {\n",
       "        text-align: right;\n",
       "    }\n",
       "</style>\n",
       "<table border=\"1\" class=\"dataframe\">\n",
       "  <thead>\n",
       "    <tr style=\"text-align: right;\">\n",
       "      <th></th>\n",
       "      <th>CustomerID</th>\n",
       "      <th>Recency</th>\n",
       "      <th>Frequency</th>\n",
       "      <th>MonetaryValue</th>\n",
       "    </tr>\n",
       "  </thead>\n",
       "  <tbody>\n",
       "    <tr>\n",
       "      <th>0</th>\n",
       "      <td>12747</td>\n",
       "      <td>3</td>\n",
       "      <td>25</td>\n",
       "      <td>948.70</td>\n",
       "    </tr>\n",
       "    <tr>\n",
       "      <th>1</th>\n",
       "      <td>12748</td>\n",
       "      <td>1</td>\n",
       "      <td>888</td>\n",
       "      <td>7046.16</td>\n",
       "    </tr>\n",
       "    <tr>\n",
       "      <th>2</th>\n",
       "      <td>12749</td>\n",
       "      <td>4</td>\n",
       "      <td>37</td>\n",
       "      <td>813.45</td>\n",
       "    </tr>\n",
       "    <tr>\n",
       "      <th>3</th>\n",
       "      <td>12820</td>\n",
       "      <td>4</td>\n",
       "      <td>17</td>\n",
       "      <td>268.02</td>\n",
       "    </tr>\n",
       "    <tr>\n",
       "      <th>4</th>\n",
       "      <td>12822</td>\n",
       "      <td>71</td>\n",
       "      <td>9</td>\n",
       "      <td>146.15</td>\n",
       "    </tr>\n",
       "  </tbody>\n",
       "</table>\n",
       "</div>"
      ],
      "text/plain": [
       "   CustomerID  Recency  Frequency  MonetaryValue\n",
       "0       12747        3         25         948.70\n",
       "1       12748        1        888        7046.16\n",
       "2       12749        4         37         813.45\n",
       "3       12820        4         17         268.02\n",
       "4       12822       71          9         146.15"
      ]
     },
     "execution_count": 4,
     "metadata": {},
     "output_type": "execute_result"
    }
   ],
   "source": [
    "datamart = pd.read_csv('datamart_rfm.csv')\n",
    "datamart.head()"
   ]
  },
  {
   "cell_type": "code",
   "execution_count": 6,
   "id": "contrary-adoption",
   "metadata": {
    "ExecuteTime": {
     "end_time": "2021-06-26T16:56:35.488068Z",
     "start_time": "2021-06-26T16:56:35.464097Z"
    }
   },
   "outputs": [],
   "source": [
    "scaler = StandardScaler()\n",
    "scaler.fit(datamart)\n",
    "\n",
    "datamart_normalized = scaler.transform(datamart)"
   ]
  },
  {
   "cell_type": "code",
   "execution_count": 7,
   "id": "accessory-philip",
   "metadata": {
    "ExecuteTime": {
     "end_time": "2021-06-26T16:56:41.517168Z",
     "start_time": "2021-06-26T16:56:41.501179Z"
    }
   },
   "outputs": [
    {
     "name": "stdout",
     "output_type": "stream",
     "text": [
      "mean:  [-0. -0. -0.  0.]\n",
      "std:  [1. 1. 1. 1.]\n"
     ]
    }
   ],
   "source": [
    "print('mean: ',datamart_normalized.mean(axis=0).round(2))\n",
    "print('std: ',datamart_normalized.std(axis=0).round(2))"
   ]
  },
  {
   "cell_type": "code",
   "execution_count": 40,
   "id": "dress-association",
   "metadata": {
    "ExecuteTime": {
     "end_time": "2021-06-26T17:57:18.757317Z",
     "start_time": "2021-06-26T17:57:18.738339Z"
    }
   },
   "outputs": [
    {
     "data": {
      "text/html": [
       "<div>\n",
       "<style scoped>\n",
       "    .dataframe tbody tr th:only-of-type {\n",
       "        vertical-align: middle;\n",
       "    }\n",
       "\n",
       "    .dataframe tbody tr th {\n",
       "        vertical-align: top;\n",
       "    }\n",
       "\n",
       "    .dataframe thead th {\n",
       "        text-align: right;\n",
       "    }\n",
       "</style>\n",
       "<table border=\"1\" class=\"dataframe\">\n",
       "  <thead>\n",
       "    <tr style=\"text-align: right;\">\n",
       "      <th></th>\n",
       "      <th>CustomerID</th>\n",
       "      <th>Recency</th>\n",
       "      <th>Frequency</th>\n",
       "      <th>MonetaryValue</th>\n",
       "    </tr>\n",
       "  </thead>\n",
       "  <tbody>\n",
       "    <tr>\n",
       "      <th>0</th>\n",
       "      <td>-1.795103</td>\n",
       "      <td>-0.925896</td>\n",
       "      <td>0.143679</td>\n",
       "      <td>0.429024</td>\n",
       "    </tr>\n",
       "    <tr>\n",
       "      <th>1</th>\n",
       "      <td>-1.794463</td>\n",
       "      <td>-0.947075</td>\n",
       "      <td>19.870087</td>\n",
       "      <td>4.954851</td>\n",
       "    </tr>\n",
       "    <tr>\n",
       "      <th>2</th>\n",
       "      <td>-1.793822</td>\n",
       "      <td>-0.915306</td>\n",
       "      <td>0.417975</td>\n",
       "      <td>0.328634</td>\n",
       "    </tr>\n",
       "    <tr>\n",
       "      <th>3</th>\n",
       "      <td>-1.748379</td>\n",
       "      <td>-0.915306</td>\n",
       "      <td>-0.039184</td>\n",
       "      <td>-0.076210</td>\n",
       "    </tr>\n",
       "    <tr>\n",
       "      <th>4</th>\n",
       "      <td>-1.747099</td>\n",
       "      <td>-0.205813</td>\n",
       "      <td>-0.222048</td>\n",
       "      <td>-0.166668</td>\n",
       "    </tr>\n",
       "    <tr>\n",
       "      <th>...</th>\n",
       "      <td>...</td>\n",
       "      <td>...</td>\n",
       "      <td>...</td>\n",
       "      <td>...</td>\n",
       "    </tr>\n",
       "    <tr>\n",
       "      <th>3638</th>\n",
       "      <td>1.746304</td>\n",
       "      <td>1.986205</td>\n",
       "      <td>-0.382053</td>\n",
       "      <td>-0.246422</td>\n",
       "    </tr>\n",
       "    <tr>\n",
       "      <th>3639</th>\n",
       "      <td>1.746944</td>\n",
       "      <td>0.959028</td>\n",
       "      <td>-0.382053</td>\n",
       "      <td>-0.251544</td>\n",
       "    </tr>\n",
       "    <tr>\n",
       "      <th>3640</th>\n",
       "      <td>1.747584</td>\n",
       "      <td>-0.872949</td>\n",
       "      <td>-0.382053</td>\n",
       "      <td>-0.252360</td>\n",
       "    </tr>\n",
       "    <tr>\n",
       "      <th>3641</th>\n",
       "      <td>1.748224</td>\n",
       "      <td>-0.915306</td>\n",
       "      <td>3.046639</td>\n",
       "      <td>0.046194</td>\n",
       "    </tr>\n",
       "    <tr>\n",
       "      <th>3642</th>\n",
       "      <td>1.750785</td>\n",
       "      <td>-0.502318</td>\n",
       "      <td>-0.084900</td>\n",
       "      <td>0.018605</td>\n",
       "    </tr>\n",
       "  </tbody>\n",
       "</table>\n",
       "<p>3643 rows × 4 columns</p>\n",
       "</div>"
      ],
      "text/plain": [
       "      CustomerID   Recency  Frequency  MonetaryValue\n",
       "0      -1.795103 -0.925896   0.143679       0.429024\n",
       "1      -1.794463 -0.947075  19.870087       4.954851\n",
       "2      -1.793822 -0.915306   0.417975       0.328634\n",
       "3      -1.748379 -0.915306  -0.039184      -0.076210\n",
       "4      -1.747099 -0.205813  -0.222048      -0.166668\n",
       "...          ...       ...        ...            ...\n",
       "3638    1.746304  1.986205  -0.382053      -0.246422\n",
       "3639    1.746944  0.959028  -0.382053      -0.251544\n",
       "3640    1.747584 -0.872949  -0.382053      -0.252360\n",
       "3641    1.748224 -0.915306   3.046639       0.046194\n",
       "3642    1.750785 -0.502318  -0.084900       0.018605\n",
       "\n",
       "[3643 rows x 4 columns]"
      ]
     },
     "execution_count": 40,
     "metadata": {},
     "output_type": "execute_result"
    }
   ],
   "source": [
    "datamart_normalized = pd.DataFrame(data=datamart_normalized, index=datamart.index, columns=datamart.columns)\n",
    "datamart_normalized"
   ]
  },
  {
   "cell_type": "markdown",
   "id": "vulnerable-muscle",
   "metadata": {},
   "source": [
    "## Build Model"
   ]
  },
  {
   "cell_type": "markdown",
   "id": "potential-fraud",
   "metadata": {},
   "source": [
    "Ao executar k-means, você terá que passar o número de clusters. Esta decisão não é fácil, se não houver dados que justifiquem a escolha. Felizmente, existem vários métodos para obter uma boa estimativa do que deveria ser: \n",
    "\n",
    "    Usaremos métodos visuais, como o critério do cotovelo, são fáceis de interpretar e fornecem uma boa estimativa. \n",
    "\n",
    "Existem também métodos matemáticos, como o coeficiente de silhueta, que é útil ao tentar encontrar um modelo com clusters mais bem definidos. Não sem suas advertências, mas ainda comumente usado. Não usaremos este método para nosso projeto de segmentação. \n",
    "\n",
    "Por fim, é importante entender que esses métodos devem ser interpretados como consultivos, pois estamos segmentando clientes. A interpretação de cada solução deve primeiro fazer sentido para a empresa e ser acionável."
   ]
  },
  {
   "cell_type": "code",
   "execution_count": 11,
   "id": "faced-formula",
   "metadata": {
    "ExecuteTime": {
     "end_time": "2021-06-26T17:01:44.761952Z",
     "start_time": "2021-06-26T17:01:44.746992Z"
    }
   },
   "outputs": [],
   "source": [
    "from sklearn.cluster import KMeans"
   ]
  },
  {
   "cell_type": "code",
   "execution_count": 64,
   "id": "fuzzy-feature",
   "metadata": {
    "ExecuteTime": {
     "end_time": "2021-06-26T18:08:46.969052Z",
     "start_time": "2021-06-26T18:08:46.952070Z"
    }
   },
   "outputs": [],
   "source": [
    "kmeans = KMeans(n_clusters = 3, random_state = 1)"
   ]
  },
  {
   "cell_type": "code",
   "execution_count": 65,
   "id": "cultural-schema",
   "metadata": {
    "ExecuteTime": {
     "end_time": "2021-06-26T18:08:47.357278Z",
     "start_time": "2021-06-26T18:08:47.285475Z"
    }
   },
   "outputs": [
    {
     "data": {
      "text/plain": [
       "KMeans(n_clusters=3, random_state=1)"
      ]
     },
     "execution_count": 65,
     "metadata": {},
     "output_type": "execute_result"
    }
   ],
   "source": [
    "kmeans.fit(datamart_normalized)"
   ]
  },
  {
   "cell_type": "code",
   "execution_count": 66,
   "id": "female-cholesterol",
   "metadata": {
    "ExecuteTime": {
     "end_time": "2021-06-26T18:08:47.619585Z",
     "start_time": "2021-06-26T18:08:47.599622Z"
    }
   },
   "outputs": [],
   "source": [
    "cluster_labels = kmeans.labels_"
   ]
  },
  {
   "cell_type": "markdown",
   "id": "possible-framework",
   "metadata": {},
   "source": [
    "## Analysing Clusters"
   ]
  },
  {
   "cell_type": "code",
   "execution_count": 67,
   "id": "martial-martial",
   "metadata": {
    "ExecuteTime": {
     "end_time": "2021-06-26T18:08:48.460672Z",
     "start_time": "2021-06-26T18:08:48.444763Z"
    }
   },
   "outputs": [],
   "source": [
    "datamart_kn = datamart.assign(Cluster=cluster_labels)"
   ]
  },
  {
   "cell_type": "code",
   "execution_count": 68,
   "id": "parallel-construction",
   "metadata": {
    "ExecuteTime": {
     "end_time": "2021-06-26T18:08:48.866004Z",
     "start_time": "2021-06-26T18:08:48.831066Z"
    }
   },
   "outputs": [
    {
     "data": {
      "text/html": [
       "<div>\n",
       "<style scoped>\n",
       "    .dataframe tbody tr th:only-of-type {\n",
       "        vertical-align: middle;\n",
       "    }\n",
       "\n",
       "    .dataframe tbody tr th {\n",
       "        vertical-align: top;\n",
       "    }\n",
       "\n",
       "    .dataframe thead tr th {\n",
       "        text-align: left;\n",
       "    }\n",
       "\n",
       "    .dataframe thead tr:last-of-type th {\n",
       "        text-align: right;\n",
       "    }\n",
       "</style>\n",
       "<table border=\"1\" class=\"dataframe\">\n",
       "  <thead>\n",
       "    <tr>\n",
       "      <th></th>\n",
       "      <th>Recency</th>\n",
       "      <th>Frequency</th>\n",
       "      <th colspan=\"2\" halign=\"left\">MonetaryValue</th>\n",
       "    </tr>\n",
       "    <tr>\n",
       "      <th></th>\n",
       "      <th>mean</th>\n",
       "      <th>mean</th>\n",
       "      <th>mean</th>\n",
       "      <th>count</th>\n",
       "    </tr>\n",
       "    <tr>\n",
       "      <th>Cluster</th>\n",
       "      <th></th>\n",
       "      <th></th>\n",
       "      <th></th>\n",
       "      <th></th>\n",
       "    </tr>\n",
       "  </thead>\n",
       "  <tbody>\n",
       "    <tr>\n",
       "      <th>0</th>\n",
       "      <td>22.8</td>\n",
       "      <td>380.8</td>\n",
       "      <td>15403.0</td>\n",
       "      <td>15</td>\n",
       "    </tr>\n",
       "    <tr>\n",
       "      <th>1</th>\n",
       "      <td>43.3</td>\n",
       "      <td>20.9</td>\n",
       "      <td>373.6</td>\n",
       "      <td>2750</td>\n",
       "    </tr>\n",
       "    <tr>\n",
       "      <th>2</th>\n",
       "      <td>239.2</td>\n",
       "      <td>5.8</td>\n",
       "      <td>104.9</td>\n",
       "      <td>878</td>\n",
       "    </tr>\n",
       "  </tbody>\n",
       "</table>\n",
       "</div>"
      ],
      "text/plain": [
       "        Recency Frequency MonetaryValue      \n",
       "           mean      mean          mean count\n",
       "Cluster                                      \n",
       "0          22.8     380.8       15403.0    15\n",
       "1          43.3      20.9         373.6  2750\n",
       "2         239.2       5.8         104.9   878"
      ]
     },
     "execution_count": 68,
     "metadata": {},
     "output_type": "execute_result"
    }
   ],
   "source": [
    "datamart_kn.groupby(['Cluster']).agg({'Recency':'mean',\n",
    "                                     'Frequency':'mean',\n",
    "                                     'MonetaryValue':['mean','count']}).round(1)"
   ]
  },
  {
   "cell_type": "markdown",
   "id": "instrumental-spectacular",
   "metadata": {},
   "source": [
    "### Profile and interpret segments\n"
   ]
  },
  {
   "cell_type": "code",
   "execution_count": 69,
   "id": "heard-prairie",
   "metadata": {
    "ExecuteTime": {
     "end_time": "2021-06-26T18:08:49.721157Z",
     "start_time": "2021-06-26T18:08:49.697222Z"
    }
   },
   "outputs": [
    {
     "data": {
      "text/html": [
       "<div>\n",
       "<style scoped>\n",
       "    .dataframe tbody tr th:only-of-type {\n",
       "        vertical-align: middle;\n",
       "    }\n",
       "\n",
       "    .dataframe tbody tr th {\n",
       "        vertical-align: top;\n",
       "    }\n",
       "\n",
       "    .dataframe thead th {\n",
       "        text-align: right;\n",
       "    }\n",
       "</style>\n",
       "<table border=\"1\" class=\"dataframe\">\n",
       "  <thead>\n",
       "    <tr style=\"text-align: right;\">\n",
       "      <th></th>\n",
       "      <th>CustomerID</th>\n",
       "      <th>Cluster</th>\n",
       "      <th>Attribute</th>\n",
       "      <th>Value</th>\n",
       "    </tr>\n",
       "  </thead>\n",
       "  <tbody>\n",
       "    <tr>\n",
       "      <th>0</th>\n",
       "      <td>-1.795103</td>\n",
       "      <td>1</td>\n",
       "      <td>Recency</td>\n",
       "      <td>-0.925896</td>\n",
       "    </tr>\n",
       "    <tr>\n",
       "      <th>1</th>\n",
       "      <td>-1.794463</td>\n",
       "      <td>0</td>\n",
       "      <td>Recency</td>\n",
       "      <td>-0.947075</td>\n",
       "    </tr>\n",
       "    <tr>\n",
       "      <th>2</th>\n",
       "      <td>-1.793822</td>\n",
       "      <td>1</td>\n",
       "      <td>Recency</td>\n",
       "      <td>-0.915306</td>\n",
       "    </tr>\n",
       "    <tr>\n",
       "      <th>3</th>\n",
       "      <td>-1.748379</td>\n",
       "      <td>1</td>\n",
       "      <td>Recency</td>\n",
       "      <td>-0.915306</td>\n",
       "    </tr>\n",
       "    <tr>\n",
       "      <th>4</th>\n",
       "      <td>-1.747099</td>\n",
       "      <td>1</td>\n",
       "      <td>Recency</td>\n",
       "      <td>-0.205813</td>\n",
       "    </tr>\n",
       "    <tr>\n",
       "      <th>...</th>\n",
       "      <td>...</td>\n",
       "      <td>...</td>\n",
       "      <td>...</td>\n",
       "      <td>...</td>\n",
       "    </tr>\n",
       "    <tr>\n",
       "      <th>10924</th>\n",
       "      <td>1.746304</td>\n",
       "      <td>2</td>\n",
       "      <td>MonetaryValue</td>\n",
       "      <td>-0.246422</td>\n",
       "    </tr>\n",
       "    <tr>\n",
       "      <th>10925</th>\n",
       "      <td>1.746944</td>\n",
       "      <td>2</td>\n",
       "      <td>MonetaryValue</td>\n",
       "      <td>-0.251544</td>\n",
       "    </tr>\n",
       "    <tr>\n",
       "      <th>10926</th>\n",
       "      <td>1.747584</td>\n",
       "      <td>1</td>\n",
       "      <td>MonetaryValue</td>\n",
       "      <td>-0.252360</td>\n",
       "    </tr>\n",
       "    <tr>\n",
       "      <th>10927</th>\n",
       "      <td>1.748224</td>\n",
       "      <td>1</td>\n",
       "      <td>MonetaryValue</td>\n",
       "      <td>0.046194</td>\n",
       "    </tr>\n",
       "    <tr>\n",
       "      <th>10928</th>\n",
       "      <td>1.750785</td>\n",
       "      <td>1</td>\n",
       "      <td>MonetaryValue</td>\n",
       "      <td>0.018605</td>\n",
       "    </tr>\n",
       "  </tbody>\n",
       "</table>\n",
       "<p>10929 rows × 4 columns</p>\n",
       "</div>"
      ],
      "text/plain": [
       "       CustomerID  Cluster      Attribute     Value\n",
       "0       -1.795103        1        Recency -0.925896\n",
       "1       -1.794463        0        Recency -0.947075\n",
       "2       -1.793822        1        Recency -0.915306\n",
       "3       -1.748379        1        Recency -0.915306\n",
       "4       -1.747099        1        Recency -0.205813\n",
       "...           ...      ...            ...       ...\n",
       "10924    1.746304        2  MonetaryValue -0.246422\n",
       "10925    1.746944        2  MonetaryValue -0.251544\n",
       "10926    1.747584        1  MonetaryValue -0.252360\n",
       "10927    1.748224        1  MonetaryValue  0.046194\n",
       "10928    1.750785        1  MonetaryValue  0.018605\n",
       "\n",
       "[10929 rows x 4 columns]"
      ]
     },
     "execution_count": 69,
     "metadata": {},
     "output_type": "execute_result"
    }
   ],
   "source": [
    "datamart_normalized['Cluster'] = datamart_kn['Cluster']\n",
    "\n",
    "datamart_melt = pd.melt(datamart_normalized.reset_index(),\n",
    "                       id_vars=['CustomerID','Cluster'],\n",
    "                       value_vars=['Recency','Frequency','MonetaryValue'],\n",
    "                       var_name='Attribute',\n",
    "                       value_name='Value')\n",
    "datamart_melt"
   ]
  },
  {
   "cell_type": "code",
   "execution_count": 70,
   "id": "congressional-mambo",
   "metadata": {
    "ExecuteTime": {
     "end_time": "2021-06-26T18:08:50.784772Z",
     "start_time": "2021-06-26T18:08:50.315059Z"
    }
   },
   "outputs": [
    {
     "data": {
      "image/png": "[encoded data removed]",
      "text/plain": [
       "<Figure size 432x288 with 1 Axes>"
      ]
     },
     "metadata": {},
     "output_type": "display_data"
    }
   ],
   "source": [
    "plt.title('Snake plot')\n",
    "sns.lineplot(x=\"Attribute\",y=\"Value\",hue=\"Cluster\",data=datamart_melt)\n",
    "plt.show()"
   ]
  },
  {
   "cell_type": "code",
   "execution_count": 74,
   "id": "expected-uniform",
   "metadata": {
    "ExecuteTime": {
     "end_time": "2021-06-26T18:12:34.210966Z",
     "start_time": "2021-06-26T18:12:34.189027Z"
    }
   },
   "outputs": [],
   "source": [
    "cluster_avg = datamart_kn.groupby(['Cluster']).mean()\n",
    "population_avg = datamart.mean()\n",
    "relative_imp = cluster_avg/population_avg - 1"
   ]
  },
  {
   "cell_type": "code",
   "execution_count": 75,
   "id": "growing-message",
   "metadata": {
    "ExecuteTime": {
     "end_time": "2021-06-26T18:12:39.147674Z",
     "start_time": "2021-06-26T18:12:39.135713Z"
    }
   },
   "outputs": [
    {
     "data": {
      "text/html": [
       "<div>\n",
       "<style scoped>\n",
       "    .dataframe tbody tr th:only-of-type {\n",
       "        vertical-align: middle;\n",
       "    }\n",
       "\n",
       "    .dataframe tbody tr th {\n",
       "        vertical-align: top;\n",
       "    }\n",
       "\n",
       "    .dataframe thead th {\n",
       "        text-align: right;\n",
       "    }\n",
       "</style>\n",
       "<table border=\"1\" class=\"dataframe\">\n",
       "  <thead>\n",
       "    <tr style=\"text-align: right;\">\n",
       "      <th></th>\n",
       "      <th>CustomerID</th>\n",
       "      <th>Recency</th>\n",
       "      <th>Frequency</th>\n",
       "      <th>MonetaryValue</th>\n",
       "    </tr>\n",
       "    <tr>\n",
       "      <th>Cluster</th>\n",
       "      <th></th>\n",
       "      <th></th>\n",
       "      <th></th>\n",
       "      <th></th>\n",
       "    </tr>\n",
       "  </thead>\n",
       "  <tbody>\n",
       "    <tr>\n",
       "      <th>0</th>\n",
       "      <td>-0.01</td>\n",
       "      <td>-0.75</td>\n",
       "      <td>19.35</td>\n",
       "      <td>40.55</td>\n",
       "    </tr>\n",
       "    <tr>\n",
       "      <th>1</th>\n",
       "      <td>-0.00</td>\n",
       "      <td>-0.52</td>\n",
       "      <td>0.11</td>\n",
       "      <td>0.01</td>\n",
       "    </tr>\n",
       "    <tr>\n",
       "      <th>2</th>\n",
       "      <td>0.00</td>\n",
       "      <td>1.64</td>\n",
       "      <td>-0.69</td>\n",
       "      <td>-0.72</td>\n",
       "    </tr>\n",
       "  </tbody>\n",
       "</table>\n",
       "</div>"
      ],
      "text/plain": [
       "         CustomerID  Recency  Frequency  MonetaryValue\n",
       "Cluster                                               \n",
       "0             -0.01    -0.75      19.35          40.55\n",
       "1             -0.00    -0.52       0.11           0.01\n",
       "2              0.00     1.64      -0.69          -0.72"
      ]
     },
     "execution_count": 75,
     "metadata": {},
     "output_type": "execute_result"
    }
   ],
   "source": [
    "relative_imp.round(2)"
   ]
  },
  {
   "cell_type": "code",
   "execution_count": 77,
   "id": "nuclear-hampton",
   "metadata": {
    "ExecuteTime": {
     "end_time": "2021-06-26T18:13:22.384343Z",
     "start_time": "2021-06-26T18:13:22.199834Z"
    }
   },
   "outputs": [
    {
     "data": {
      "image/png": "[encoded data removed]",
      "text/plain": [
       "<Figure size 576x144 with 2 Axes>"
      ]
     },
     "metadata": {},
     "output_type": "display_data"
    }
   ],
   "source": [
    "plt.figure(figsize=(8,2))\n",
    "plt.title(\"Relative importance of attr\")\n",
    "sns.heatmap(data=relative_imp,annot=True,fmt='.2f',cmap='RdYlGn')\n",
    "plt.show()"
   ]
  },
  {
   "cell_type": "markdown",
   "id": "alike-motion",
   "metadata": {},
   "source": [
    "## Choosing the number of clusters\n"
   ]
  },
  {
   "cell_type": "markdown",
   "id": "wrong-difference",
   "metadata": {},
   "source": [
    "Vamos nos concentrar no critério do cotovelo e na experimentação.\n",
    "\n",
    "O método de critério de cotovelo plota a soma dos erros quadrados (SSE) para cada número de segmentos. A soma dos erros quadrados é basicamente a soma das distâncias quadradas de cada ponto de dados até o centro do cluster. Em seguida, examinamos o gráfico para identificar onde a redução no SSE desacelera e se torna um tanto marginal. \n",
    "\n",
    "Esse ponto se parece com o cotovelo de um braço dobrado e mostra onde há retornos decrescentes ao aumentar o número de clusters. Este ponto representa o número ideal de clusters de uma perspectiva de erros de soma dos quadrados. No entanto, devemos escolher várias opções ao redor do cotovelo para testar o que faz mais sentido."
   ]
  },
  {
   "cell_type": "code",
   "execution_count": 25,
   "id": "terminal-response",
   "metadata": {
    "ExecuteTime": {
     "end_time": "2021-06-26T17:13:14.331377Z",
     "start_time": "2021-06-26T17:13:13.412835Z"
    }
   },
   "outputs": [],
   "source": [
    "sse = {}\n",
    "\n",
    "for k in range(1, 11):\n",
    "    kmeans = KMeans(n_clusters=k,random_state=1)\n",
    "    kmeans.fit(datamart_normalized)\n",
    "    sse[k] = kmeans.inertia_ #soma"
   ]
  },
  {
   "cell_type": "code",
   "execution_count": 29,
   "id": "usual-horror",
   "metadata": {
    "ExecuteTime": {
     "end_time": "2021-06-26T17:14:04.464521Z",
     "start_time": "2021-06-26T17:14:04.294973Z"
    }
   },
   "outputs": [
    {
     "data": {
      "image/png": "[encoded data removed]",
      "text/plain": [
       "<Figure size 432x288 with 1 Axes>"
      ]
     },
     "metadata": {},
     "output_type": "display_data"
    }
   ],
   "source": [
    "plt.title('Metodo Cotovelo (Elbow)')\n",
    "\n",
    "sns.pointplot(x=list(sse.keys()),y=list(sse.values()))\n",
    "\n",
    "plt.xlabel('k')\n",
    "plt.ylabel('SSE')\n",
    "\n",
    "plt.show()\n",
    "\n"
   ]
  },
  {
   "cell_type": "markdown",
   "id": "bibliographic-retreat",
   "metadata": {},
   "source": [
    "## End to End"
   ]
  },
  {
   "cell_type": "code",
   "execution_count": 80,
   "id": "armed-turtle",
   "metadata": {
    "ExecuteTime": {
     "end_time": "2021-06-26T18:17:09.356063Z",
     "start_time": "2021-06-26T18:17:09.346091Z"
    }
   },
   "outputs": [],
   "source": [
    "datamart_rfmt = pd.read_csv('datamart_rfmt.csv')"
   ]
  },
  {
   "cell_type": "code",
   "execution_count": 81,
   "id": "organizational-survivor",
   "metadata": {
    "ExecuteTime": {
     "end_time": "2021-06-26T18:17:10.904875Z",
     "start_time": "2021-06-26T18:17:10.892877Z"
    }
   },
   "outputs": [],
   "source": [
    "datamart_rfmt_log = np.log(datamart_rfmt)\n",
    "\n",
    "scaler = StandardScaler(); scaler.fit(datamart_rfmt_log)\n",
    "\n",
    "datamart_rfmt_normalized = scaler.transform(datamart_rfmt_log)"
   ]
  },
  {
   "cell_type": "code",
   "execution_count": 82,
   "id": "catholic-valve",
   "metadata": {
    "ExecuteTime": {
     "end_time": "2021-06-26T18:18:37.338695Z",
     "start_time": "2021-06-26T18:18:35.404862Z"
    }
   },
   "outputs": [
    {
     "data": {
      "image/png": "[encoded data removed]",
      "text/plain": [
       "<Figure size 432x288 with 1 Axes>"
      ]
     },
     "metadata": {},
     "output_type": "display_data"
    }
   ],
   "source": [
    "for k in range(1, 11):\n",
    "    kmeans = KMeans(n_clusters=k, random_state=1).fit(datamart_rfmt_normalized)\n",
    "    sse[k] = kmeans.inertia_   \n",
    "\n",
    "plt.title('The Elbow Method')\n",
    "plt.xlabel('k')\n",
    "plt.ylabel('SSE')\n",
    "sns.pointplot(x=list(sse.keys()), y=list(sse.values()))\n",
    "plt.show()"
   ]
  },
  {
   "cell_type": "code",
   "execution_count": null,
   "id": "metric-medicare",
   "metadata": {},
   "outputs": [],
   "source": [
    "kmeans = KMeans(n_clusters = 4, random_state = 1) \n",
    "kmeans.fit(datamart_rfmt_normalized)\n",
    "cluster_labels = kmeans.labels_"
   ]
  },
  {
   "cell_type": "code",
   "execution_count": 83,
   "id": "motivated-nashville",
   "metadata": {
    "ExecuteTime": {
     "end_time": "2021-06-26T18:23:34.979328Z",
     "start_time": "2021-06-26T18:23:34.930901Z"
    }
   },
   "outputs": [
    {
     "data": {
      "text/html": [
       "<div>\n",
       "<style scoped>\n",
       "    .dataframe tbody tr th:only-of-type {\n",
       "        vertical-align: middle;\n",
       "    }\n",
       "\n",
       "    .dataframe tbody tr th {\n",
       "        vertical-align: top;\n",
       "    }\n",
       "\n",
       "    .dataframe thead tr th {\n",
       "        text-align: left;\n",
       "    }\n",
       "\n",
       "    .dataframe thead tr:last-of-type th {\n",
       "        text-align: right;\n",
       "    }\n",
       "</style>\n",
       "<table border=\"1\" class=\"dataframe\">\n",
       "  <thead>\n",
       "    <tr>\n",
       "      <th></th>\n",
       "      <th>Recency</th>\n",
       "      <th>Frequency</th>\n",
       "      <th>MonetaryValue</th>\n",
       "      <th colspan=\"2\" halign=\"left\">Tenure</th>\n",
       "    </tr>\n",
       "    <tr>\n",
       "      <th></th>\n",
       "      <th>mean</th>\n",
       "      <th>mean</th>\n",
       "      <th>mean</th>\n",
       "      <th>mean</th>\n",
       "      <th>count</th>\n",
       "    </tr>\n",
       "    <tr>\n",
       "      <th>Cluster</th>\n",
       "      <th></th>\n",
       "      <th></th>\n",
       "      <th></th>\n",
       "      <th></th>\n",
       "      <th></th>\n",
       "    </tr>\n",
       "  </thead>\n",
       "  <tbody>\n",
       "    <tr>\n",
       "      <th>0</th>\n",
       "      <td>22.8</td>\n",
       "      <td>380.8</td>\n",
       "      <td>15403.0</td>\n",
       "      <td>327.2</td>\n",
       "      <td>15</td>\n",
       "    </tr>\n",
       "    <tr>\n",
       "      <th>1</th>\n",
       "      <td>43.3</td>\n",
       "      <td>20.9</td>\n",
       "      <td>373.6</td>\n",
       "      <td>188.4</td>\n",
       "      <td>2750</td>\n",
       "    </tr>\n",
       "    <tr>\n",
       "      <th>2</th>\n",
       "      <td>239.2</td>\n",
       "      <td>5.8</td>\n",
       "      <td>104.9</td>\n",
       "      <td>261.4</td>\n",
       "      <td>878</td>\n",
       "    </tr>\n",
       "  </tbody>\n",
       "</table>\n",
       "</div>"
      ],
      "text/plain": [
       "        Recency Frequency MonetaryValue Tenure      \n",
       "           mean      mean          mean   mean count\n",
       "Cluster                                             \n",
       "0          22.8     380.8       15403.0  327.2    15\n",
       "1          43.3      20.9         373.6  188.4  2750\n",
       "2         239.2       5.8         104.9  261.4   878"
      ]
     },
     "execution_count": 83,
     "metadata": {},
     "output_type": "execute_result"
    }
   ],
   "source": [
    "datamart_rfmt_k4 = datamart_rfmt.assign(Cluster=cluster_labels)\n",
    "\n",
    "grouped = datamart_rfmt_k4.groupby(['Cluster'])\n",
    "\n",
    "grouped.agg({\n",
    "    'Recency': 'mean',\n",
    "    'Frequency': 'mean',\n",
    "    'MonetaryValue': 'mean',\n",
    "    'Tenure': ['mean', 'count']\n",
    "  }).round(1)"
   ]
  },
  {
   "cell_type": "code",
   "execution_count": 84,
   "id": "exotic-lawyer",
   "metadata": {
    "ExecuteTime": {
     "end_time": "2021-06-26T18:24:12.289032Z",
     "start_time": "2021-06-26T18:24:12.270082Z"
    }
   },
   "outputs": [],
   "source": [
    "cluster_avg = datamart_rfmt_k4.groupby(['Cluster']).mean()\n",
    "population_avg = datamart.mean()\n",
    "relative_imp = cluster_avg/population_avg - 1"
   ]
  },
  {
   "cell_type": "code",
   "execution_count": 85,
   "id": "functioning-technique",
   "metadata": {
    "ExecuteTime": {
     "end_time": "2021-06-26T18:24:13.267525Z",
     "start_time": "2021-06-26T18:24:13.077642Z"
    }
   },
   "outputs": [
    {
     "data": {
      "image/png": "[encoded data removed]",
      "text/plain": [
       "<Figure size 576x144 with 2 Axes>"
      ]
     },
     "metadata": {},
     "output_type": "display_data"
    }
   ],
   "source": [
    "plt.figure(figsize=(8,2))\n",
    "plt.title(\"Relative importance of attr\")\n",
    "sns.heatmap(data=relative_imp,annot=True,fmt='.2f',cmap='RdYlGn')\n",
    "plt.show()"
   ]
  }
 ],
 "metadata": {
  "kernelspec": {
   "display_name": "Python 3",
   "language": "python",
   "name": "python3"
  },
  "language_info": {
   "codemirror_mode": {
    "name": "ipython",
    "version": 3
   },
   "file_extension": ".py",
   "mimetype": "text/x-python",
   "name": "python",
   "nbconvert_exporter": "python",
   "pygments_lexer": "ipython3",
   "version": "3.6.4"
  },
  "toc": {
   "base_numbering": 1,
   "nav_menu": {},
   "number_sections": true,
   "sideBar": true,
   "skip_h1_title": false,
   "title_cell": "Table of Contents",
   "title_sidebar": "Contents",
   "toc_cell": false,
   "toc_position": {},
   "toc_section_display": true,
   "toc_window_display": false
  }
 },
 "nbformat": 4,
 "nbformat_minor": 5
}
