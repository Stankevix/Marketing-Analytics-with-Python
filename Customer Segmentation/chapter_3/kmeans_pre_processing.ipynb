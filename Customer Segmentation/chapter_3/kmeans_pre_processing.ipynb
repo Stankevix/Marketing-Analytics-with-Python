{
 "cells": [
  {
   "cell_type": "markdown",
   "id": "coated-peace",
   "metadata": {},
   "source": [
    "# Clustering"
   ]
  },
  {
   "cell_type": "markdown",
   "id": "latter-bargain",
   "metadata": {},
   "source": [
    "## Kmeans"
   ]
  },
  {
   "cell_type": "markdown",
   "id": "appointed-current",
   "metadata": {},
   "source": [
    "Usaremos agrupamento por K-means por causa de suas várias vantagens. \n",
    "\n",
    "Em primeiro lugar, é um dos métodos de aprendizagem não supervisionados mais populares e tem sido muito pesquisado, então você pode encontrar respostas e dicas para quase todas as perguntas a respeito. \n",
    "\n",
    "Além disso, é um algoritmo muito rápido em comparação com os mais lentos que não funcionam muito bem com grandes conjuntos de dados - especialmente em sua máquina local. E, finalmente, ele faz seu trabalho bem, contanto que suas suposições sobre os dados estejam corretas. Iremos revisá-los nesta lição e, em seguida, aprender como pré-processar seus dados para obter o máximo do k-means."
   ]
  },
  {
   "cell_type": "markdown",
   "id": "authentic-garbage",
   "metadata": {},
   "source": [
    "Existem algumas suposições que são absolutamente essenciais para abordar antes do agrupamento. \n",
    "\n",
    "A primeira suposição é que todas as variáveis têm distribuições simétricas. Por definição, isso significa que a distribuição não é distorcida (skewed). \n",
    "\n",
    "A segunda suposição é que todas as variáveis têm os mesmos valores médios. Essa é a chave para garantir que cada métrica tenha um peso igual no cálculo de k-médias. Você aprenderá como fazer com que todas as variáveis tenham a mesma média. \n",
    "\n",
    "Por ultimo, dimensionar a variância de cada variável para os mesmos níveis. Da mesma forma que as médias, ajuda o algoritmo a convergir e garante que igual importância seja atribuída a cada variável."
   ]
  },
  {
   "cell_type": "markdown",
   "id": "animal-vision",
   "metadata": {},
   "source": [
    "K-means assume que cada variável tem valor médio igual e variância igual. Usaremos valores recentes, de frequência e monetários para o agrupamento e, na próxima lição, você verá que eles não atendem a nenhum dos critérios."
   ]
  },
  {
   "cell_type": "markdown",
   "id": "indian-reverse",
   "metadata": {},
   "source": [
    "## Data pre-processing"
   ]
  },
  {
   "cell_type": "code",
   "execution_count": 3,
   "id": "handmade-coast",
   "metadata": {
    "ExecuteTime": {
     "end_time": "2021-06-26T16:16:41.722281Z",
     "start_time": "2021-06-26T16:16:40.548093Z"
    }
   },
   "outputs": [],
   "source": [
    "import pandas as pd\n",
    "import numpy as np\n",
    "import seaborn as sns\n",
    "import matplotlib.pyplot as plt\n",
    "\n",
    "sns.set_style('darkgrid')"
   ]
  },
  {
   "cell_type": "code",
   "execution_count": 2,
   "id": "concrete-library",
   "metadata": {
    "ExecuteTime": {
     "end_time": "2021-06-26T16:15:47.464515Z",
     "start_time": "2021-06-26T16:15:47.428582Z"
    }
   },
   "outputs": [
    {
     "data": {
      "text/html": [
       "<div>\n",
       "<style scoped>\n",
       "    .dataframe tbody tr th:only-of-type {\n",
       "        vertical-align: middle;\n",
       "    }\n",
       "\n",
       "    .dataframe tbody tr th {\n",
       "        vertical-align: top;\n",
       "    }\n",
       "\n",
       "    .dataframe thead th {\n",
       "        text-align: right;\n",
       "    }\n",
       "</style>\n",
       "<table border=\"1\" class=\"dataframe\">\n",
       "  <thead>\n",
       "    <tr style=\"text-align: right;\">\n",
       "      <th></th>\n",
       "      <th>CustomerID</th>\n",
       "      <th>Recency</th>\n",
       "      <th>Frequency</th>\n",
       "      <th>MonetaryValue</th>\n",
       "    </tr>\n",
       "  </thead>\n",
       "  <tbody>\n",
       "    <tr>\n",
       "      <th>0</th>\n",
       "      <td>12747</td>\n",
       "      <td>3</td>\n",
       "      <td>25</td>\n",
       "      <td>948.70</td>\n",
       "    </tr>\n",
       "    <tr>\n",
       "      <th>1</th>\n",
       "      <td>12748</td>\n",
       "      <td>1</td>\n",
       "      <td>888</td>\n",
       "      <td>7046.16</td>\n",
       "    </tr>\n",
       "    <tr>\n",
       "      <th>2</th>\n",
       "      <td>12749</td>\n",
       "      <td>4</td>\n",
       "      <td>37</td>\n",
       "      <td>813.45</td>\n",
       "    </tr>\n",
       "    <tr>\n",
       "      <th>3</th>\n",
       "      <td>12820</td>\n",
       "      <td>4</td>\n",
       "      <td>17</td>\n",
       "      <td>268.02</td>\n",
       "    </tr>\n",
       "    <tr>\n",
       "      <th>4</th>\n",
       "      <td>12822</td>\n",
       "      <td>71</td>\n",
       "      <td>9</td>\n",
       "      <td>146.15</td>\n",
       "    </tr>\n",
       "  </tbody>\n",
       "</table>\n",
       "</div>"
      ],
      "text/plain": [
       "   CustomerID  Recency  Frequency  MonetaryValue\n",
       "0       12747        3         25         948.70\n",
       "1       12748        1        888        7046.16\n",
       "2       12749        4         37         813.45\n",
       "3       12820        4         17         268.02\n",
       "4       12822       71          9         146.15"
      ]
     },
     "execution_count": 2,
     "metadata": {},
     "output_type": "execute_result"
    }
   ],
   "source": [
    "datamart = pd.read_csv('rfm_datamart.csv')\n",
    "datamart.head()"
   ]
  },
  {
   "cell_type": "code",
   "execution_count": 13,
   "id": "blocked-interface",
   "metadata": {
    "ExecuteTime": {
     "end_time": "2021-06-26T16:23:39.760359Z",
     "start_time": "2021-06-26T16:23:39.510899Z"
    }
   },
   "outputs": [
    {
     "name": "stderr",
     "output_type": "stream",
     "text": [
      "C:\\Anaconda3\\lib\\site-packages\\seaborn\\distributions.py:2557: FutureWarning: `distplot` is a deprecated function and will be removed in a future version. Please adapt your code to use either `displot` (a figure-level function with similar flexibility) or `histplot` (an axes-level function for histograms).\n",
      "  warnings.warn(msg, FutureWarning)\n"
     ]
    },
    {
     "data": {
      "image/png": "[encoded data removed]",
      "text/plain": [
       "<Figure size 432x288 with 1 Axes>"
      ]
     },
     "metadata": {},
     "output_type": "display_data"
    }
   ],
   "source": [
    "# Managing skewed variables\n",
    "\n",
    "sns.distplot(datamart.Recency)\n",
    "plt.show()"
   ]
  },
  {
   "cell_type": "code",
   "execution_count": 12,
   "id": "personal-latvia",
   "metadata": {
    "ExecuteTime": {
     "end_time": "2021-06-26T16:23:36.126072Z",
     "start_time": "2021-06-26T16:23:35.802802Z"
    }
   },
   "outputs": [
    {
     "name": "stderr",
     "output_type": "stream",
     "text": [
      "C:\\Anaconda3\\lib\\site-packages\\seaborn\\distributions.py:2557: FutureWarning: `distplot` is a deprecated function and will be removed in a future version. Please adapt your code to use either `displot` (a figure-level function with similar flexibility) or `histplot` (an axes-level function for histograms).\n",
      "  warnings.warn(msg, FutureWarning)\n"
     ]
    },
    {
     "data": {
      "image/png": "[encoded data removed]",
      "text/plain": [
       "<Figure size 432x288 with 1 Axes>"
      ]
     },
     "metadata": {},
     "output_type": "display_data"
    }
   ],
   "source": [
    "sns.distplot(datamart.Frequency)\n",
    "plt.show()"
   ]
  },
  {
   "cell_type": "markdown",
   "id": "close-ireland",
   "metadata": {},
   "source": [
    "A maneira mais fácil de remover a distorção dos dados é aplicando uma transformação logarítmica, mas isso só funciona em valores positivos."
   ]
  },
  {
   "cell_type": "code",
   "execution_count": 11,
   "id": "convinced-cleanup",
   "metadata": {
    "ExecuteTime": {
     "end_time": "2021-06-26T16:23:30.654033Z",
     "start_time": "2021-06-26T16:23:30.380760Z"
    }
   },
   "outputs": [
    {
     "name": "stderr",
     "output_type": "stream",
     "text": [
      "C:\\Anaconda3\\lib\\site-packages\\seaborn\\distributions.py:2557: FutureWarning: `distplot` is a deprecated function and will be removed in a future version. Please adapt your code to use either `displot` (a figure-level function with similar flexibility) or `histplot` (an axes-level function for histograms).\n",
      "  warnings.warn(msg, FutureWarning)\n"
     ]
    },
    {
     "data": {
      "image/png": "[encoded data removed]",
      "text/plain": [
       "<Figure size 432x288 with 1 Axes>"
      ]
     },
     "metadata": {},
     "output_type": "display_data"
    }
   ],
   "source": [
    "frequency_log = np.log(datamart['Frequency'])\n",
    "sns.distplot(frequency_log)\n",
    "plt.show()"
   ]
  },
  {
   "cell_type": "markdown",
   "id": "inclusive-thought",
   "metadata": {},
   "source": [
    "## Centering and scaling data"
   ]
  },
  {
   "cell_type": "code",
   "execution_count": 14,
   "id": "reported-victory",
   "metadata": {
    "ExecuteTime": {
     "end_time": "2021-06-26T16:26:03.457026Z",
     "start_time": "2021-06-26T16:26:03.432090Z"
    }
   },
   "outputs": [
    {
     "data": {
      "text/html": [
       "<div>\n",
       "<style scoped>\n",
       "    .dataframe tbody tr th:only-of-type {\n",
       "        vertical-align: middle;\n",
       "    }\n",
       "\n",
       "    .dataframe tbody tr th {\n",
       "        vertical-align: top;\n",
       "    }\n",
       "\n",
       "    .dataframe thead th {\n",
       "        text-align: right;\n",
       "    }\n",
       "</style>\n",
       "<table border=\"1\" class=\"dataframe\">\n",
       "  <thead>\n",
       "    <tr style=\"text-align: right;\">\n",
       "      <th></th>\n",
       "      <th>CustomerID</th>\n",
       "      <th>Recency</th>\n",
       "      <th>Frequency</th>\n",
       "      <th>MonetaryValue</th>\n",
       "    </tr>\n",
       "  </thead>\n",
       "  <tbody>\n",
       "    <tr>\n",
       "      <th>count</th>\n",
       "      <td>3643.000000</td>\n",
       "      <td>3643.00000</td>\n",
       "      <td>3643.000000</td>\n",
       "      <td>3643.000000</td>\n",
       "    </tr>\n",
       "    <tr>\n",
       "      <th>mean</th>\n",
       "      <td>15551.620642</td>\n",
       "      <td>90.43563</td>\n",
       "      <td>18.714247</td>\n",
       "      <td>370.694387</td>\n",
       "    </tr>\n",
       "    <tr>\n",
       "      <th>std</th>\n",
       "      <td>1562.587958</td>\n",
       "      <td>94.44651</td>\n",
       "      <td>43.754468</td>\n",
       "      <td>1347.443451</td>\n",
       "    </tr>\n",
       "    <tr>\n",
       "      <th>min</th>\n",
       "      <td>12747.000000</td>\n",
       "      <td>1.00000</td>\n",
       "      <td>1.000000</td>\n",
       "      <td>0.650000</td>\n",
       "    </tr>\n",
       "    <tr>\n",
       "      <th>25%</th>\n",
       "      <td>14209.500000</td>\n",
       "      <td>19.00000</td>\n",
       "      <td>4.000000</td>\n",
       "      <td>58.705000</td>\n",
       "    </tr>\n",
       "    <tr>\n",
       "      <th>50%</th>\n",
       "      <td>15557.000000</td>\n",
       "      <td>51.00000</td>\n",
       "      <td>9.000000</td>\n",
       "      <td>136.370000</td>\n",
       "    </tr>\n",
       "    <tr>\n",
       "      <th>75%</th>\n",
       "      <td>16890.000000</td>\n",
       "      <td>139.00000</td>\n",
       "      <td>21.000000</td>\n",
       "      <td>334.350000</td>\n",
       "    </tr>\n",
       "    <tr>\n",
       "      <th>max</th>\n",
       "      <td>18287.000000</td>\n",
       "      <td>365.00000</td>\n",
       "      <td>1497.000000</td>\n",
       "      <td>48060.350000</td>\n",
       "    </tr>\n",
       "  </tbody>\n",
       "</table>\n",
       "</div>"
      ],
      "text/plain": [
       "         CustomerID     Recency    Frequency  MonetaryValue\n",
       "count   3643.000000  3643.00000  3643.000000    3643.000000\n",
       "mean   15551.620642    90.43563    18.714247     370.694387\n",
       "std     1562.587958    94.44651    43.754468    1347.443451\n",
       "min    12747.000000     1.00000     1.000000       0.650000\n",
       "25%    14209.500000    19.00000     4.000000      58.705000\n",
       "50%    15557.000000    51.00000     9.000000     136.370000\n",
       "75%    16890.000000   139.00000    21.000000     334.350000\n",
       "max    18287.000000   365.00000  1497.000000   48060.350000"
      ]
     },
     "execution_count": 14,
     "metadata": {},
     "output_type": "execute_result"
    }
   ],
   "source": [
    "datamart.describe()"
   ]
  },
  {
   "cell_type": "markdown",
   "id": "organized-genome",
   "metadata": {},
   "source": [
    "Podemos ver imediatamente que cada uma de nossas três variáveis tem um valor médio diferente e um desvio padrão diferente. Dado que k-means funciona bem em variáveis com os mesmos valores médios, teremos que centralizá-los. Centralizar variáveis é um procedimento simples que é feito calculando uma média para cada variável e, em seguida, subtraindo-a de cada observação."
   ]
  },
  {
   "cell_type": "code",
   "execution_count": 16,
   "id": "union-religious",
   "metadata": {
    "ExecuteTime": {
     "end_time": "2021-06-26T16:28:37.155790Z",
     "start_time": "2021-06-26T16:28:37.117903Z"
    }
   },
   "outputs": [
    {
     "data": {
      "text/html": [
       "<div>\n",
       "<style scoped>\n",
       "    .dataframe tbody tr th:only-of-type {\n",
       "        vertical-align: middle;\n",
       "    }\n",
       "\n",
       "    .dataframe tbody tr th {\n",
       "        vertical-align: top;\n",
       "    }\n",
       "\n",
       "    .dataframe thead th {\n",
       "        text-align: right;\n",
       "    }\n",
       "</style>\n",
       "<table border=\"1\" class=\"dataframe\">\n",
       "  <thead>\n",
       "    <tr style=\"text-align: right;\">\n",
       "      <th></th>\n",
       "      <th>CustomerID</th>\n",
       "      <th>Recency</th>\n",
       "      <th>Frequency</th>\n",
       "      <th>MonetaryValue</th>\n",
       "    </tr>\n",
       "  </thead>\n",
       "  <tbody>\n",
       "    <tr>\n",
       "      <th>count</th>\n",
       "      <td>3643.00</td>\n",
       "      <td>3643.00</td>\n",
       "      <td>3643.00</td>\n",
       "      <td>3643.00</td>\n",
       "    </tr>\n",
       "    <tr>\n",
       "      <th>mean</th>\n",
       "      <td>0.00</td>\n",
       "      <td>0.00</td>\n",
       "      <td>-0.00</td>\n",
       "      <td>0.00</td>\n",
       "    </tr>\n",
       "    <tr>\n",
       "      <th>std</th>\n",
       "      <td>1562.59</td>\n",
       "      <td>94.45</td>\n",
       "      <td>43.75</td>\n",
       "      <td>1347.44</td>\n",
       "    </tr>\n",
       "    <tr>\n",
       "      <th>min</th>\n",
       "      <td>-2804.62</td>\n",
       "      <td>-89.44</td>\n",
       "      <td>-17.71</td>\n",
       "      <td>-370.04</td>\n",
       "    </tr>\n",
       "    <tr>\n",
       "      <th>25%</th>\n",
       "      <td>-1342.12</td>\n",
       "      <td>-71.44</td>\n",
       "      <td>-14.71</td>\n",
       "      <td>-311.99</td>\n",
       "    </tr>\n",
       "    <tr>\n",
       "      <th>50%</th>\n",
       "      <td>5.38</td>\n",
       "      <td>-39.44</td>\n",
       "      <td>-9.71</td>\n",
       "      <td>-234.32</td>\n",
       "    </tr>\n",
       "    <tr>\n",
       "      <th>75%</th>\n",
       "      <td>1338.38</td>\n",
       "      <td>48.56</td>\n",
       "      <td>2.29</td>\n",
       "      <td>-36.34</td>\n",
       "    </tr>\n",
       "    <tr>\n",
       "      <th>max</th>\n",
       "      <td>2735.38</td>\n",
       "      <td>274.56</td>\n",
       "      <td>1478.29</td>\n",
       "      <td>47689.66</td>\n",
       "    </tr>\n",
       "  </tbody>\n",
       "</table>\n",
       "</div>"
      ],
      "text/plain": [
       "       CustomerID  Recency  Frequency  MonetaryValue\n",
       "count     3643.00  3643.00    3643.00        3643.00\n",
       "mean         0.00     0.00      -0.00           0.00\n",
       "std       1562.59    94.45      43.75        1347.44\n",
       "min      -2804.62   -89.44     -17.71        -370.04\n",
       "25%      -1342.12   -71.44     -14.71        -311.99\n",
       "50%          5.38   -39.44      -9.71        -234.32\n",
       "75%       1338.38    48.56       2.29         -36.34\n",
       "max       2735.38   274.56    1478.29       47689.66"
      ]
     },
     "execution_count": 16,
     "metadata": {},
     "output_type": "execute_result"
    }
   ],
   "source": [
    "datamart_centered = datamart - datamart.mean()\n",
    "datamart_centered.describe().round(2)"
   ]
  },
  {
   "cell_type": "markdown",
   "id": "amino-easter",
   "metadata": {},
   "source": [
    "Os valores médios agora estão muito próximos de zero para todas as três variáveis.\n",
    "\n",
    "O Kmeans funciona melhor em variáveis não apenas com os mesmos valores médios, mas com a mesma variância. O mecanismo para dimensionar as variáveis para a mesma variância é tão simples quanto centralizar, dividindo cada observação pelo desvio padrão de cada variável."
   ]
  },
  {
   "cell_type": "code",
   "execution_count": 23,
   "id": "meaning-insured",
   "metadata": {
    "ExecuteTime": {
     "end_time": "2021-06-26T16:36:13.650229Z",
     "start_time": "2021-06-26T16:36:13.616324Z"
    }
   },
   "outputs": [
    {
     "data": {
      "text/html": [
       "<div>\n",
       "<style scoped>\n",
       "    .dataframe tbody tr th:only-of-type {\n",
       "        vertical-align: middle;\n",
       "    }\n",
       "\n",
       "    .dataframe tbody tr th {\n",
       "        vertical-align: top;\n",
       "    }\n",
       "\n",
       "    .dataframe thead th {\n",
       "        text-align: right;\n",
       "    }\n",
       "</style>\n",
       "<table border=\"1\" class=\"dataframe\">\n",
       "  <thead>\n",
       "    <tr style=\"text-align: right;\">\n",
       "      <th></th>\n",
       "      <th>CustomerID</th>\n",
       "      <th>Recency</th>\n",
       "      <th>Frequency</th>\n",
       "      <th>MonetaryValue</th>\n",
       "    </tr>\n",
       "  </thead>\n",
       "  <tbody>\n",
       "    <tr>\n",
       "      <th>count</th>\n",
       "      <td>3643.00</td>\n",
       "      <td>3643.00</td>\n",
       "      <td>3643.00</td>\n",
       "      <td>3643.00</td>\n",
       "    </tr>\n",
       "    <tr>\n",
       "      <th>mean</th>\n",
       "      <td>-0.00</td>\n",
       "      <td>-0.00</td>\n",
       "      <td>-0.00</td>\n",
       "      <td>0.00</td>\n",
       "    </tr>\n",
       "    <tr>\n",
       "      <th>std</th>\n",
       "      <td>1.00</td>\n",
       "      <td>1.00</td>\n",
       "      <td>1.00</td>\n",
       "      <td>1.00</td>\n",
       "    </tr>\n",
       "    <tr>\n",
       "      <th>min</th>\n",
       "      <td>-1.79</td>\n",
       "      <td>-0.95</td>\n",
       "      <td>-0.40</td>\n",
       "      <td>-0.27</td>\n",
       "    </tr>\n",
       "    <tr>\n",
       "      <th>25%</th>\n",
       "      <td>-0.86</td>\n",
       "      <td>-0.76</td>\n",
       "      <td>-0.34</td>\n",
       "      <td>-0.23</td>\n",
       "    </tr>\n",
       "    <tr>\n",
       "      <th>50%</th>\n",
       "      <td>0.00</td>\n",
       "      <td>-0.42</td>\n",
       "      <td>-0.22</td>\n",
       "      <td>-0.17</td>\n",
       "    </tr>\n",
       "    <tr>\n",
       "      <th>75%</th>\n",
       "      <td>0.86</td>\n",
       "      <td>0.51</td>\n",
       "      <td>0.05</td>\n",
       "      <td>-0.03</td>\n",
       "    </tr>\n",
       "    <tr>\n",
       "      <th>max</th>\n",
       "      <td>1.75</td>\n",
       "      <td>2.91</td>\n",
       "      <td>33.79</td>\n",
       "      <td>35.39</td>\n",
       "    </tr>\n",
       "  </tbody>\n",
       "</table>\n",
       "</div>"
      ],
      "text/plain": [
       "       CustomerID  Recency  Frequency  MonetaryValue\n",
       "count     3643.00  3643.00    3643.00        3643.00\n",
       "mean        -0.00    -0.00      -0.00           0.00\n",
       "std          1.00     1.00       1.00           1.00\n",
       "min         -1.79    -0.95      -0.40          -0.27\n",
       "25%         -0.86    -0.76      -0.34          -0.23\n",
       "50%          0.00    -0.42      -0.22          -0.17\n",
       "75%          0.86     0.51       0.05          -0.03\n",
       "max          1.75     2.91      33.79          35.39"
      ]
     },
     "execution_count": 23,
     "metadata": {},
     "output_type": "execute_result"
    }
   ],
   "source": [
    "datamart_scaled = datamart_centered / datamart_centered.std()\n",
    "datamart_scaled.describe().round(2)"
   ]
  },
  {
   "cell_type": "code",
   "execution_count": 20,
   "id": "incoming-orlando",
   "metadata": {
    "ExecuteTime": {
     "end_time": "2021-06-26T16:35:09.310742Z",
     "start_time": "2021-06-26T16:35:09.304758Z"
    }
   },
   "outputs": [],
   "source": [
    "from sklearn.preprocessing import StandardScaler"
   ]
  },
  {
   "cell_type": "code",
   "execution_count": 21,
   "id": "respective-knock",
   "metadata": {
    "ExecuteTime": {
     "end_time": "2021-06-26T16:35:09.962376Z",
     "start_time": "2021-06-26T16:35:09.943427Z"
    }
   },
   "outputs": [],
   "source": [
    "scaler = StandardScaler()\n",
    "scaler.fit(datamart)\n",
    "\n",
    "datamart_normalized = scaler.transform(datamart)"
   ]
  },
  {
   "cell_type": "code",
   "execution_count": 22,
   "id": "horizontal-catering",
   "metadata": {
    "ExecuteTime": {
     "end_time": "2021-06-26T16:35:11.905260Z",
     "start_time": "2021-06-26T16:35:11.894292Z"
    }
   },
   "outputs": [
    {
     "name": "stdout",
     "output_type": "stream",
     "text": [
      "mean:  [-0. -0. -0.  0.]\n",
      "std:  [1. 1. 1. 1.]\n"
     ]
    }
   ],
   "source": [
    "print('mean: ',datamart_normalized.mean(axis=0).round(2))\n",
    "print('std: ',datamart_normalized.std(axis=0).round(2))"
   ]
  },
  {
   "cell_type": "markdown",
   "id": "boring-curve",
   "metadata": {},
   "source": [
    "## Pre-processing pipeline\n"
   ]
  },
  {
   "cell_type": "code",
   "execution_count": 24,
   "id": "drawn-integral",
   "metadata": {
    "ExecuteTime": {
     "end_time": "2021-06-26T16:47:31.256034Z",
     "start_time": "2021-06-26T16:47:31.242120Z"
    }
   },
   "outputs": [],
   "source": [
    "# Unskew the data\n",
    "datamart_log = np.log(datamart)"
   ]
  },
  {
   "cell_type": "code",
   "execution_count": 25,
   "id": "intense-struggle",
   "metadata": {
    "ExecuteTime": {
     "end_time": "2021-06-26T16:47:35.063387Z",
     "start_time": "2021-06-26T16:47:35.041455Z"
    }
   },
   "outputs": [],
   "source": [
    "scaler = StandardScaler()\n",
    "scaler.fit(datamart_log)\n",
    "\n",
    "datamart_normalized = scaler.transform(datamart_log)"
   ]
  },
  {
   "cell_type": "code",
   "execution_count": 27,
   "id": "joined-prior",
   "metadata": {
    "ExecuteTime": {
     "end_time": "2021-06-26T16:50:29.418367Z",
     "start_time": "2021-06-26T16:50:29.394431Z"
    }
   },
   "outputs": [
    {
     "data": {
      "text/html": [
       "<div>\n",
       "<style scoped>\n",
       "    .dataframe tbody tr th:only-of-type {\n",
       "        vertical-align: middle;\n",
       "    }\n",
       "\n",
       "    .dataframe tbody tr th {\n",
       "        vertical-align: top;\n",
       "    }\n",
       "\n",
       "    .dataframe thead th {\n",
       "        text-align: right;\n",
       "    }\n",
       "</style>\n",
       "<table border=\"1\" class=\"dataframe\">\n",
       "  <thead>\n",
       "    <tr style=\"text-align: right;\">\n",
       "      <th></th>\n",
       "      <th>CustomerID</th>\n",
       "      <th>Recency</th>\n",
       "      <th>Frequency</th>\n",
       "      <th>MonetaryValue</th>\n",
       "    </tr>\n",
       "  </thead>\n",
       "  <tbody>\n",
       "    <tr>\n",
       "      <th>0</th>\n",
       "      <td>-1.914291</td>\n",
       "      <td>-2.002202</td>\n",
       "      <td>0.865157</td>\n",
       "      <td>1.464940</td>\n",
       "    </tr>\n",
       "    <tr>\n",
       "      <th>1</th>\n",
       "      <td>-1.913516</td>\n",
       "      <td>-2.814518</td>\n",
       "      <td>3.815272</td>\n",
       "      <td>2.994692</td>\n",
       "    </tr>\n",
       "    <tr>\n",
       "      <th>2</th>\n",
       "      <td>-1.912742</td>\n",
       "      <td>-1.789490</td>\n",
       "      <td>1.189117</td>\n",
       "      <td>1.347598</td>\n",
       "    </tr>\n",
       "    <tr>\n",
       "      <th>3</th>\n",
       "      <td>-1.857877</td>\n",
       "      <td>-1.789490</td>\n",
       "      <td>0.546468</td>\n",
       "      <td>0.500595</td>\n",
       "    </tr>\n",
       "    <tr>\n",
       "      <th>4</th>\n",
       "      <td>-1.856336</td>\n",
       "      <td>0.337315</td>\n",
       "      <td>0.020925</td>\n",
       "      <td>0.037943</td>\n",
       "    </tr>\n",
       "    <tr>\n",
       "      <th>...</th>\n",
       "      <td>...</td>\n",
       "      <td>...</td>\n",
       "      <td>...</td>\n",
       "      <td>...</td>\n",
       "    </tr>\n",
       "    <tr>\n",
       "      <th>3638</th>\n",
       "      <td>1.647212</td>\n",
       "      <td>1.346554</td>\n",
       "      <td>-1.221955</td>\n",
       "      <td>-0.975812</td>\n",
       "    </tr>\n",
       "    <tr>\n",
       "      <th>3639</th>\n",
       "      <td>1.647753</td>\n",
       "      <td>1.029259</td>\n",
       "      <td>-1.221955</td>\n",
       "      <td>-1.125628</td>\n",
       "    </tr>\n",
       "    <tr>\n",
       "      <th>3640</th>\n",
       "      <td>1.648293</td>\n",
       "      <td>-1.276975</td>\n",
       "      <td>-1.221955</td>\n",
       "      <td>-1.152485</td>\n",
       "    </tr>\n",
       "    <tr>\n",
       "      <th>3641</th>\n",
       "      <td>1.648833</td>\n",
       "      <td>-1.789490</td>\n",
       "      <td>2.356706</td>\n",
       "      <td>0.866422</td>\n",
       "    </tr>\n",
       "    <tr>\n",
       "      <th>3642</th>\n",
       "      <td>1.650994</td>\n",
       "      <td>-0.033480</td>\n",
       "      <td>0.443041</td>\n",
       "      <td>0.797937</td>\n",
       "    </tr>\n",
       "  </tbody>\n",
       "</table>\n",
       "<p>3643 rows × 4 columns</p>\n",
       "</div>"
      ],
      "text/plain": [
       "      CustomerID   Recency  Frequency  MonetaryValue\n",
       "0      -1.914291 -2.002202   0.865157       1.464940\n",
       "1      -1.913516 -2.814518   3.815272       2.994692\n",
       "2      -1.912742 -1.789490   1.189117       1.347598\n",
       "3      -1.857877 -1.789490   0.546468       0.500595\n",
       "4      -1.856336  0.337315   0.020925       0.037943\n",
       "...          ...       ...        ...            ...\n",
       "3638    1.647212  1.346554  -1.221955      -0.975812\n",
       "3639    1.647753  1.029259  -1.221955      -1.125628\n",
       "3640    1.648293 -1.276975  -1.221955      -1.152485\n",
       "3641    1.648833 -1.789490   2.356706       0.866422\n",
       "3642    1.650994 -0.033480   0.443041       0.797937\n",
       "\n",
       "[3643 rows x 4 columns]"
      ]
     },
     "execution_count": 27,
     "metadata": {},
     "output_type": "execute_result"
    }
   ],
   "source": [
    "datamart_normalized = pd.DataFrame(data=datamart_normalized, index=datamart.index, columns=datamart.columns)\n",
    "datamart_normalized"
   ]
  }
 ],
 "metadata": {
  "kernelspec": {
   "display_name": "Python 3",
   "language": "python",
   "name": "python3"
  },
  "language_info": {
   "codemirror_mode": {
    "name": "ipython",
    "version": 3
   },
   "file_extension": ".py",
   "mimetype": "text/x-python",
   "name": "python",
   "nbconvert_exporter": "python",
   "pygments_lexer": "ipython3",
   "version": "3.6.4"
  },
  "toc": {
   "base_numbering": 1,
   "nav_menu": {},
   "number_sections": true,
   "sideBar": true,
   "skip_h1_title": false,
   "title_cell": "Table of Contents",
   "title_sidebar": "Contents",
   "toc_cell": false,
   "toc_position": {},
   "toc_section_display": true,
   "toc_window_display": false
  }
 },
 "nbformat": 4,
 "nbformat_minor": 5
}
