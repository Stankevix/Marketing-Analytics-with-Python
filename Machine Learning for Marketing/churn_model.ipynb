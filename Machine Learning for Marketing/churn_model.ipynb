{
 "cells": [
  {
   "cell_type": "markdown",
   "id": "metric-spank",
   "metadata": {},
   "source": [
    "# Churn prediction "
   ]
  },
  {
   "cell_type": "markdown",
   "id": "legendary-january",
   "metadata": {},
   "source": [
    "A definição de churn dependerá da empresa e de seu modelo de negócios, mas essencialmente o evento de churn quando um cliente para de comprar um produto, usar um serviço ou ocorre com um produto ou aplicativo. A rotatividade pode ocorrer em um contexto de negócios contratual ou não contratual.\n",
    "\n",
    "A rotatividade contratual ocorre quando os clientes cancelam explicitamente um serviço ou assinatura, enquanto o não contratual é mais difícil de observar e requer uma exploração de dados aprofundada. Além disso, a rotatividade pode ser vista como voluntária ou involuntária. A rotatividade voluntária significa que os clientes decidem parar de usar o produto ou serviço, enquanto a rotatividade involuntária ocorre quando os clientes não atualizam automaticamente sua assinatura devido ao vencimento do cartão de crédito ou outros bloqueadores."
   ]
  },
  {
   "cell_type": "markdown",
   "id": "agreed-alfred",
   "metadata": {},
   "source": [
    "## Explore churn rate"
   ]
  },
  {
   "cell_type": "code",
   "execution_count": 202,
   "id": "caroline-shoulder",
   "metadata": {
    "ExecuteTime": {
     "end_time": "2021-06-21T22:03:43.445379Z",
     "start_time": "2021-06-21T22:03:43.436406Z"
    }
   },
   "outputs": [],
   "source": [
    "import pandas as pd\n",
    "import numpy as np"
   ]
  },
  {
   "cell_type": "code",
   "execution_count": 203,
   "id": "outdoor-companion",
   "metadata": {
    "ExecuteTime": {
     "end_time": "2021-06-21T22:03:45.038052Z",
     "start_time": "2021-06-21T22:03:45.013119Z"
    }
   },
   "outputs": [],
   "source": [
    "telco_raw = pd.read_csv('telco.csv',';')"
   ]
  },
  {
   "cell_type": "code",
   "execution_count": 204,
   "id": "treated-black",
   "metadata": {
    "ExecuteTime": {
     "end_time": "2021-06-21T22:03:46.567494Z",
     "start_time": "2021-06-21T22:03:46.561511Z"
    }
   },
   "outputs": [
    {
     "name": "stdout",
     "output_type": "stream",
     "text": [
      "{'Yes', 'No'}\n"
     ]
    }
   ],
   "source": [
    "print(set(telco_raw['Churn']))"
   ]
  },
  {
   "cell_type": "code",
   "execution_count": 205,
   "id": "configured-apparel",
   "metadata": {
    "ExecuteTime": {
     "end_time": "2021-06-21T22:03:48.356699Z",
     "start_time": "2021-06-21T22:03:48.346728Z"
    }
   },
   "outputs": [
    {
     "data": {
      "text/plain": [
       "Churn\n",
       "No     73.463013\n",
       "Yes    26.536987\n",
       "dtype: float64"
      ]
     },
     "execution_count": 205,
     "metadata": {},
     "output_type": "execute_result"
    }
   ],
   "source": [
    "# Calculate the ratio size of each churn group\n",
    "telco_raw.groupby(['Churn']).size() / telco_raw.shape[0] * 100"
   ]
  },
  {
   "cell_type": "markdown",
   "id": "handy-restriction",
   "metadata": {},
   "source": [
    "## Target and Features"
   ]
  },
  {
   "cell_type": "code",
   "execution_count": 206,
   "id": "threatened-europe",
   "metadata": {
    "ExecuteTime": {
     "end_time": "2021-06-21T22:03:50.393763Z",
     "start_time": "2021-06-21T22:03:50.363845Z"
    }
   },
   "outputs": [],
   "source": [
    "custid = ['customerID']\n",
    "target = ['Churn']\n",
    "\n",
    "features = [col for col in telco.columns\n",
    "                if col not in custid+target]\n",
    "\n",
    "X = telco[features]\n",
    "Y = telco[target]"
   ]
  },
  {
   "cell_type": "code",
   "execution_count": 207,
   "id": "golden-productivity",
   "metadata": {
    "ExecuteTime": {
     "end_time": "2021-06-21T22:03:52.247037Z",
     "start_time": "2021-06-21T22:03:52.198084Z"
    }
   },
   "outputs": [],
   "source": [
    "categorical = telco_raw.nunique()[telco_raw.nunique()<10].keys().tolist()\n",
    "categorical.remove(target[0])\n",
    "\n",
    "numerical = [col for col in telco_raw.columns\n",
    "                if col not in custid+target+categorical]"
   ]
  },
  {
   "cell_type": "code",
   "execution_count": 208,
   "id": "dynamic-delicious",
   "metadata": {
    "ExecuteTime": {
     "end_time": "2021-06-21T22:03:56.067673Z",
     "start_time": "2021-06-21T22:03:56.028300Z"
    }
   },
   "outputs": [],
   "source": [
    "telco_raw = pd.get_dummies(data=telco_raw, columns=categorical, drop_first=True)"
   ]
  },
  {
   "cell_type": "markdown",
   "id": "lasting-cloud",
   "metadata": {},
   "source": [
    "## Scaling"
   ]
  },
  {
   "cell_type": "code",
   "execution_count": 209,
   "id": "suspended-header",
   "metadata": {
    "ExecuteTime": {
     "end_time": "2021-06-21T22:03:58.125905Z",
     "start_time": "2021-06-21T22:03:58.121916Z"
    }
   },
   "outputs": [],
   "source": [
    "from sklearn.preprocessing import StandardScaler"
   ]
  },
  {
   "cell_type": "code",
   "execution_count": 210,
   "id": "applied-polyester",
   "metadata": {
    "ExecuteTime": {
     "end_time": "2021-06-21T22:03:59.020933Z",
     "start_time": "2021-06-21T22:03:59.005974Z"
    }
   },
   "outputs": [],
   "source": [
    "scaler = StandardScaler()\n",
    "\n",
    "scaled_numerical = scaler.fit_transform(telco_raw[numerical])\n",
    "scaled_numerical = pd.DataFrame(scaled_numerical, columns=numerical)"
   ]
  },
  {
   "cell_type": "code",
   "execution_count": 211,
   "id": "unique-story",
   "metadata": {
    "ExecuteTime": {
     "end_time": "2021-06-21T22:03:59.376634Z",
     "start_time": "2021-06-21T22:03:59.361675Z"
    }
   },
   "outputs": [],
   "source": [
    "telco_raw = telco_raw.drop(columns=numerical, axis=1)\n",
    "telco = telco_raw.merge(right= scaled_numerical, how = 'left', left_index=True, right_index=True)"
   ]
  },
  {
   "cell_type": "code",
   "execution_count": 212,
   "id": "threaded-breathing",
   "metadata": {
    "ExecuteTime": {
     "end_time": "2021-06-21T22:04:00.638780Z",
     "start_time": "2021-06-21T22:04:00.617804Z"
    }
   },
   "outputs": [],
   "source": [
    "telco['Churn'] = telco['Churn'].replace({'No': 0, 'Yes': 1})"
   ]
  },
  {
   "cell_type": "markdown",
   "id": "considerable-announcement",
   "metadata": {},
   "source": [
    "## Predict churn with logistic regression"
   ]
  },
  {
   "cell_type": "code",
   "execution_count": 213,
   "id": "adequate-printer",
   "metadata": {
    "ExecuteTime": {
     "end_time": "2021-06-21T22:04:03.446883Z",
     "start_time": "2021-06-21T22:04:03.433917Z"
    }
   },
   "outputs": [],
   "source": [
    "from sklearn.linear_model import LogisticRegression\n",
    "from sklearn.model_selection import train_test_split\n",
    "from sklearn.metrics import accuracy_score, precision_score, recall_score"
   ]
  },
  {
   "cell_type": "code",
   "execution_count": 256,
   "id": "acknowledged-breakfast",
   "metadata": {
    "ExecuteTime": {
     "end_time": "2021-06-21T22:19:59.659731Z",
     "start_time": "2021-06-21T22:19:59.648767Z"
    }
   },
   "outputs": [],
   "source": [
    "train_X, test_X, train_Y, test_Y = train_test_split(X,Y, test_size=0.25)"
   ]
  },
  {
   "cell_type": "code",
   "execution_count": 259,
   "id": "italic-immunology",
   "metadata": {
    "ExecuteTime": {
     "end_time": "2021-06-21T22:20:25.236615Z",
     "start_time": "2021-06-21T22:20:25.221688Z"
    }
   },
   "outputs": [],
   "source": [
    "logreg = LogisticRegression(penalty='l1',C=0.025, solver='liblinear')"
   ]
  },
  {
   "cell_type": "code",
   "execution_count": 260,
   "id": "logical-surfing",
   "metadata": {
    "ExecuteTime": {
     "end_time": "2021-06-21T22:20:27.477625Z",
     "start_time": "2021-06-21T22:20:27.435538Z"
    }
   },
   "outputs": [
    {
     "data": {
      "text/plain": [
       "LogisticRegression(C=0.025, penalty='l1', solver='liblinear')"
      ]
     },
     "execution_count": 260,
     "metadata": {},
     "output_type": "execute_result"
    }
   ],
   "source": [
    "logreg.fit(train_X, train_Y.values.ravel())"
   ]
  },
  {
   "cell_type": "code",
   "execution_count": 261,
   "id": "restricted-retirement",
   "metadata": {
    "ExecuteTime": {
     "end_time": "2021-06-21T22:20:29.468699Z",
     "start_time": "2021-06-21T22:20:29.452751Z"
    }
   },
   "outputs": [],
   "source": [
    "pred_train_Y = logreg.predict(train_X)\n",
    "pred_test_Y = logreg.predict(test_X)"
   ]
  },
  {
   "cell_type": "markdown",
   "id": "described-profession",
   "metadata": {},
   "source": [
    "### Model performance Metrics"
   ]
  },
  {
   "cell_type": "markdown",
   "id": "preliminary-clearing",
   "metadata": {},
   "source": [
    "Principais métricas\n",
    "\n",
    "* Accuracy - The % of the correctly predicted labels (both Churn and non Churn)\n",
    "* Precision - The % of total model's positive class prediction (here - predicted as Churn) that were correctly classified\n",
    "* Recall - The % total positive class samples (all churned customers) that were correctly classified"
   ]
  },
  {
   "cell_type": "code",
   "execution_count": 219,
   "id": "academic-commissioner",
   "metadata": {
    "ExecuteTime": {
     "end_time": "2021-06-21T22:04:24.241792Z",
     "start_time": "2021-06-21T22:04:24.229824Z"
    }
   },
   "outputs": [],
   "source": [
    "def model_performance(train_Y, pred_train_Y,test_Y, pred_test_Y):\n",
    "    \n",
    "    train_accuracy = accuracy_score(train_Y, pred_train_Y)\n",
    "    test_accuracy = accuracy_score(test_Y, pred_test_Y)\n",
    "    \n",
    "    print('\\nTraining accuracy:', round(train_accuracy,4))\n",
    "    print('Test accuracy:', round(test_accuracy,4))\n",
    "    \n",
    "    train_precision = precision_score(train_Y, pred_train_Y, average=None) # pos_label='yes'\n",
    "    test_precision = precision_score(test_Y, pred_test_Y,average=None)\n",
    "    \n",
    "    print('\\nTraining precision:', train_precision)\n",
    "    print('Test precision:', test_precision)\n",
    "    \n",
    "    train_recall = recall_score(train_Y, pred_train_Y,average=None)\n",
    "    test_recall = recall_score(test_Y, pred_test_Y,average=None)\n",
    "    \n",
    "    print('\\nTraining recall:', train_recall)\n",
    "    print('Test recall:', test_recall)\n",
    "    \n",
    "    "
   ]
  },
  {
   "cell_type": "code",
   "execution_count": 262,
   "id": "statutory-flush",
   "metadata": {
    "ExecuteTime": {
     "end_time": "2021-06-21T22:20:32.153502Z",
     "start_time": "2021-06-21T22:20:32.134584Z"
    }
   },
   "outputs": [
    {
     "name": "stdout",
     "output_type": "stream",
     "text": [
      "\n",
      "Training accuracy: 0.7997\n",
      "Test accuracy: 0.8058\n",
      "\n",
      "Training precision: [0.83207011 0.67075472]\n",
      "Test precision: [0.84446023 0.65155807]\n",
      "\n",
      "Training recall: [0.90963231 0.50070423]\n",
      "Test recall: [0.90625    0.51224944]\n"
     ]
    }
   ],
   "source": [
    "model_performance(train_Y, pred_train_Y,test_Y, pred_test_Y)"
   ]
  },
  {
   "cell_type": "markdown",
   "id": "disciplinary-subsection",
   "metadata": {},
   "source": [
    "### Opt Model and parameters "
   ]
  },
  {
   "cell_type": "code",
   "execution_count": 221,
   "id": "rising-auction",
   "metadata": {
    "ExecuteTime": {
     "end_time": "2021-06-21T22:04:30.068308Z",
     "start_time": "2021-06-21T22:04:30.062350Z"
    }
   },
   "outputs": [
    {
     "data": {
      "text/plain": [
       "array([[1.    , 0.    , 0.    , 0.    , 0.    , 0.    , 0.    ],\n",
       "       [0.5   , 0.    , 0.    , 0.    , 0.    , 0.    , 0.    ],\n",
       "       [0.25  , 0.    , 0.    , 0.    , 0.    , 0.    , 0.    ],\n",
       "       [0.1   , 0.    , 0.    , 0.    , 0.    , 0.    , 0.    ],\n",
       "       [0.05  , 0.    , 0.    , 0.    , 0.    , 0.    , 0.    ],\n",
       "       [0.025 , 0.    , 0.    , 0.    , 0.    , 0.    , 0.    ],\n",
       "       [0.01  , 0.    , 0.    , 0.    , 0.    , 0.    , 0.    ],\n",
       "       [0.005 , 0.    , 0.    , 0.    , 0.    , 0.    , 0.    ],\n",
       "       [0.0025, 0.    , 0.    , 0.    , 0.    , 0.    , 0.    ]])"
      ]
     },
     "execution_count": 221,
     "metadata": {},
     "output_type": "execute_result"
    }
   ],
   "source": [
    "C = [1, .5, .25, .1, .05, .025, .01, .005, .0025]\n",
    "l1_metrics = np.zeros((len(C), 7))\n",
    "l1_metrics[:,0] = C\n",
    "l1_metrics"
   ]
  },
  {
   "cell_type": "code",
   "execution_count": 226,
   "id": "chinese-guess",
   "metadata": {
    "ExecuteTime": {
     "end_time": "2021-06-21T22:06:26.534836Z",
     "start_time": "2021-06-21T22:06:26.000266Z"
    }
   },
   "outputs": [],
   "source": [
    "for index in range(0, len(C)):\n",
    "    logreg = LogisticRegression(penalty='l1', C=C[index], solver='liblinear')\n",
    "    logreg.fit(train_X, train_Y.values.ravel())\n",
    "    pred_test_Y = logreg.predict(test_X)\n",
    "    \n",
    "    l1_metrics[index,1] = np.count_nonzero(logreg.coef_)\n",
    "    l1_metrics[index,2] = accuracy_score(test_Y, pred_test_Y)\n",
    "    l1_metrics[index,3] = precision_score(test_Y, pred_test_Y,pos_label=0)\n",
    "    l1_metrics[index,4] = precision_score(test_Y, pred_test_Y,pos_label=1)\n",
    "    l1_metrics[index,5] = recall_score(test_Y, pred_test_Y,pos_label=0)\n",
    "    l1_metrics[index,6] = recall_score(test_Y, pred_test_Y,pos_label=1)\n",
    "    "
   ]
  },
  {
   "cell_type": "code",
   "execution_count": 227,
   "id": "competent-dominican",
   "metadata": {
    "ExecuteTime": {
     "end_time": "2021-06-21T22:06:30.174565Z",
     "start_time": "2021-06-21T22:06:30.168581Z"
    }
   },
   "outputs": [],
   "source": [
    "col_names = ['C','Non-Zero Coeffs','Accuracy','Precision_No','Precision_Yes','Recall_No', 'Recall_Yes'] #,'Recall'\n",
    "results = pd.DataFrame(l1_metrics,columns=col_names)"
   ]
  },
  {
   "cell_type": "code",
   "execution_count": 228,
   "id": "several-greensboro",
   "metadata": {
    "ExecuteTime": {
     "end_time": "2021-06-21T22:06:32.148009Z",
     "start_time": "2021-06-21T22:06:32.130035Z"
    }
   },
   "outputs": [
    {
     "data": {
      "text/html": [
       "<div>\n",
       "<style scoped>\n",
       "    .dataframe tbody tr th:only-of-type {\n",
       "        vertical-align: middle;\n",
       "    }\n",
       "\n",
       "    .dataframe tbody tr th {\n",
       "        vertical-align: top;\n",
       "    }\n",
       "\n",
       "    .dataframe thead th {\n",
       "        text-align: right;\n",
       "    }\n",
       "</style>\n",
       "<table border=\"1\" class=\"dataframe\">\n",
       "  <thead>\n",
       "    <tr style=\"text-align: right;\">\n",
       "      <th></th>\n",
       "      <th>C</th>\n",
       "      <th>Non-Zero Coeffs</th>\n",
       "      <th>Accuracy</th>\n",
       "      <th>Precision_No</th>\n",
       "      <th>Precision_Yes</th>\n",
       "      <th>Recall_No</th>\n",
       "      <th>Recall_Yes</th>\n",
       "    </tr>\n",
       "  </thead>\n",
       "  <tbody>\n",
       "    <tr>\n",
       "      <th>0</th>\n",
       "      <td>1.0000</td>\n",
       "      <td>27.0</td>\n",
       "      <td>0.795003</td>\n",
       "      <td>0.842613</td>\n",
       "      <td>0.640097</td>\n",
       "      <td>0.883956</td>\n",
       "      <td>0.555556</td>\n",
       "    </tr>\n",
       "    <tr>\n",
       "      <th>1</th>\n",
       "      <td>0.5000</td>\n",
       "      <td>22.0</td>\n",
       "      <td>0.793299</td>\n",
       "      <td>0.841246</td>\n",
       "      <td>0.636804</td>\n",
       "      <td>0.883178</td>\n",
       "      <td>0.551363</td>\n",
       "    </tr>\n",
       "    <tr>\n",
       "      <th>2</th>\n",
       "      <td>0.2500</td>\n",
       "      <td>20.0</td>\n",
       "      <td>0.792731</td>\n",
       "      <td>0.840623</td>\n",
       "      <td>0.635922</td>\n",
       "      <td>0.883178</td>\n",
       "      <td>0.549266</td>\n",
       "    </tr>\n",
       "    <tr>\n",
       "      <th>3</th>\n",
       "      <td>0.1000</td>\n",
       "      <td>18.0</td>\n",
       "      <td>0.791596</td>\n",
       "      <td>0.837878</td>\n",
       "      <td>0.636139</td>\n",
       "      <td>0.885514</td>\n",
       "      <td>0.538784</td>\n",
       "    </tr>\n",
       "    <tr>\n",
       "      <th>4</th>\n",
       "      <td>0.0500</td>\n",
       "      <td>15.0</td>\n",
       "      <td>0.793299</td>\n",
       "      <td>0.837739</td>\n",
       "      <td>0.641604</td>\n",
       "      <td>0.888629</td>\n",
       "      <td>0.536688</td>\n",
       "    </tr>\n",
       "    <tr>\n",
       "      <th>5</th>\n",
       "      <td>0.0250</td>\n",
       "      <td>12.0</td>\n",
       "      <td>0.795003</td>\n",
       "      <td>0.832253</td>\n",
       "      <td>0.655914</td>\n",
       "      <td>0.900312</td>\n",
       "      <td>0.511530</td>\n",
       "    </tr>\n",
       "    <tr>\n",
       "      <th>6</th>\n",
       "      <td>0.0100</td>\n",
       "      <td>8.0</td>\n",
       "      <td>0.786485</td>\n",
       "      <td>0.812242</td>\n",
       "      <td>0.664495</td>\n",
       "      <td>0.919782</td>\n",
       "      <td>0.427673</td>\n",
       "    </tr>\n",
       "    <tr>\n",
       "      <th>7</th>\n",
       "      <td>0.0050</td>\n",
       "      <td>3.0</td>\n",
       "      <td>0.777399</td>\n",
       "      <td>0.789987</td>\n",
       "      <td>0.690583</td>\n",
       "      <td>0.946262</td>\n",
       "      <td>0.322851</td>\n",
       "    </tr>\n",
       "    <tr>\n",
       "      <th>8</th>\n",
       "      <td>0.0025</td>\n",
       "      <td>2.0</td>\n",
       "      <td>0.730267</td>\n",
       "      <td>0.730222</td>\n",
       "      <td>0.750000</td>\n",
       "      <td>0.999221</td>\n",
       "      <td>0.006289</td>\n",
       "    </tr>\n",
       "  </tbody>\n",
       "</table>\n",
       "</div>"
      ],
      "text/plain": [
       "        C  Non-Zero Coeffs  Accuracy  Precision_No  Precision_Yes  Recall_No  \\\n",
       "0  1.0000             27.0  0.795003      0.842613       0.640097   0.883956   \n",
       "1  0.5000             22.0  0.793299      0.841246       0.636804   0.883178   \n",
       "2  0.2500             20.0  0.792731      0.840623       0.635922   0.883178   \n",
       "3  0.1000             18.0  0.791596      0.837878       0.636139   0.885514   \n",
       "4  0.0500             15.0  0.793299      0.837739       0.641604   0.888629   \n",
       "5  0.0250             12.0  0.795003      0.832253       0.655914   0.900312   \n",
       "6  0.0100              8.0  0.786485      0.812242       0.664495   0.919782   \n",
       "7  0.0050              3.0  0.777399      0.789987       0.690583   0.946262   \n",
       "8  0.0025              2.0  0.730267      0.730222       0.750000   0.999221   \n",
       "\n",
       "   Recall_Yes  \n",
       "0    0.555556  \n",
       "1    0.551363  \n",
       "2    0.549266  \n",
       "3    0.538784  \n",
       "4    0.536688  \n",
       "5    0.511530  \n",
       "6    0.427673  \n",
       "7    0.322851  \n",
       "8    0.006289  "
      ]
     },
     "execution_count": 228,
     "metadata": {},
     "output_type": "execute_result"
    }
   ],
   "source": [
    "results"
   ]
  },
  {
   "cell_type": "markdown",
   "id": "joint-price",
   "metadata": {},
   "source": [
    "## Predict churn with decision trees"
   ]
  },
  {
   "cell_type": "code",
   "execution_count": 229,
   "id": "adverse-occurrence",
   "metadata": {
    "ExecuteTime": {
     "end_time": "2021-06-21T22:06:37.580650Z",
     "start_time": "2021-06-21T22:06:37.573701Z"
    }
   },
   "outputs": [],
   "source": [
    "from sklearn.tree import DecisionTreeClassifier"
   ]
  },
  {
   "cell_type": "code",
   "execution_count": 230,
   "id": "exposed-morning",
   "metadata": {
    "ExecuteTime": {
     "end_time": "2021-06-21T22:06:39.345496Z",
     "start_time": "2021-06-21T22:06:39.318708Z"
    }
   },
   "outputs": [],
   "source": [
    "clf = DecisionTreeClassifier(max_depth = 7, \n",
    "               criterion = 'gini', \n",
    "               splitter  = 'best')\n",
    "treemodel = clf.fit(train_X, train_Y)"
   ]
  },
  {
   "cell_type": "code",
   "execution_count": 231,
   "id": "conditional-charge",
   "metadata": {
    "ExecuteTime": {
     "end_time": "2021-06-21T22:06:41.358802Z",
     "start_time": "2021-06-21T22:06:41.333839Z"
    }
   },
   "outputs": [],
   "source": [
    "pred_train_Y =  treemodel.predict(train_X)\n",
    "pred_test_Y =  treemodel.predict(test_X)"
   ]
  },
  {
   "cell_type": "code",
   "execution_count": 232,
   "id": "broad-ceramic",
   "metadata": {
    "ExecuteTime": {
     "end_time": "2021-06-21T22:06:43.853470Z",
     "start_time": "2021-06-21T22:06:43.832552Z"
    }
   },
   "outputs": [
    {
     "name": "stdout",
     "output_type": "stream",
     "text": [
      "\n",
      "Training accuracy: 0.8258\n",
      "Test accuracy: 0.7853\n",
      "\n",
      "Training precision: [0.86343612 0.69732441]\n",
      "Test precision: [0.83456425 0.62162162]\n",
      "\n",
      "Training recall: [0.90694087 0.59913793]\n",
      "Test recall: [0.88006231 0.53039832]\n"
     ]
    }
   ],
   "source": [
    "model_performance(train_Y, pred_train_Y,test_Y, pred_test_Y)"
   ]
  },
  {
   "cell_type": "markdown",
   "id": "available-cover",
   "metadata": {},
   "source": [
    "### Parameter Tuning "
   ]
  },
  {
   "cell_type": "code",
   "execution_count": 233,
   "id": "fossil-decimal",
   "metadata": {
    "ExecuteTime": {
     "end_time": "2021-06-21T22:06:46.576733Z",
     "start_time": "2021-06-21T22:06:46.562743Z"
    }
   },
   "outputs": [
    {
     "data": {
      "text/plain": [
       "array([[ 2.,  0.,  0.,  0.,  0.,  0.],\n",
       "       [ 3.,  0.,  0.,  0.,  0.,  0.],\n",
       "       [ 4.,  0.,  0.,  0.,  0.,  0.],\n",
       "       [ 5.,  0.,  0.,  0.,  0.,  0.],\n",
       "       [ 6.,  0.,  0.,  0.,  0.,  0.],\n",
       "       [ 7.,  0.,  0.,  0.,  0.,  0.],\n",
       "       [ 8.,  0.,  0.,  0.,  0.,  0.],\n",
       "       [ 9.,  0.,  0.,  0.,  0.,  0.],\n",
       "       [10.,  0.,  0.,  0.,  0.,  0.],\n",
       "       [11.,  0.,  0.,  0.,  0.,  0.],\n",
       "       [12.,  0.,  0.,  0.,  0.,  0.],\n",
       "       [13.,  0.,  0.,  0.,  0.,  0.],\n",
       "       [14.,  0.,  0.,  0.,  0.,  0.]])"
      ]
     },
     "execution_count": 233,
     "metadata": {},
     "output_type": "execute_result"
    }
   ],
   "source": [
    "depth_list = list(range(2,15))\n",
    "depth_tuning = np.zeros((len(depth_list),6))\n",
    "depth_tuning[:,0] = depth_list\n",
    "depth_tuning"
   ]
  },
  {
   "cell_type": "code",
   "execution_count": 234,
   "id": "efficient-judges",
   "metadata": {
    "ExecuteTime": {
     "end_time": "2021-06-21T22:07:01.925802Z",
     "start_time": "2021-06-21T22:07:01.588620Z"
    }
   },
   "outputs": [],
   "source": [
    "for index in range(len(depth_list)):\n",
    "    tree = DecisionTreeClassifier(max_depth=depth_list[index])\n",
    "    tree.fit(train_X, train_Y)\n",
    "    pred_test_Y = tree.predict(test_X)\n",
    "    depth_tuning[index,1] = accuracy_score(test_Y, pred_test_Y)\n",
    "    \n",
    "    depth_tuning[index,2] = precision_score(test_Y, pred_test_Y,pos_label=0)\n",
    "    depth_tuning[index,3] = precision_score(test_Y, pred_test_Y,pos_label=1)\n",
    "    \n",
    "    depth_tuning[index,4] = recall_score(test_Y, pred_test_Y,pos_label=0)\n",
    "    depth_tuning[index,5] = recall_score(test_Y, pred_test_Y,pos_label=1)"
   ]
  },
  {
   "cell_type": "code",
   "execution_count": 235,
   "id": "prescription-teens",
   "metadata": {
    "ExecuteTime": {
     "end_time": "2021-06-21T22:07:03.858192Z",
     "start_time": "2021-06-21T22:07:03.851238Z"
    }
   },
   "outputs": [],
   "source": [
    "col_names = ['Depth','Accuracy','Precision_No','Precision_Yes','Recall_No', 'Recall_Yes']\n",
    "tree_results = pd.DataFrame(depth_tuning,columns=col_names)"
   ]
  },
  {
   "cell_type": "code",
   "execution_count": 236,
   "id": "tamil-coffee",
   "metadata": {
    "ExecuteTime": {
     "end_time": "2021-06-21T22:07:05.536912Z",
     "start_time": "2021-06-21T22:07:05.518959Z"
    }
   },
   "outputs": [
    {
     "data": {
      "text/html": [
       "<div>\n",
       "<style scoped>\n",
       "    .dataframe tbody tr th:only-of-type {\n",
       "        vertical-align: middle;\n",
       "    }\n",
       "\n",
       "    .dataframe tbody tr th {\n",
       "        vertical-align: top;\n",
       "    }\n",
       "\n",
       "    .dataframe thead th {\n",
       "        text-align: right;\n",
       "    }\n",
       "</style>\n",
       "<table border=\"1\" class=\"dataframe\">\n",
       "  <thead>\n",
       "    <tr style=\"text-align: right;\">\n",
       "      <th></th>\n",
       "      <th>Depth</th>\n",
       "      <th>Accuracy</th>\n",
       "      <th>Precision_No</th>\n",
       "      <th>Precision_Yes</th>\n",
       "      <th>Recall_No</th>\n",
       "      <th>Recall_Yes</th>\n",
       "    </tr>\n",
       "  </thead>\n",
       "  <tbody>\n",
       "    <tr>\n",
       "      <th>0</th>\n",
       "      <td>2.0</td>\n",
       "      <td>0.776831</td>\n",
       "      <td>0.802444</td>\n",
       "      <td>0.645833</td>\n",
       "      <td>0.920561</td>\n",
       "      <td>0.389937</td>\n",
       "    </tr>\n",
       "    <tr>\n",
       "      <th>1</th>\n",
       "      <td>3.0</td>\n",
       "      <td>0.776831</td>\n",
       "      <td>0.802444</td>\n",
       "      <td>0.645833</td>\n",
       "      <td>0.920561</td>\n",
       "      <td>0.389937</td>\n",
       "    </tr>\n",
       "    <tr>\n",
       "      <th>2</th>\n",
       "      <td>4.0</td>\n",
       "      <td>0.777399</td>\n",
       "      <td>0.802578</td>\n",
       "      <td>0.648084</td>\n",
       "      <td>0.921340</td>\n",
       "      <td>0.389937</td>\n",
       "    </tr>\n",
       "    <tr>\n",
       "      <th>3</th>\n",
       "      <td>5.0</td>\n",
       "      <td>0.779671</td>\n",
       "      <td>0.817280</td>\n",
       "      <td>0.627507</td>\n",
       "      <td>0.898754</td>\n",
       "      <td>0.459119</td>\n",
       "    </tr>\n",
       "    <tr>\n",
       "      <th>4</th>\n",
       "      <td>6.0</td>\n",
       "      <td>0.780239</td>\n",
       "      <td>0.807824</td>\n",
       "      <td>0.648026</td>\n",
       "      <td>0.916667</td>\n",
       "      <td>0.412998</td>\n",
       "    </tr>\n",
       "    <tr>\n",
       "      <th>5</th>\n",
       "      <td>7.0</td>\n",
       "      <td>0.784781</td>\n",
       "      <td>0.833456</td>\n",
       "      <td>0.621287</td>\n",
       "      <td>0.880841</td>\n",
       "      <td>0.526205</td>\n",
       "    </tr>\n",
       "    <tr>\n",
       "      <th>6</th>\n",
       "      <td>8.0</td>\n",
       "      <td>0.764338</td>\n",
       "      <td>0.821614</td>\n",
       "      <td>0.575610</td>\n",
       "      <td>0.864486</td>\n",
       "      <td>0.494759</td>\n",
       "    </tr>\n",
       "    <tr>\n",
       "      <th>7</th>\n",
       "      <td>9.0</td>\n",
       "      <td>0.752413</td>\n",
       "      <td>0.818797</td>\n",
       "      <td>0.547564</td>\n",
       "      <td>0.848131</td>\n",
       "      <td>0.494759</td>\n",
       "    </tr>\n",
       "    <tr>\n",
       "      <th>8</th>\n",
       "      <td>10.0</td>\n",
       "      <td>0.737649</td>\n",
       "      <td>0.824132</td>\n",
       "      <td>0.515213</td>\n",
       "      <td>0.813863</td>\n",
       "      <td>0.532495</td>\n",
       "    </tr>\n",
       "    <tr>\n",
       "      <th>9</th>\n",
       "      <td>11.0</td>\n",
       "      <td>0.742760</td>\n",
       "      <td>0.828458</td>\n",
       "      <td>0.524194</td>\n",
       "      <td>0.816199</td>\n",
       "      <td>0.545073</td>\n",
       "    </tr>\n",
       "    <tr>\n",
       "      <th>10</th>\n",
       "      <td>12.0</td>\n",
       "      <td>0.731403</td>\n",
       "      <td>0.824141</td>\n",
       "      <td>0.503922</td>\n",
       "      <td>0.802960</td>\n",
       "      <td>0.538784</td>\n",
       "    </tr>\n",
       "    <tr>\n",
       "      <th>11</th>\n",
       "      <td>13.0</td>\n",
       "      <td>0.735378</td>\n",
       "      <td>0.827724</td>\n",
       "      <td>0.510721</td>\n",
       "      <td>0.804517</td>\n",
       "      <td>0.549266</td>\n",
       "    </tr>\n",
       "    <tr>\n",
       "      <th>12</th>\n",
       "      <td>14.0</td>\n",
       "      <td>0.729699</td>\n",
       "      <td>0.827922</td>\n",
       "      <td>0.500945</td>\n",
       "      <td>0.794393</td>\n",
       "      <td>0.555556</td>\n",
       "    </tr>\n",
       "  </tbody>\n",
       "</table>\n",
       "</div>"
      ],
      "text/plain": [
       "    Depth  Accuracy  Precision_No  Precision_Yes  Recall_No  Recall_Yes\n",
       "0     2.0  0.776831      0.802444       0.645833   0.920561    0.389937\n",
       "1     3.0  0.776831      0.802444       0.645833   0.920561    0.389937\n",
       "2     4.0  0.777399      0.802578       0.648084   0.921340    0.389937\n",
       "3     5.0  0.779671      0.817280       0.627507   0.898754    0.459119\n",
       "4     6.0  0.780239      0.807824       0.648026   0.916667    0.412998\n",
       "5     7.0  0.784781      0.833456       0.621287   0.880841    0.526205\n",
       "6     8.0  0.764338      0.821614       0.575610   0.864486    0.494759\n",
       "7     9.0  0.752413      0.818797       0.547564   0.848131    0.494759\n",
       "8    10.0  0.737649      0.824132       0.515213   0.813863    0.532495\n",
       "9    11.0  0.742760      0.828458       0.524194   0.816199    0.545073\n",
       "10   12.0  0.731403      0.824141       0.503922   0.802960    0.538784\n",
       "11   13.0  0.735378      0.827724       0.510721   0.804517    0.549266\n",
       "12   14.0  0.729699      0.827922       0.500945   0.794393    0.555556"
      ]
     },
     "execution_count": 236,
     "metadata": {},
     "output_type": "execute_result"
    }
   ],
   "source": [
    "tree_results"
   ]
  },
  {
   "cell_type": "markdown",
   "id": "saved-friend",
   "metadata": {},
   "source": [
    "## Identify and interpret churn drivers"
   ]
  },
  {
   "cell_type": "code",
   "execution_count": 240,
   "id": "congressional-kuwait",
   "metadata": {
    "ExecuteTime": {
     "end_time": "2021-06-21T22:11:02.153203Z",
     "start_time": "2021-06-21T22:11:02.142220Z"
    }
   },
   "outputs": [],
   "source": [
    "from sklearn import tree\n",
    "import graphviz"
   ]
  },
  {
   "cell_type": "code",
   "execution_count": 278,
   "id": "sapphire-pizza",
   "metadata": {
    "ExecuteTime": {
     "end_time": "2021-06-21T22:28:09.229556Z",
     "start_time": "2021-06-21T22:28:09.191629Z"
    }
   },
   "outputs": [],
   "source": [
    "exported = tree.export_graphviz(decision_tree=treemodel,\n",
    "                               out_file=None,\n",
    "                               feature_names=train_X.columns,\n",
    "                               precision=1,\n",
    "                               class_names=['Not churn','Churn'],\n",
    "                               filled = True)\n",
    "\n",
    "graph = graphviz.Source(exported)"
   ]
  },
  {
   "cell_type": "code",
   "execution_count": 281,
   "id": "prescription-leader",
   "metadata": {
    "ExecuteTime": {
     "end_time": "2021-06-21T22:30:38.441193Z",
     "start_time": "2021-06-21T22:30:38.432221Z"
    }
   },
   "outputs": [],
   "source": [
    "#display(graph)"
   ]
  },
  {
   "cell_type": "markdown",
   "id": "weekly-reader",
   "metadata": {},
   "source": [
    "### the coefficient for odds"
   ]
  },
  {
   "cell_type": "code",
   "execution_count": 271,
   "id": "commercial-locator",
   "metadata": {
    "ExecuteTime": {
     "end_time": "2021-06-21T22:24:19.416930Z",
     "start_time": "2021-06-21T22:24:19.406954Z"
    }
   },
   "outputs": [],
   "source": [
    "feature_names = pd.DataFrame(train_X.columns, columns = ['Feature'])\n",
    "log_coef = pd.DataFrame(np.transpose(logreg.coef_), columns = ['Coefficient'])\n",
    "coefficients = pd.concat([feature_names, log_coef], axis = 1)"
   ]
  },
  {
   "cell_type": "code",
   "execution_count": 272,
   "id": "assumed-lottery",
   "metadata": {
    "ExecuteTime": {
     "end_time": "2021-06-21T22:24:22.499193Z",
     "start_time": "2021-06-21T22:24:22.483236Z"
    }
   },
   "outputs": [
    {
     "name": "stdout",
     "output_type": "stream",
     "text": [
      "                           Feature  Coefficient  Exp_Coefficient\n",
      "27                          tenure    -0.827912         0.436961\n",
      "4                 PhoneService_Yes    -0.789483         0.454080\n",
      "22               Contract_Two year    -0.643787         0.525299\n",
      "16                 TechSupport_Yes    -0.452694         0.635913\n",
      "10              OnlineSecurity_Yes    -0.413132         0.661575\n",
      "21               Contract_One year    -0.406172         0.666196\n",
      "3                   Dependents_Yes    -0.152704         0.858384\n",
      "12                OnlineBackup_Yes    -0.121862         0.885270\n",
      "14            DeviceProtection_Yes    -0.067107         0.935095\n",
      "2                      Partner_Yes    -0.064901         0.937160\n",
      "23            PaperlessBilling_Yes     0.103254         1.108773\n",
      "25  PaymentMethod_Electronic check     0.259203         1.295897\n",
      "28                  MonthlyCharges     0.879866         2.410577\n"
     ]
    }
   ],
   "source": [
    "coefficients.columns = ['Feature','Coefficient']\n",
    "coefficients['Exp_Coefficient'] = np.exp(coefficients['Coefficient'])\n",
    "\n",
    "coefficients = coefficients[coefficients['Coefficient']!=0]\n",
    "print(coefficients.sort_values(by=['Exp_Coefficient']))"
   ]
  },
  {
   "cell_type": "markdown",
   "id": "increasing-logic",
   "metadata": {},
   "source": [
    "The coefficients can be interpreted as the change in log-odds of the churn associated with 1 unit increase in the input feature value. For example if the input feature is tenure in years, then increase in the tenure by one year will have an effect equal to the coefficient to the log-odds"
   ]
  },
  {
   "cell_type": "markdown",
   "id": "above-frost",
   "metadata": {},
   "source": [
    "The interpretation of the coefficient for odds is as follows - values less than 1 decrease the odds, and values more than 1 increase the odds. The effect on the odds is calculated by multiplying the exponent of the coefficient. So the effect of one additional year of tenure decreases the odds of churn by 1 minus 0.403."
   ]
  },
  {
   "cell_type": "code",
   "execution_count": null,
   "id": "positive-richardson",
   "metadata": {},
   "outputs": [],
   "source": []
  }
 ],
 "metadata": {
  "kernelspec": {
   "display_name": "Python 3",
   "language": "python",
   "name": "python3"
  },
  "language_info": {
   "codemirror_mode": {
    "name": "ipython",
    "version": 3
   },
   "file_extension": ".py",
   "mimetype": "text/x-python",
   "name": "python",
   "nbconvert_exporter": "python",
   "pygments_lexer": "ipython3",
   "version": "3.6.4"
  },
  "toc": {
   "base_numbering": 1,
   "nav_menu": {},
   "number_sections": true,
   "sideBar": true,
   "skip_h1_title": false,
   "title_cell": "Table of Contents",
   "title_sidebar": "Contents",
   "toc_cell": false,
   "toc_position": {},
   "toc_section_display": true,
   "toc_window_display": false
  }
 },
 "nbformat": 4,
 "nbformat_minor": 5
}
