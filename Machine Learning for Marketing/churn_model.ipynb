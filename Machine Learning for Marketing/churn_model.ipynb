{
 "cells": [
  {
   "cell_type": "markdown",
   "id": "earlier-abraham",
   "metadata": {},
   "source": [
    "# Churn prediction "
   ]
  },
  {
   "cell_type": "markdown",
   "id": "basic-bonus",
   "metadata": {},
   "source": [
    "Churn definition will depend on the company and its business model, but essentially churn event happens when a customer stops buying a product, using a service, or engaging with a product or application. Churn can happen in either a contractual or non-contractual business context. \n",
    "\n",
    "Contractual churn happens when customers explicitly cancel a service or subscription, while non-contractual is harder to observe and requires in-depth data exploration. Also, churn can be viewed as either voluntary or involuntary. Voluntary churn means customers decided to stop using the product or a service, while involuntary churn happens when customers fail to automatically update their subscription due to credit card expiration or other blockers."
   ]
  },
  {
   "cell_type": "markdown",
   "id": "obvious-sister",
   "metadata": {},
   "source": [
    "## Explore churn rate"
   ]
  },
  {
   "cell_type": "code",
   "execution_count": 5,
   "id": "noticed-corps",
   "metadata": {
    "ExecuteTime": {
     "end_time": "2021-06-21T02:29:25.357046Z",
     "start_time": "2021-06-21T02:29:24.358562Z"
    }
   },
   "outputs": [],
   "source": [
    "import pandas as pd\n",
    "import numpy as np"
   ]
  },
  {
   "cell_type": "code",
   "execution_count": 6,
   "id": "smart-offer",
   "metadata": {
    "ExecuteTime": {
     "end_time": "2021-06-21T02:29:26.407836Z",
     "start_time": "2021-06-21T02:29:26.370579Z"
    }
   },
   "outputs": [],
   "source": [
    "telco_raw = pd.read_csv('telco.csv',';')"
   ]
  },
  {
   "cell_type": "code",
   "execution_count": 7,
   "id": "ranking-citizen",
   "metadata": {
    "ExecuteTime": {
     "end_time": "2021-06-21T02:29:27.995902Z",
     "start_time": "2021-06-21T02:29:27.976953Z"
    }
   },
   "outputs": [
    {
     "name": "stdout",
     "output_type": "stream",
     "text": [
      "{'Yes', 'No'}\n"
     ]
    }
   ],
   "source": [
    "print(set(telco_raw['Churn']))"
   ]
  },
  {
   "cell_type": "code",
   "execution_count": 10,
   "id": "seeing-tribute",
   "metadata": {
    "ExecuteTime": {
     "end_time": "2021-06-21T02:30:19.003651Z",
     "start_time": "2021-06-21T02:30:18.075555Z"
    }
   },
   "outputs": [
    {
     "data": {
      "text/plain": [
       "Churn\n",
       "No     73.463013\n",
       "Yes    26.536987\n",
       "dtype: float64"
      ]
     },
     "execution_count": 10,
     "metadata": {},
     "output_type": "execute_result"
    }
   ],
   "source": [
    "# Calculate the ratio size of each churn group\n",
    "telco_raw.groupby(['Churn']).size() / telco_raw.shape[0] * 100"
   ]
  },
  {
   "cell_type": "markdown",
   "id": "injured-kingdom",
   "metadata": {},
   "source": [
    "## Target and Features"
   ]
  },
  {
   "cell_type": "code",
   "execution_count": 19,
   "id": "blank-intermediate",
   "metadata": {
    "ExecuteTime": {
     "end_time": "2021-06-21T02:35:59.027782Z",
     "start_time": "2021-06-21T02:35:59.010852Z"
    }
   },
   "outputs": [],
   "source": [
    "custid = ['customerID']\n",
    "target = ['Churn']\n",
    "\n",
    "features = [col for col in telco.columns\n",
    "                if col not in custid+target]\n",
    "\n",
    "X = telco[features]\n",
    "Y = telco[target]"
   ]
  },
  {
   "cell_type": "code",
   "execution_count": 12,
   "id": "metallic-harrison",
   "metadata": {
    "ExecuteTime": {
     "end_time": "2021-06-21T02:34:29.158078Z",
     "start_time": "2021-06-21T02:34:29.105986Z"
    }
   },
   "outputs": [],
   "source": [
    "categorical = telco_raw.nunique()[telco_raw.nunique()<10].keys().tolist()\n",
    "categorical.remove(target[0])\n",
    "\n",
    "numerical = [col for col in telco_raw.columns\n",
    "                if col not in custid+target+categorical]"
   ]
  },
  {
   "cell_type": "code",
   "execution_count": 14,
   "id": "welsh-tenant",
   "metadata": {
    "ExecuteTime": {
     "end_time": "2021-06-21T02:35:01.206655Z",
     "start_time": "2021-06-21T02:35:01.167846Z"
    }
   },
   "outputs": [],
   "source": [
    "telco_raw = pd.get_dummies(data=telco_raw, columns=categorical, drop_first=True)"
   ]
  },
  {
   "cell_type": "markdown",
   "id": "comfortable-penalty",
   "metadata": {},
   "source": [
    "## Scaling"
   ]
  },
  {
   "cell_type": "code",
   "execution_count": 13,
   "id": "miniature-purple",
   "metadata": {
    "ExecuteTime": {
     "end_time": "2021-06-21T02:34:58.228832Z",
     "start_time": "2021-06-21T02:34:58.223846Z"
    }
   },
   "outputs": [],
   "source": [
    "from sklearn.preprocessing import StandardScaler"
   ]
  },
  {
   "cell_type": "code",
   "execution_count": 16,
   "id": "standing-ratio",
   "metadata": {
    "ExecuteTime": {
     "end_time": "2021-06-21T02:35:25.682614Z",
     "start_time": "2021-06-21T02:35:25.664634Z"
    }
   },
   "outputs": [],
   "source": [
    "scaler = StandardScaler()\n",
    "\n",
    "scaled_numerical = scaler.fit_transform(telco_raw[numerical])\n",
    "scaled_numerical = pd.DataFrame(scaled_numerical, columns=numerical)"
   ]
  },
  {
   "cell_type": "code",
   "execution_count": 17,
   "id": "straight-defeat",
   "metadata": {
    "ExecuteTime": {
     "end_time": "2021-06-21T02:35:27.320325Z",
     "start_time": "2021-06-21T02:35:27.312315Z"
    }
   },
   "outputs": [],
   "source": [
    "telco_raw = telco_raw.drop(columns=numerical, axis=1)\n",
    "telco = telco_raw.merge(right= scaled_numerical, how = 'left', left_index=True, right_index=True)"
   ]
  },
  {
   "cell_type": "markdown",
   "id": "immune-hydrogen",
   "metadata": {},
   "source": [
    "## Predict churn with logistic regression"
   ]
  },
  {
   "cell_type": "code",
   "execution_count": 29,
   "id": "dried-conservative",
   "metadata": {
    "ExecuteTime": {
     "end_time": "2021-06-21T02:47:21.790404Z",
     "start_time": "2021-06-21T02:47:21.772421Z"
    }
   },
   "outputs": [],
   "source": [
    "from sklearn.linear_model import LogisticRegression\n",
    "from sklearn.model_selection import train_test_split\n",
    "from sklearn.metrics import accuracy_score, precision_score, recall_score"
   ]
  },
  {
   "cell_type": "code",
   "execution_count": 21,
   "id": "academic-radical",
   "metadata": {
    "ExecuteTime": {
     "end_time": "2021-06-21T02:37:18.969958Z",
     "start_time": "2021-06-21T02:37:18.954771Z"
    }
   },
   "outputs": [],
   "source": [
    "train_X, test_X, train_Y, test_Y = train_test_split(X,Y, test_size=0.25)"
   ]
  },
  {
   "cell_type": "code",
   "execution_count": 31,
   "id": "demanding-setup",
   "metadata": {
    "ExecuteTime": {
     "end_time": "2021-06-21T02:48:38.447601Z",
     "start_time": "2021-06-21T02:48:38.439617Z"
    }
   },
   "outputs": [],
   "source": [
    "logreg = LogisticRegression(penalty='l1',C=0.1, solver='liblinear')"
   ]
  },
  {
   "cell_type": "code",
   "execution_count": 32,
   "id": "threaded-retirement",
   "metadata": {
    "ExecuteTime": {
     "end_time": "2021-06-21T02:48:49.744825Z",
     "start_time": "2021-06-21T02:48:49.692918Z"
    }
   },
   "outputs": [
    {
     "name": "stderr",
     "output_type": "stream",
     "text": [
      "C:\\Anaconda3\\lib\\site-packages\\sklearn\\utils\\validation.py:63: DataConversionWarning: A column-vector y was passed when a 1d array was expected. Please change the shape of y to (n_samples, ), for example using ravel().\n",
      "  return f(*args, **kwargs)\n"
     ]
    },
    {
     "data": {
      "text/plain": [
       "LogisticRegression(C=0.1, penalty='l1', solver='liblinear')"
      ]
     },
     "execution_count": 32,
     "metadata": {},
     "output_type": "execute_result"
    }
   ],
   "source": [
    "logreg.fit(train_X, train_Y)"
   ]
  },
  {
   "cell_type": "code",
   "execution_count": 24,
   "id": "together-diagnosis",
   "metadata": {
    "ExecuteTime": {
     "end_time": "2021-06-21T02:42:10.745325Z",
     "start_time": "2021-06-21T02:42:10.729370Z"
    }
   },
   "outputs": [],
   "source": [
    "pred_train_Y = logreg.predict(train_X)\n",
    "pred_test_Y = logreg.predict(test_X)"
   ]
  },
  {
   "cell_type": "markdown",
   "id": "satisfactory-religion",
   "metadata": {},
   "source": [
    "### Model performance Metrics"
   ]
  },
  {
   "cell_type": "markdown",
   "id": "retired-ideal",
   "metadata": {},
   "source": [
    "Key metrics\n",
    "\n",
    "* Accuracy - The % of the correctly predicted labels (both Chirn and non Churn)\n",
    "* Precision - The % of total model's positive class prediction (here - predicted as Cgurn) that were correctly classified\n",
    "* Recal - The % total positive class samples (all churned customers) that were correctly classified"
   ]
  },
  {
   "cell_type": "code",
   "execution_count": 25,
   "id": "unavailable-immunology",
   "metadata": {
    "ExecuteTime": {
     "end_time": "2021-06-21T02:43:07.112387Z",
     "start_time": "2021-06-21T02:43:07.098457Z"
    }
   },
   "outputs": [],
   "source": [
    "train_accuracy = accuracy_score(train_Y, pred_train_Y)\n",
    "test_accuracy = accuracy_score(test_Y, pred_test_Y)"
   ]
  },
  {
   "cell_type": "code",
   "execution_count": 26,
   "id": "injured-punishment",
   "metadata": {
    "ExecuteTime": {
     "end_time": "2021-06-21T02:43:42.877042Z",
     "start_time": "2021-06-21T02:43:42.867076Z"
    }
   },
   "outputs": [
    {
     "name": "stdout",
     "output_type": "stream",
     "text": [
      "Training accuracy: 0.8035\n",
      "Test accuracy: 0.8143\n"
     ]
    }
   ],
   "source": [
    "print('Training accuracy:', round(train_accuracy,4))\n",
    "print('Test accuracy:', round(test_accuracy,4))"
   ]
  },
  {
   "cell_type": "code",
   "execution_count": 30,
   "id": "worse-cattle",
   "metadata": {
    "ExecuteTime": {
     "end_time": "2021-06-21T02:47:31.993195Z",
     "start_time": "2021-06-21T02:47:31.965269Z"
    }
   },
   "outputs": [
    {
     "ename": "ValueError",
     "evalue": "pos_label=1 is not a valid label. It should be one of ['No', 'Yes']",
     "output_type": "error",
     "traceback": [
      "\u001b[1;31m---------------------------------------------------------------------------\u001b[0m",
      "\u001b[1;31mValueError\u001b[0m                                Traceback (most recent call last)",
      "\u001b[1;32m<ipython-input-30-38072ac57e10>\u001b[0m in \u001b[0;36m<module>\u001b[1;34m\u001b[0m\n\u001b[1;32m----> 1\u001b[1;33m \u001b[0mtrain_precision\u001b[0m \u001b[1;33m=\u001b[0m \u001b[0mround\u001b[0m\u001b[1;33m(\u001b[0m\u001b[0mprecision_score\u001b[0m\u001b[1;33m(\u001b[0m\u001b[0mtrain_Y\u001b[0m\u001b[1;33m,\u001b[0m \u001b[0mpred_train_Y\u001b[0m\u001b[1;33m)\u001b[0m\u001b[1;33m,\u001b[0m\u001b[1;36m4\u001b[0m\u001b[1;33m)\u001b[0m\u001b[1;33m\u001b[0m\u001b[0m\n\u001b[0m\u001b[0;32m      2\u001b[0m \u001b[0mtest_precision\u001b[0m \u001b[1;33m=\u001b[0m \u001b[0mround\u001b[0m\u001b[1;33m(\u001b[0m\u001b[0mprecision_score\u001b[0m\u001b[1;33m(\u001b[0m\u001b[0mtest_Y\u001b[0m\u001b[1;33m,\u001b[0m \u001b[0mpred_test_Y\u001b[0m\u001b[1;33m)\u001b[0m\u001b[1;33m,\u001b[0m\u001b[1;36m4\u001b[0m\u001b[1;33m)\u001b[0m\u001b[1;33m\u001b[0m\u001b[0m\n",
      "\u001b[1;32mC:\\Anaconda3\\lib\\site-packages\\sklearn\\utils\\validation.py\u001b[0m in \u001b[0;36minner_f\u001b[1;34m(*args, **kwargs)\u001b[0m\n\u001b[0;32m     61\u001b[0m             \u001b[0mextra_args\u001b[0m \u001b[1;33m=\u001b[0m \u001b[0mlen\u001b[0m\u001b[1;33m(\u001b[0m\u001b[0margs\u001b[0m\u001b[1;33m)\u001b[0m \u001b[1;33m-\u001b[0m \u001b[0mlen\u001b[0m\u001b[1;33m(\u001b[0m\u001b[0mall_args\u001b[0m\u001b[1;33m)\u001b[0m\u001b[1;33m\u001b[0m\u001b[0m\n\u001b[0;32m     62\u001b[0m             \u001b[1;32mif\u001b[0m \u001b[0mextra_args\u001b[0m \u001b[1;33m<=\u001b[0m \u001b[1;36m0\u001b[0m\u001b[1;33m:\u001b[0m\u001b[1;33m\u001b[0m\u001b[0m\n\u001b[1;32m---> 63\u001b[1;33m                 \u001b[1;32mreturn\u001b[0m \u001b[0mf\u001b[0m\u001b[1;33m(\u001b[0m\u001b[1;33m*\u001b[0m\u001b[0margs\u001b[0m\u001b[1;33m,\u001b[0m \u001b[1;33m**\u001b[0m\u001b[0mkwargs\u001b[0m\u001b[1;33m)\u001b[0m\u001b[1;33m\u001b[0m\u001b[0m\n\u001b[0m\u001b[0;32m     64\u001b[0m \u001b[1;33m\u001b[0m\u001b[0m\n\u001b[0;32m     65\u001b[0m             \u001b[1;31m# extra_args > 0\u001b[0m\u001b[1;33m\u001b[0m\u001b[1;33m\u001b[0m\u001b[0m\n",
      "\u001b[1;32mC:\\Anaconda3\\lib\\site-packages\\sklearn\\metrics\\_classification.py\u001b[0m in \u001b[0;36mprecision_score\u001b[1;34m(y_true, y_pred, labels, pos_label, average, sample_weight, zero_division)\u001b[0m\n\u001b[0;32m   1657\u001b[0m                                                  \u001b[0mwarn_for\u001b[0m\u001b[1;33m=\u001b[0m\u001b[1;33m(\u001b[0m\u001b[1;34m'precision'\u001b[0m\u001b[1;33m,\u001b[0m\u001b[1;33m)\u001b[0m\u001b[1;33m,\u001b[0m\u001b[1;33m\u001b[0m\u001b[0m\n\u001b[0;32m   1658\u001b[0m                                                  \u001b[0msample_weight\u001b[0m\u001b[1;33m=\u001b[0m\u001b[0msample_weight\u001b[0m\u001b[1;33m,\u001b[0m\u001b[1;33m\u001b[0m\u001b[0m\n\u001b[1;32m-> 1659\u001b[1;33m                                                  zero_division=zero_division)\n\u001b[0m\u001b[0;32m   1660\u001b[0m     \u001b[1;32mreturn\u001b[0m \u001b[0mp\u001b[0m\u001b[1;33m\u001b[0m\u001b[0m\n\u001b[0;32m   1661\u001b[0m \u001b[1;33m\u001b[0m\u001b[0m\n",
      "\u001b[1;32mC:\\Anaconda3\\lib\\site-packages\\sklearn\\utils\\validation.py\u001b[0m in \u001b[0;36minner_f\u001b[1;34m(*args, **kwargs)\u001b[0m\n\u001b[0;32m     61\u001b[0m             \u001b[0mextra_args\u001b[0m \u001b[1;33m=\u001b[0m \u001b[0mlen\u001b[0m\u001b[1;33m(\u001b[0m\u001b[0margs\u001b[0m\u001b[1;33m)\u001b[0m \u001b[1;33m-\u001b[0m \u001b[0mlen\u001b[0m\u001b[1;33m(\u001b[0m\u001b[0mall_args\u001b[0m\u001b[1;33m)\u001b[0m\u001b[1;33m\u001b[0m\u001b[0m\n\u001b[0;32m     62\u001b[0m             \u001b[1;32mif\u001b[0m \u001b[0mextra_args\u001b[0m \u001b[1;33m<=\u001b[0m \u001b[1;36m0\u001b[0m\u001b[1;33m:\u001b[0m\u001b[1;33m\u001b[0m\u001b[0m\n\u001b[1;32m---> 63\u001b[1;33m                 \u001b[1;32mreturn\u001b[0m \u001b[0mf\u001b[0m\u001b[1;33m(\u001b[0m\u001b[1;33m*\u001b[0m\u001b[0margs\u001b[0m\u001b[1;33m,\u001b[0m \u001b[1;33m**\u001b[0m\u001b[0mkwargs\u001b[0m\u001b[1;33m)\u001b[0m\u001b[1;33m\u001b[0m\u001b[0m\n\u001b[0m\u001b[0;32m     64\u001b[0m \u001b[1;33m\u001b[0m\u001b[0m\n\u001b[0;32m     65\u001b[0m             \u001b[1;31m# extra_args > 0\u001b[0m\u001b[1;33m\u001b[0m\u001b[1;33m\u001b[0m\u001b[0m\n",
      "\u001b[1;32mC:\\Anaconda3\\lib\\site-packages\\sklearn\\metrics\\_classification.py\u001b[0m in \u001b[0;36mprecision_recall_fscore_support\u001b[1;34m(y_true, y_pred, beta, labels, pos_label, average, warn_for, sample_weight, zero_division)\u001b[0m\n\u001b[0;32m   1460\u001b[0m         \u001b[1;32mraise\u001b[0m \u001b[0mValueError\u001b[0m\u001b[1;33m(\u001b[0m\u001b[1;34m\"beta should be >=0 in the F-beta score\"\u001b[0m\u001b[1;33m)\u001b[0m\u001b[1;33m\u001b[0m\u001b[0m\n\u001b[0;32m   1461\u001b[0m     labels = _check_set_wise_labels(y_true, y_pred, average, labels,\n\u001b[1;32m-> 1462\u001b[1;33m                                     pos_label)\n\u001b[0m\u001b[0;32m   1463\u001b[0m \u001b[1;33m\u001b[0m\u001b[0m\n\u001b[0;32m   1464\u001b[0m     \u001b[1;31m# Calculate tp_sum, pred_sum, true_sum ###\u001b[0m\u001b[1;33m\u001b[0m\u001b[1;33m\u001b[0m\u001b[0m\n",
      "\u001b[1;32mC:\\Anaconda3\\lib\\site-packages\\sklearn\\metrics\\_classification.py\u001b[0m in \u001b[0;36m_check_set_wise_labels\u001b[1;34m(y_true, y_pred, average, labels, pos_label)\u001b[0m\n\u001b[0;32m   1281\u001b[0m                 \u001b[1;32mif\u001b[0m \u001b[0mlen\u001b[0m\u001b[1;33m(\u001b[0m\u001b[0mpresent_labels\u001b[0m\u001b[1;33m)\u001b[0m \u001b[1;33m>=\u001b[0m \u001b[1;36m2\u001b[0m\u001b[1;33m:\u001b[0m\u001b[1;33m\u001b[0m\u001b[0m\n\u001b[0;32m   1282\u001b[0m                     raise ValueError(\n\u001b[1;32m-> 1283\u001b[1;33m                         \u001b[1;34mf\"pos_label={pos_label} is not a valid label. It \"\u001b[0m\u001b[1;33m\u001b[0m\u001b[0m\n\u001b[0m\u001b[0;32m   1284\u001b[0m                         \u001b[1;34mf\"should be one of {present_labels}\"\u001b[0m\u001b[1;33m\u001b[0m\u001b[0m\n\u001b[0;32m   1285\u001b[0m                     )\n",
      "\u001b[1;31mValueError\u001b[0m: pos_label=1 is not a valid label. It should be one of ['No', 'Yes']"
     ]
    }
   ],
   "source": [
    "train_precision = round(precision_score(train_Y, pred_train_Y),4)\n",
    "test_precision = round(precision_score(test_Y, pred_test_Y),4)"
   ]
  },
  {
   "cell_type": "code",
   "execution_count": null,
   "id": "clear-honey",
   "metadata": {},
   "outputs": [],
   "source": [
    "print('Training precision:', round(train_precision,4))\n",
    "print('Test precision:', round(test_precision,4))"
   ]
  },
  {
   "cell_type": "code",
   "execution_count": null,
   "id": "sonic-arrow",
   "metadata": {},
   "outputs": [],
   "source": [
    "train_recall = round(recall_score(train_Y, pred_train_Y),4)\n",
    "test_recall = round(recall_score(test_Y, pred_test_Y),4)"
   ]
  },
  {
   "cell_type": "code",
   "execution_count": null,
   "id": "logical-wellington",
   "metadata": {},
   "outputs": [],
   "source": [
    "print('Training recall:', round(train_accuracy,4))\n",
    "print('Test recall:', round(test_accuracy,4))"
   ]
  },
  {
   "cell_type": "code",
   "execution_count": null,
   "id": "turkish-karma",
   "metadata": {},
   "outputs": [],
   "source": []
  }
 ],
 "metadata": {
  "kernelspec": {
   "display_name": "Python 3",
   "language": "python",
   "name": "python3"
  },
  "language_info": {
   "codemirror_mode": {
    "name": "ipython",
    "version": 3
   },
   "file_extension": ".py",
   "mimetype": "text/x-python",
   "name": "python",
   "nbconvert_exporter": "python",
   "pygments_lexer": "ipython3",
   "version": "3.6.4"
  },
  "toc": {
   "base_numbering": 1,
   "nav_menu": {},
   "number_sections": true,
   "sideBar": true,
   "skip_h1_title": false,
   "title_cell": "Table of Contents",
   "title_sidebar": "Contents",
   "toc_cell": false,
   "toc_position": {},
   "toc_section_display": true,
   "toc_window_display": false
  }
 },
 "nbformat": 4,
 "nbformat_minor": 5
}
